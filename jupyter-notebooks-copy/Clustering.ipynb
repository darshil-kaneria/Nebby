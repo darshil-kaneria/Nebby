{
 "cells": [
  {
   "cell_type": "markdown",
   "id": "c70149e1",
   "metadata": {},
   "source": [
    "# Big Problem : Clustering CCs from BIF "
   ]
  },
  {
   "cell_type": "markdown",
   "id": "394837d7",
   "metadata": {},
   "source": [
    "## Running the fit approach on all the algos"
   ]
  },
  {
   "cell_type": "code",
   "execution_count": null,
   "id": "532e5b73",
   "metadata": {},
   "outputs": [],
   "source": [
    "from sklearn.metrics import mean_squared_error as mse\n",
    "def get_degree(time, data, p=\"n\", check=50):\n",
    "    p = []\n",
    "    mse_l = []\n",
    "    time -= min(time)\n",
    "    data -= min(data)\n",
    "    data /= 1000\n",
    "    p1 = np.polyfit(time, data, 1)\n",
    "    p.append(p1)\n",
    "    fit_l = np.polyval(p1, time)\n",
    "    \n",
    "    p2 = np.polyfit(time, data, 2)\n",
    "    p.append(p2)\n",
    "    fit_q = np.polyval(p2, time)\n",
    "    \n",
    "    p3 = np.polyfit(time, data, 3)\n",
    "    p.append(p3)\n",
    "    fit_c = np.polyval(p3, time)\n",
    "    mse_l.append(mse(data, fit_l))\n",
    "    mse_l.append(mse(data, fit_q))\n",
    "    mse_l.append(mse(data, fit_c))\n",
    "    if p =='y':\n",
    "        print(\"1 \", p1, \"MSE \", mse(data, fit_l))\n",
    "        print(\"2 \", p2, \"MSE \", mse(data, fit_q))\n",
    "        print(\"3 \", p3, \"MSE \", mse(data, fit_c))\n",
    "        plt.plot(time, data)\n",
    "        plt.plot(time, fit_l)\n",
    "        plt.plot(time, fit_q)\n",
    "        plt.plot(time, fit_c)\n",
    "        plt.show()\n",
    "    check = check\n",
    "    if mse_l[1] < 0.50*mse_l[0] :\n",
    "        if mse_l[2] < 0.50*mse_l[1] :\n",
    "            degree = 3\n",
    "        else :\n",
    "            degree = 2\n",
    "    else :\n",
    "        degree = 1\n",
    "#         if 0.5*(mse_l[0]-mse_l[1]) > mse_l[1]-mse_la :\n",
    "#         a[2] :\n",
    "#             degree = 1\n",
    "#         else:\n",
    "#             degree = 2\n",
    "#     else:\n",
    "#         degree = 0\n",
    "#     if mse_l[2#     for i in 1](0,len(mse_l)-1):\n",
    "#         diff = abs(mse_l[len(mse_l)-1] - mse_l[i])\n",
    "#         perc = (diff/mse_l[len(mse_l)-1])*100\n",
    "#         if perc < check :\n",
    "#             return i+1,p[i], mse_l\n",
    "    return degree, p[degree-1], mse_l\n",
    "#     return 3,p[2], mse_l\n",
    "# get_degree(time, data)"
   ]
  },
  {
   "cell_type": "code",
   "execution_count": null,
   "id": "f8644943",
   "metadata": {},
   "outputs": [],
   "source": [
    "var = \"bic cdg dctcp highspeed htcp hybla illinois lp nv scalable vegas veno westwood yeah cubic reno\"\n",
    "var = var.split(\" \")\n",
    "print(var)"
   ]
  },
  {
   "cell_type": "code",
   "execution_count": null,
   "id": "b844f8a0",
   "metadata": {
    "scrolled": false
   },
   "outputs": [],
   "source": [
    "results = getRed(var)\n"
   ]
  },
  {
   "cell_type": "code",
   "execution_count": null,
   "id": "7ce455da",
   "metadata": {},
   "outputs": [],
   "source": [
    "errors = []\n",
    "mp = {}\n",
    "lin = {}\n",
    "quad = {}\n",
    "cub = {}\n",
    "cc_mp = {}\n",
    "for item in results :\n",
    "    for ele in list(item.keys()):\n",
    "        name_list = ele.split(\"_\")\n",
    "        cc = name_list[0]\n",
    "        name = name_list[0] + name_list[-1]\n",
    "        if \"data\" in ele :\n",
    "            curr_data = np.array(item[ele])\n",
    "        if \"time\" in ele :\n",
    "            curr_time = np.array(item[ele])\n",
    "    degree, coeff, error_item = get_degree(curr_time, curr_data, check=25)\n",
    "    mp[name] = {'d':degree, 'coeff':coeff, 'error':error_item, 'data':curr_data, 'time':curr_time}\n",
    "    if cc not in cc_mp :\n",
    "        cc_mp[cc] = []\n",
    "    cc_mp[cc].append(mp[name])\n",
    "    if degree == 1 :\n",
    "        lin[name] = mp[name]\n",
    "    if degree == 2:\n",
    "        quad[name] = mp[name]\n",
    "    if degree == 3:\n",
    "        cub[name] = mp[name]\n",
    "    error_item.append(name)\n",
    "    error_item.append(degree)\n",
    "    errors.append(error_item)"
   ]
  },
  {
   "cell_type": "code",
   "execution_count": null,
   "id": "3ae427a2",
   "metadata": {},
   "outputs": [],
   "source": [
    "for item in errors :\n",
    "    print(item)"
   ]
  },
  {
   "cell_type": "code",
   "execution_count": null,
   "id": "a684212e",
   "metadata": {
    "scrolled": true
   },
   "outputs": [],
   "source": [
    "def getCC(var,s=100):\n",
    "    for v in var :\n",
    "        file = v + \"-0-50-1000-2\"\n",
    "        curr_file = [file]\n",
    "        features, time, data = get_new_grad(curr_file, 'y')\n",
    "        count = 0\n",
    "        n = math.ceil(float(len(cc_mp[v]))/3)\n",
    "        for item in cc_mp[v]:\n",
    "            time = item['time']\n",
    "            data = item['data']\n",
    "#             time -= min(time)\n",
    "#             data -= min(data)\n",
    "#             data /= 1000\n",
    "            deg = item['d']\n",
    "            plt.plot(time,data)\n",
    "#                 print(dic[names[c]]['coeff'])\n",
    "            plt.plot(time, np.polyval(item['coeff'],time))\n",
    "            xlim = 0\n",
    "            ylim = 0\n",
    "            for i in [0.5,1,2,4,8,16]:\n",
    "                if time[-1]<i:\n",
    "                    xlim = i\n",
    "                    break\n",
    "            for i in [0.5,1,2,4,8,16]:\n",
    "                if data[-1]<i:\n",
    "                    ylim = i\n",
    "                    break\n",
    "#             if data[-1] < 1 :\n",
    "            lim = max(xlim, ylim)\n",
    "            plt.xlim(0,lim)\n",
    "            plt.ylim(0,lim)\n",
    "            names = ['Linear', \"Quadratic\", \"Cubic\"]\n",
    "            plt.title(str(count)+\" \" + names[deg-1])\n",
    "            count+=1\n",
    "            plt.show()\n",
    "            plt.figure().set_figwidth(4)\n",
    "            plt.figure().set_figheight(2)\n",
    "            plt.bar([i for i in range(1,deg+2)], item['coeff'])\n",
    "            plt.show()\n",
    "            plt.figure().set_figwidth(4)\n",
    "            plt.figure().set_figheight(2)\n",
    "            plt.bar([1,2,3], item['error'][0:3], tick_label=['lin', 'quad', 'cubic'])\n",
    "            plt.show()"
   ]
  },
  {
   "cell_type": "code",
   "execution_count": null,
   "id": "2b6b51d5",
   "metadata": {
    "scrolled": false
   },
   "outputs": [],
   "source": [
    "getCC(var)"
   ]
  },
  {
   "cell_type": "code",
   "execution_count": null,
   "id": "fd85e3ee",
   "metadata": {},
   "outputs": [],
   "source": []
  },
  {
   "cell_type": "code",
   "execution_count": null,
   "id": "320ab5e4",
   "metadata": {},
   "outputs": [],
   "source": [
    "def plot_dict(dic):\n",
    "    n = math.ceil(float(len(dic.items()))/3)\n",
    "    fig, ax = plt.subplots(n,3,figsize=(20,20))\n",
    "    names = list(dic.keys())\n",
    "    c = 0\n",
    "    for i in range(n):\n",
    "        for j in range(3):\n",
    "            if c < len(names):\n",
    "                time = dic[names[c]]['time']\n",
    "                data = dic[names[c]]['data']\n",
    "                time -= mean(time)\n",
    "                data -= mean(data)\n",
    "                data /= (max(abs(min(data)), abs(max(data))))\n",
    "                deg = dic[names[c]]['d']\n",
    "                ax[i,j].plot(time,data)\n",
    "#                 print(dic[names[c]]['coeff'])\n",
    "                ax[i,j].plot(time, np.polyval(dic[names[c]]['coeff'],time))\n",
    "                ax[i,j].set_title(str(names[c])+\" \" + str(deg) + \" \" + str(round(dic[names[c]]['coeff'][deg-1],2)))\n",
    "            c+=1\n",
    "plot_dict(lin)"
   ]
  },
  {
   "cell_type": "code",
   "execution_count": null,
   "id": "c9b00532",
   "metadata": {},
   "outputs": [],
   "source": [
    "plot_dict(quad)"
   ]
  },
  {
   "cell_type": "code",
   "execution_count": null,
   "id": "fc471304",
   "metadata": {},
   "outputs": [],
   "source": [
    "plot_dict(cub)"
   ]
  },
  {
   "cell_type": "code",
   "execution_count": null,
   "id": "fa4ad6e8",
   "metadata": {},
   "outputs": [],
   "source": []
  },
  {
   "cell_type": "markdown",
   "id": "a2e88830",
   "metadata": {},
   "source": [
    "### NOTE ###\n",
    "##### First copy all the files in measurements/control to measurements, i.e. move them out of the control folder\n",
    "You will have to run a bunch of cells before starting to do anything\n",
    "1. Run the block which says code will all dependencies\n",
    "2. Run the blocks below the heading that have \"Run the code below\" in them\n",
    "\n",
    "Download the dependencies : \n",
    "fastdtw\n",
    "scipy\n",
    "matplotlib\n",
    "numpy\n",
    "pandas  \n",
    "The files that have to be used are also pushed. "
   ]
  },
  {
   "cell_type": "markdown",
   "id": "7310dac9",
   "metadata": {},
   "source": [
    "## Overview : getRed - gets the red regions from the individual bif traces and returns them"
   ]
  },
  {
   "cell_type": "code",
   "execution_count": null,
   "id": "325a6b7d",
   "metadata": {},
   "outputs": [],
   "source": [
    "results = getRed([\"cubic\", \"reno\", \"bbr\"])"
   ]
  },
  {
   "cell_type": "code",
   "execution_count": null,
   "id": "596da9a5",
   "metadata": {},
   "outputs": [],
   "source": [
    "# The results are stored in a list of dictionaries\n",
    "# Dictionary's have a data and a time key. Data shows the bif values and time the time in seconds\n",
    "# The number in the name is the index of the red region that appears in the bif region. Small red regions are ignored.\n",
    "for i in results :\n",
    "    print(i.keys())"
   ]
  },
  {
   "cell_type": "markdown",
   "id": "be2b14a2",
   "metadata": {},
   "source": [
    "# Running DBSCAN with DTW"
   ]
  },
  {
   "cell_type": "code",
   "execution_count": null,
   "id": "b97bd265",
   "metadata": {},
   "outputs": [],
   "source": [
    "results = getRed([\"cubic\", \"reno\", \"bbr\"])"
   ]
  },
  {
   "cell_type": "code",
   "execution_count": null,
   "id": "179a65a9",
   "metadata": {},
   "outputs": [],
   "source": [
    "di = {}\n",
    "for item in results :\n",
    "    for val in item.keys():\n",
    "        if 'data' in val :\n",
    "            curr_val = np.array(item[val])\n",
    "            di[val] = (curr_val - min(curr_val))/(max(curr_val)-min(curr_val))\n",
    "#             print(len(di[val]))\n",
    "df = pd.DataFrame(di)\n",
    "df = df.T\n",
    "print(df)"
   ]
  },
  {
   "cell_type": "code",
   "execution_count": null,
   "id": "33aa0b1b",
   "metadata": {},
   "outputs": [],
   "source": [
    "from fastdtw import fastdtw\n",
    "from scipy.spatial.distance import euclidean"
   ]
  },
  {
   "cell_type": "code",
   "execution_count": null,
   "id": "62b5c22c",
   "metadata": {},
   "outputs": [],
   "source": [
    "def dtw_distance(x,y):\n",
    "    distance, _ = fastdtw(x,y,dist=euclidean)\n",
    "    return distance\n",
    "\n",
    "from sklearn.neighbors import NearestNeighbors\n",
    "# n_neighbors = 5 as kneighbors function returns distance of point to itself (i.e. first column will be zeros) \n",
    "nbrs = NearestNeighbors(n_neighbors = 3, metric=dtw_distance).fit(df)\n",
    "# Find the k-neighbors of a point\n",
    "neigh_dist, neigh_ind = nbrs.kneighbors(df)\n",
    "# sort the neighbor distances (lengths to points) in ascending order\n",
    "# axis = 0 represents sort along first axis i.e.a sort along row\n",
    "sort_neigh_dist = np.sort(neigh_dist, axis = 0)"
   ]
  },
  {
   "cell_type": "code",
   "execution_count": null,
   "id": "07dccc91",
   "metadata": {},
   "outputs": [],
   "source": [
    "sort_neigh_dist"
   ]
  },
  {
   "cell_type": "code",
   "execution_count": null,
   "id": "ff0785c5",
   "metadata": {},
   "outputs": [],
   "source": [
    "k_dist = sort_neigh_dist[:, 2]\n",
    "plt.plot(k_dist)\n",
    "plt.ylabel(\"k-NN distance\")\n",
    "plt.xlabel(\"Sorted observations (2th NN)\")\n",
    "plt.show()"
   ]
  },
  {
   "cell_type": "code",
   "execution_count": null,
   "id": "74fe0cd0",
   "metadata": {},
   "outputs": [],
   "source": [
    "epsi = 1.5"
   ]
  },
  {
   "cell_type": "code",
   "execution_count": null,
   "id": "aa86c3a8",
   "metadata": {},
   "outputs": [],
   "source": [
    "from sklearn.cluster import DBSCAN\n",
    "clusters = DBSCAN(eps = epsi, min_samples = 5, metric=dtw_distance).fit(df)"
   ]
  },
  {
   "cell_type": "code",
   "execution_count": null,
   "id": "e7c82b31",
   "metadata": {},
   "outputs": [],
   "source": [
    "clusters.labels_"
   ]
  },
  {
   "cell_type": "code",
   "execution_count": null,
   "id": "f2c7c676",
   "metadata": {},
   "outputs": [],
   "source": [
    "df.index.values"
   ]
  },
  {
   "cell_type": "code",
   "execution_count": null,
   "id": "4081a7cb",
   "metadata": {},
   "outputs": [],
   "source": [
    "for i in set(clusters.labels_):\n",
    "    print(\"Cluster \" + str(i))\n",
    "    for x in range(len(clusters.labels_)):\n",
    "        if clusters.labels_[x] == i:\n",
    "            print(df.index.values[x])"
   ]
  },
  {
   "cell_type": "markdown",
   "id": "e10f03f9",
   "metadata": {},
   "source": [
    "# Writing the First Decision Tree Step to check probing"
   ]
  },
  {
   "cell_type": "code",
   "execution_count": null,
   "id": "d54f90f8",
   "metadata": {
    "scrolled": false
   },
   "outputs": [],
   "source": [
    "bbr = getRed([\"bbr\"])"
   ]
  },
  {
   "cell_type": "code",
   "execution_count": null,
   "id": "8ecdd988",
   "metadata": {},
   "outputs": [],
   "source": [
    "from scipy import signal"
   ]
  },
  {
   "cell_type": "code",
   "execution_count": null,
   "id": "c89a61b8",
   "metadata": {},
   "outputs": [],
   "source": [
    "# First is of now use, let's work on the second. \n",
    "time = np.array(bbr[1]['bbr_time_1'])\n",
    "data = np.array(bbr[1]['bbr_data_1'])\n",
    "# plt.plot(time, data, color='m')\n",
    "detre = signal.detrend(data, -1, 'linear')\n",
    "detre += abs(min(detre))\n",
    "plt.plot(time, detre, color='b')\n",
    "print(detre.mean(), detre.std())\n",
    "plt.fill_between(time, [3125 - 2*detre.std() for d in data], [3125 + 2*detre.std() for d in data])\n",
    "points = []\n",
    "maxxie = 0\n",
    "first = 0\n",
    "std = detre.std()\n",
    "detre = list(detre)\n",
    "for data in detre:\n",
    "    if data > 3125 - 2*std and data < 3125 + 2*std :\n",
    "        if first == 0:\n",
    "            first = 1\n",
    "        maxxie = max(maxxie, data)\n",
    "    else :\n",
    "        if first == 1:\n",
    "            points.append(detre.index(maxxie))\n",
    "        maxxie = 0\n",
    "        first = 0\n",
    "plt.show()\n",
    "for p in range(1,len(points)) :\n",
    "    print(time[points[p]] - time[points[p-1]])"
   ]
  },
  {
   "cell_type": "code",
   "execution_count": null,
   "id": "ffcaa5e4",
   "metadata": {},
   "outputs": [],
   "source": [
    "# First is of now use, let's work on the second. \n",
    "time = np.array(bbr[2]['bbr_time_2'])\n",
    "data = np.array(bbr[2]['bbr_data_2'])\n",
    "fd = [data[i]-data[i-1] for i in range(1,len(data))]\n",
    "plt.plot(time[1:], fd, color='m')\n",
    "detre = signal.detrend(data, -1, 'linear')\n",
    "detre += abs(min(detre))\n",
    "plt.plot(time, detre, color='b')\n",
    "print(detre.mean(), detre.std())\n",
    "plt.fill_between(time, [3125 - 2*detre.std() for d in data], [3125 + 2*detre.std() for d in data])\n",
    "points = []\n",
    "maxxie = 0\n",
    "first = 0\n",
    "std = detre.std()\n",
    "detre = list(detre)\n",
    "for data in detre:\n",
    "    if data > 3125 - 2*std and data < 3125 + 2*std :\n",
    "        if first == 0:\n",
    "            first = 1\n",
    "        maxxie = max(maxxie, data)\n",
    "    else :\n",
    "        if first == 1:\n",
    "            points.append(detre.index(maxxie))\n",
    "        maxxie = 0\n",
    "        first = 0\n",
    "plt.show()\n",
    "for p in range(1,len(points)) :\n",
    "    print(time[points[p]] - time[points[p-1]])"
   ]
  },
  {
   "cell_type": "markdown",
   "id": "46c664c0",
   "metadata": {},
   "source": [
    "# BBR decision tree is not working correctly lets try with alphas "
   ]
  },
  {
   "cell_type": "markdown",
   "id": "18cb3d83",
   "metadata": {},
   "source": [
    "# Running this hack - Solved getting the straight and curve part seperately"
   ]
  },
  {
   "cell_type": "code",
   "execution_count": null,
   "id": "f3eef461",
   "metadata": {},
   "outputs": [],
   "source": []
  },
  {
   "cell_type": "code",
   "execution_count": null,
   "id": "6381f451",
   "metadata": {},
   "outputs": [],
   "source": [
    "dt = getRed([\"cubic\", \"reno\"])"
   ]
  },
  {
   "cell_type": "code",
   "execution_count": null,
   "id": "2dea5c1d",
   "metadata": {},
   "outputs": [],
   "source": [
    "for i in dt :\n",
    "    print(dt.index(i), i.keys())"
   ]
  },
  {
   "cell_type": "code",
   "execution_count": null,
   "id": "ca62fe49",
   "metadata": {},
   "outputs": [],
   "source": [
    "time = np.array(dt[1]['cubic_time_1'])\n",
    "data = np.array(dt[1]['cubic_data_1'])\n",
    "data_df = pd.DataFrame(data)\n",
    "time_df = pd.DataFrame(time)"
   ]
  },
  {
   "cell_type": "code",
   "execution_count": null,
   "id": "6cd2169e",
   "metadata": {},
   "outputs": [],
   "source": [
    "time = np.array(dt[2]['cubic_time_2'])\n",
    "data = np.array(dt[2]['cubic_data_2'])\n",
    "data_df = pd.DataFrame(data)\n",
    "time_df = pd.DataFrame(time)"
   ]
  },
  {
   "cell_type": "code",
   "execution_count": null,
   "id": "5c28abef",
   "metadata": {},
   "outputs": [],
   "source": [
    "time = np.array(dt[3]['reno_time_0'])\n",
    "data = np.array(dt[3]['reno_data_0'])\n",
    "data_df = pd.DataFrame(data)\n",
    "time_df = pd.DataFrame(time)"
   ]
  },
  {
   "cell_type": "markdown",
   "id": "6de83dc7",
   "metadata": {},
   "source": [
    "### Taking a different approach that is fitting the linear or 2 degree polynomial"
   ]
  },
  {
   "cell_type": "code",
   "execution_count": null,
   "id": "9791f174",
   "metadata": {},
   "outputs": [],
   "source": [
    "from sklearn.metrics import mean_squared_error as mse"
   ]
  },
  {
   "cell_type": "code",
   "execution_count": null,
   "id": "529a9236",
   "metadata": {},
   "outputs": [],
   "source": [
    "def get_degree(time, data):\n",
    "    p = []\n",
    "    mse_l = []\n",
    "    time -= mean(time)\n",
    "    data -= mean(data)\n",
    "    data /= (max(abs(min(data)), abs(max(data))))\n",
    "    p1 = np.polyfit(time, data, 1)\n",
    "    p.append(p1)\n",
    "    fit_l = np.polyval(p1, time)\n",
    "    \n",
    "    p2 = np.polyfit(time, data, 2)\n",
    "    p.append(p2)\n",
    "    fit_q = np.polyval(p2, time)\n",
    "    \n",
    "    p3 = np.polyfit(time, data, 3)\n",
    "    p.append(p3)\n",
    "    fit_c = np.polyval(p3, time)\n",
    "    plt.plot(time, data)\n",
    "    mse_l.append(mse(data, fit_l))\n",
    "    print(\"1 \", p1, \"MSE \", mse(data, fit_l))\n",
    "    plt.plot(time, fit_l)\n",
    "    mse_l.append(mse(data, fit_q))\n",
    "    print(\"2 \", p2, \"MSE \", mse(data, fit_q))\n",
    "    mse_l.append(mse(data, fit_c))\n",
    "    print(\"3 \", p3, \"MSE \", mse(data, fit_c))\n",
    "    plt.plot(time, fit_q)\n",
    "    plt.plot(time, fit_c)\n",
    "    plt.show()\n",
    "    check = 50\n",
    "    for i in range(0,len(mse_l)-1):\n",
    "        diff = abs(mse_l[len(mse_l)-1] - mse_l[i])\n",
    "        perc = (diff/mse_l[len(mse_l)-1])*100\n",
    "        if perc < check :\n",
    "            return i+1, mse_l\n",
    "    return 3, mse_l\n",
    "get_degree(time, data)"
   ]
  },
  {
   "cell_type": "code",
   "execution_count": null,
   "id": "54c56c58",
   "metadata": {},
   "outputs": [],
   "source": [
    "get_degree(time, data)"
   ]
  },
  {
   "cell_type": "code",
   "execution_count": null,
   "id": "f1334abd",
   "metadata": {
    "scrolled": false
   },
   "outputs": [],
   "source": [
    "get_degree(time, data)"
   ]
  },
  {
   "cell_type": "code",
   "execution_count": null,
   "id": "17c5689d",
   "metadata": {},
   "outputs": [],
   "source": [
    "w = 10\n",
    "n_data = np.array(data_df.rolling(w, center=True).mean()[0].dropna())\n",
    "n_time = np.array(time_df.rolling(w, center=True).mean()[0].dropna())# n_data[0:w-1] = data[0:w-1].mean()\n",
    "# n_data[-1*(w-1):] = data[-1*(w-1):].mean()"
   ]
  },
  {
   "cell_type": "code",
   "execution_count": null,
   "id": "16deb10f",
   "metadata": {},
   "outputs": [],
   "source": [
    "def get_ewma(time, data, alpha=0.5):\n",
    "    n_data = []\n",
    "    n_time = []\n",
    "    n_data.append(data[0])\n",
    "    n_time.append(time[0])\n",
    "    for i in range(1,len(time)):\n",
    "        n_data.append(data[i]*alpha + n_data[i-1]*(1-alpha))\n",
    "        n_time.append(time[i])\n",
    "    return n_time, n_data"
   ]
  },
  {
   "cell_type": "code",
   "execution_count": null,
   "id": "584bb96d",
   "metadata": {},
   "outputs": [],
   "source": [
    "n_time, n_data = get_ewma(time, data, 0.5)\n",
    "plt.plot(time, data)\n",
    "plt.scatter(time,data)\n",
    "plt.plot(n_time, n_data)\n",
    "plt.scatter(n_time, n_data, color='r')"
   ]
  },
  {
   "cell_type": "code",
   "execution_count": null,
   "id": "53de9062",
   "metadata": {},
   "outputs": [],
   "source": [
    "plt.plot(time, data)\n",
    "plt.scatter(time,data)\n",
    "plt.plot(n_time, n_data)\n",
    "plt.scatter(n_time, n_data, color='r')"
   ]
  },
  {
   "cell_type": "code",
   "execution_count": null,
   "id": "e76b14ba",
   "metadata": {},
   "outputs": [],
   "source": [
    "plt.plot(time, data)\n",
    "plt.plot(n_time, n_data)\n",
    "plt.scatter(n_time, n_data, color='r')"
   ]
  },
  {
   "cell_type": "code",
   "execution_count": null,
   "id": "8fedbf2b",
   "metadata": {},
   "outputs": [],
   "source": [
    "plt.plot(time, data)\n",
    "plt.plot(n_time, n_data)\n",
    "plt.scatter(n_time, n_data, color='r')"
   ]
  },
  {
   "cell_type": "code",
   "execution_count": null,
   "id": "39482cf1",
   "metadata": {},
   "outputs": [],
   "source": [
    "gd_data = pd.DataFrame([(n_data[i]-n_data[i-1])/(n_time[i]-n_time[i-1]) for i in range(1, len(n_data))])\n",
    "gd_time = pd.DataFrame(n_time[1:])\n",
    "w = 10\n",
    "gd_data = np.array(gd_data.rolling(w, center=True).mean()[0].dropna())\n",
    "gd_time = np.array(gd_time.rolling(w, center=True).mean()[0].dropna())\n",
    "\n",
    "min_data =  min(n_data) \n",
    "max_data = max(n_data)\n",
    "n_data -= min_data\n",
    "n_data /= (max_data-min_data)\n",
    "plt.plot(n_time, n_data)\n",
    "plt.scatter(n_time, n_data, color='r')\n",
    "# gd_data -= min(gd_data)\n",
    "gd_data -= min(gd_data)\n",
    "gd_data /= (max_data - min_data)\n",
    "plt.plot(gd_time, gd_data)\n",
    "plt.scatter(gd_time, gd_data)\n",
    "\n",
    "plt.fill_between(gd_time, [gd_data.mean() + n_data.std() for i in range(len(gd_time))], [gd_data.mean() - n_data.std() for i in range(len(gd_time))], color='y', alpha = 0.5)\n",
    "\n",
    "len(gd_time)"
   ]
  },
  {
   "cell_type": "code",
   "execution_count": null,
   "id": "07e2119f",
   "metadata": {},
   "outputs": [],
   "source": [
    "gd_data = pd.DataFrame([(n_data[i]-n_data[i-1])/(n_time[i]-n_time[i-1]) for i in range(1, len(n_data))])\n",
    "gd_time = pd.DataFrame(n_time[1:])\n",
    "w = 10\n",
    "gd_data = np.array(gd_data.rolling(w, center=True).mean()[0].dropna())\n",
    "gd_time = np.array(gd_time.rolling(w, center=True).mean()[0].dropna())\n",
    "\n",
    "min_data =  min(n_data) \n",
    "max_data = max(n_data)\n",
    "n_data -= min_data\n",
    "# n_data /= (max_data-min_data)\n",
    "plt.plot(n_time, n_data, label=\"Data BIF\")\n",
    "plt.scatter(n_time, n_data, color='r')\n",
    "plt.legend()\n",
    "plt.show()\n",
    "# gd_data -= min(gd_data)\n",
    "gd_data -= min(gd_data)\n",
    "# gd_data /= (max_data - min_data)\n",
    "# gd_data /= (max(gd_data) - min(gd_data))\n",
    "plt.plot(gd_time, gd_data, label=\"Gradient\")\n",
    "plt.scatter(gd_time, gd_data)\n",
    "plt.legend()\n",
    "plt.fill_between(gd_time, [gd_data.mean() + n_data.std() for i in range(len(gd_time))], [gd_data.mean() - n_data.std() for i in range(len(gd_time))], color='y', alpha = 0.5)\n",
    "plt.fill_between(gd_time, [gd_data.mean() + n_data.std() for i in range(len(gd_time))], [gd_data.mean() - gd_data.std() for i in range(len(gd_time))], color='r', alpha = 0.3)\n",
    "plt.show()\n",
    "mn = gd_data.mean()\n",
    "sd = n_data.std()\n",
    "pos = 0\n",
    "for dp in gd_data :\n",
    "    if abs(dp-mn) >= sd :\n",
    "        pos += 1\n",
    "print(\"% Out of Boundary \", float(pos)/len(gd_data))\n",
    "len(gd_time)"
   ]
  },
  {
   "cell_type": "code",
   "execution_count": null,
   "id": "d588458d",
   "metadata": {},
   "outputs": [],
   "source": [
    "gd_data = pd.DataFrame([(n_data[i]-n_data[i-1])/(n_time[i]-n_time[i-1]) for i in range(1, len(n_data))])\n",
    "gd_time = pd.DataFrame(n_time[1:])\n",
    "w = 10\n",
    "gd_data = np.array(gd_data.rolling(w, center=True).mean()[0].dropna())\n",
    "gd_time = np.array(gd_time.rolling(w, center=True).mean()[0].dropna())\n",
    "\n",
    "min_data =  min(n_data) \n",
    "max_data = max(n_data)\n",
    "n_data -= min_data\n",
    "n_data /= (max_data-min_data)\n",
    "plt.plot(n_time, n_data, label=\"Data BIF\")\n",
    "plt.scatter(n_time, n_data, color='r')\n",
    "plt.legend()\n",
    "plt.show()\n",
    "# gd_data -= min(gd_data)\n",
    "gd_data -= min(gd_data)\n",
    "# gd_data /= (max_data - min_data)\n",
    "gd_data /= (max(gd_data) - min(gd_data))\n",
    "plt.plot(gd_time, gd_data, label=\"Gradient\")\n",
    "plt.scatter(gd_time, gd_data)\n",
    "plt.legend()\n",
    "plt.fill_between(gd_time, [gd_data.mean() + n_data.std() for i in range(len(gd_time))], [gd_data.mean() - n_data.std() for i in range(len(gd_time))], color='y', alpha = 0.5)\n",
    "plt.fill_between(gd_time, [gd_data.mean() + n_data.std() for i in range(len(gd_time))], [gd_data.mean() - gd_data.std() for i in range(len(gd_time))], color='r', alpha = 0.3)\n",
    "plt.show()\n",
    "mn = gd_data.mean()\n",
    "sd = n_data.std()\n",
    "pos = 0\n",
    "for dp in gd_data :\n",
    "    if abs(dp-mn) >= sd :\n",
    "        pos += 1\n",
    "print(\"% Out of Boundary \", float(pos)/len(gd_data))\n",
    "len(gd_time)"
   ]
  },
  {
   "cell_type": "code",
   "execution_count": null,
   "id": "c5e049f2",
   "metadata": {},
   "outputs": [],
   "source": [
    "gd_data = pd.DataFrame([(n_data[i]-n_data[i-1])/(n_time[i]-n_time[i-1]) for i in range(1, len(n_data))])\n",
    "gd_time = pd.DataFrame(n_time[1:])\n",
    "w = 10\n",
    "gd_data = np.array(gd_data.rolling(w, center=True).mean()[0].dropna())\n",
    "gd_time = np.array(gd_time.rolling(w, center=True).mean()[0].dropna())\n",
    "\n",
    "n_data -= min(n_data)\n",
    "plt.plot(n_time, n_data)\n",
    "plt.scatter(n_time, n_data, color='r')\n",
    "\n",
    "gd_data -= min(gd_data)\n",
    "plt.plot(gd_time, gd_data)\n",
    "plt.scatter(gd_time, gd_data)\n",
    "len(gd_time)"
   ]
  },
  {
   "cell_type": "code",
   "execution_count": null,
   "id": "c9b7817f",
   "metadata": {},
   "outputs": [],
   "source": [
    "time_0 = gd_time[gd_data.index(min(gd_data))]"
   ]
  },
  {
   "cell_type": "code",
   "execution_count": null,
   "id": "7b9903ca",
   "metadata": {},
   "outputs": [],
   "source": [
    "time_0"
   ]
  },
  {
   "cell_type": "code",
   "execution_count": null,
   "id": "925bacf8",
   "metadata": {},
   "outputs": [],
   "source": [
    "gd_2_data = pd.DataFrame([(gd_data[i]-gd_data[i-1])/(gd_time[i]-gd_time[i-1]) for i in range(1, len(gd_time))])\n",
    "gd_2_time = pd.DataFrame(gd_time[1:])\n",
    "# gd_2_data = pd.DataFrame([(n_data[i]-n_data[i-1])/(n_time[i]-n_time[i-1]) for i in range(1, len(n_data))])\n",
    "# gd_2_time = pd.DataFrame(n_time[1:])\n",
    "w = 10\n",
    "gd_2_data = np.array(gd_2_data.rolling(w, center=True).mean()[0].dropna())\n",
    "gd_2_time = np.array(gd_2_time.rolling(w, center=True).mean()[0].dropna())\n",
    "\n",
    "# time_index = lower_bound(gd_2_time, time_0)\n",
    "# if time_index == len(gd_2_time):\n",
    "#     time_index-=1\n",
    "# print(gd_2_time[time_index])\n",
    "\n",
    "# gd_2_data -= min(gd_2_data)\n",
    "plt.plot(gd_2_time, gd_2_data)\n",
    "plt.scatter(gd_2_time, gd_2_data)\n",
    "\n",
    "gd_data -= min(gd_data)\n",
    "plt.plot(gd_time, gd_data)\n",
    "plt.scatter(gd_time, gd_data)\n",
    "\n",
    "# mean_left = statistics.mean(gd_2_data[0:time_index])\n",
    "# mean_right = statistics.mean(gd_2_data[time_index+1:])\n",
    "# print(mean_left, mean_right)"
   ]
  },
  {
   "cell_type": "code",
   "execution_count": null,
   "id": "70e6302a",
   "metadata": {},
   "outputs": [],
   "source": [
    "gd_2_data = pd.DataFrame([(gd_data[i]-gd_data[i-1])/(gd_time[i]-gd_time[i-1]) for i in range(1, len(gd_time))])\n",
    "gd_2_time = pd.DataFrame(gd_time[1:])\n",
    "# gd_2_data = pd.DataFrame([(n_data[i]-n_data[i-1])/(n_time[i]-n_time[i-1]) for i in range(1, len(n_data))])\n",
    "# gd_2_time = pd.DataFrame(n_time[1:])\n",
    "w = 10\n",
    "gd_2_data = np.array(gd_2_data.rolling(w, center=True).mean()[0].dropna())\n",
    "gd_2_time = np.array(gd_2_time.rolling(w, center=True).mean()[0].dropna())\n",
    "\n",
    "# time_index = lower_bound(gd_2_time, time_0)\n",
    "# if time_index == len(gd_2_time):\n",
    "#     time_index-=1\n",
    "# print(gd_2_time[time_index])\n",
    "\n",
    "# gd_2_data -= min(gd_2_data)\n",
    "plt.plot(gd_2_time, gd_2_data)\n",
    "plt.scatter(gd_2_time, gd_2_data)\n",
    "\n",
    "gd_data -= min(gd_data)\n",
    "plt.plot(gd_time, gd_data)\n",
    "plt.scatter(gd_time, gd_data)\n",
    "\n",
    "# mean_left = statistics.mean(gd_2_data[0:time_index])\n",
    "# mean_right = statistics.mean(gd_2_data[time_index+1:])\n",
    "# print(mean_left, mean_right)"
   ]
  },
  {
   "cell_type": "markdown",
   "id": "fb221e94",
   "metadata": {},
   "source": [
    "# Now working on the concave and convex part"
   ]
  },
  {
   "cell_type": "markdown",
   "id": "d5b88170",
   "metadata": {},
   "source": [
    "#### There are several ways to estimate something like this :\n",
    "1. You fit a second degree polynomial - ax2 + bx + c. Out of these the a is the measure of concavity or convexity. Use that to identify the shape of the polynomial\n",
    "2. Take some window and use the average of the gradients"
   ]
  },
  {
   "cell_type": "code",
   "execution_count": null,
   "id": "e072397c",
   "metadata": {},
   "outputs": [],
   "source": []
  },
  {
   "cell_type": "markdown",
   "id": "c0732d47",
   "metadata": {},
   "source": [
    "# Getting the Red Regions correctly\n"
   ]
  },
  {
   "cell_type": "markdown",
   "id": "0dc5cc98",
   "metadata": {},
   "source": [
    "## Below this you can understand the code"
   ]
  },
  {
   "cell_type": "markdown",
   "id": "67515da6",
   "metadata": {},
   "source": [
    "### Running cauchy sampling on the red regions from the graphs to reduce dimensionality - Not exactly cauchy to be honest. We are going to sample from Cos and Tan and then see which works better.\n",
    "#### Cos tranformation leads to a parabola\n",
    "#### Tan tranformation leads to a cauchy shape"
   ]
  },
  {
   "cell_type": "code",
   "execution_count": null,
   "id": "be7bc881",
   "metadata": {},
   "outputs": [],
   "source": [
    "# TAN\n",
    "x = np.random.uniform(-1*(math.pi)/2,math.pi/2,100)\n",
    "tr_x = np.tan(x)\n",
    "p, x = np.histogram(tr_x, bins = 10)\n",
    "x = x[:-1] + (x[1] - x[0])/2   # convert bin edges to centers\n",
    "f = UnivariateSpline(x, p, s=n)\n",
    "plt.plot(x, f(x))\n",
    "plt.show()"
   ]
  },
  {
   "cell_type": "code",
   "execution_count": null,
   "id": "0c6fbf3d",
   "metadata": {},
   "outputs": [],
   "source": [
    "# COS\n",
    "x = np.random.uniform(0,math.pi,100)\n",
    "tr_x = np.cos(x)\n",
    "p, x = np.histogram(tr_x, bins = 10)\n",
    "x = x[:-1] + (x[1] - x[0])/2   # convert bin edges to centers\n",
    "f = UnivariateSpline(x, p, s=n)\n",
    "plt.plot(x, f(x))\n",
    "plt.show()"
   ]
  },
  {
   "cell_type": "code",
   "execution_count": null,
   "id": "b7d2429e",
   "metadata": {},
   "outputs": [],
   "source": [
    "# Getting a Red Region and then using cos to reduce its dimensionality "
   ]
  },
  {
   "cell_type": "code",
   "execution_count": null,
   "id": "c60664a5",
   "metadata": {},
   "outputs": [],
   "source": [
    "curr_file = [\"cubic-0-50-500-2\"]\n",
    "features, time, data = get_new_grad(curr_file,p=\"n\")"
   ]
  },
  {
   "cell_type": "code",
   "execution_count": null,
   "id": "67a3bfe2",
   "metadata": {},
   "outputs": [],
   "source": [
    "# Getting the third red region in this case\n",
    "curr_ft = features[4]\n",
    "plt.plot(time[curr_ft[0]:curr_ft[1]+1], data[curr_ft[0]:curr_ft[1]+1])\n",
    "curr_time = time[curr_ft[0]:curr_ft[1]+1]\n",
    "curr_data = data[curr_ft[0]:curr_ft[1]+1]"
   ]
  },
  {
   "cell_type": "code",
   "execution_count": null,
   "id": "087f69f6",
   "metadata": {},
   "outputs": [],
   "source": [
    "len(curr_time)"
   ]
  },
  {
   "cell_type": "markdown",
   "id": "cd4e58f1",
   "metadata": {},
   "source": [
    "# Sampling with respect to time - Run Below"
   ]
  },
  {
   "cell_type": "code",
   "execution_count": null,
   "id": "ec3d63a2",
   "metadata": {},
   "outputs": [],
   "source": [
    "import bisect\n",
    "def lower_bound(arr, target):\n",
    "    index = bisect.bisect_left(arr, target)\n",
    "    return index"
   ]
  },
  {
   "cell_type": "code",
   "execution_count": null,
   "id": "d8a0c13c",
   "metadata": {},
   "outputs": [],
   "source": [
    "def sample_data_time(time, data, s, m):\n",
    "    curr_time, curr_data = adjust(time, data, 0.20)\n",
    "    tp = curr_time[len(curr_time)-1] - curr_time[0]\n",
    "    step = tp/m\n",
    "    samp_time = [curr_time[0] + i*step for i in range(m)]\n",
    "    x = np.random.uniform(0,math.pi,s)\n",
    "    tr_x = np.cos(x)\n",
    "    tr_x += 1\n",
    "    tr_x *= (m-1)/2\n",
    "    ind = [int(round(e, 0)) for e in tr_x]\n",
    "    sort_ind = sorted(ind)\n",
    "    tr_time = [samp_time[i] for i in sort_ind]\n",
    "\n",
    "    new_time = []\n",
    "    new_data = []\n",
    "    for t in tr_time :\n",
    "        i = lower_bound(curr_time, t)\n",
    "        temp_t = 0\n",
    "        temp_d = 0\n",
    "        if i == 0 :\n",
    "            temp_t = curr_time[i]\n",
    "            temp_d = curr_data[i]\n",
    "        elif i == len(curr_time)-1 :\n",
    "            temp_t = curr_time[i]\n",
    "            temp_d = curr_data[i]\n",
    "        else :\n",
    "            temp_t = (curr_time[i-1] + curr_time[i])/2\n",
    "            temp_d = (curr_data[i-1] + curr_data[i])/2\n",
    "        new_time.append(temp_t)\n",
    "        new_data.append(temp_d)\n",
    "        \n",
    "    return new_time, new_data"
   ]
  },
  {
   "cell_type": "code",
   "execution_count": null,
   "id": "4765ed2e",
   "metadata": {},
   "outputs": [],
   "source": [
    "new_time, new_data = sample_data_time(curr_time, curr_data, 100, 1000)"
   ]
  },
  {
   "cell_type": "code",
   "execution_count": null,
   "id": "40afe678",
   "metadata": {},
   "outputs": [],
   "source": [
    "plt.plot(curr_time, curr_data)\n",
    "# plt.scatter(curr_time, curr_data)\n",
    "plt.plot(new_time, new_data)\n",
    "# plt.scatter(new_time,new_data)"
   ]
  },
  {
   "cell_type": "markdown",
   "id": "320d0134",
   "metadata": {},
   "source": [
    "Dont run this "
   ]
  },
  {
   "cell_type": "code",
   "execution_count": null,
   "id": "374bae88",
   "metadata": {},
   "outputs": [],
   "source": [
    "ss = [100, 200, 400, 800]\n",
    "fig, ax = plt.subplots(4,2, figsize=(10,10))\n",
    "row = 0\n",
    "for s in ss :\n",
    "    x = np.random.uniform(0,math.pi,s)\n",
    "    tr_x = np.cos(x)\n",
    "    tr_x += 1\n",
    "    multi = (len(curr_time)-1)/2\n",
    "    tr_x*=multi\n",
    "    ind = [int(round(e, 0)) for e in tr_x]\n",
    "    sort_ind = sorted(ind)\n",
    "    tr_time = [curr_time[i] for i in sort_ind]\n",
    "    tr_data = [curr_data[i] for i in sort_ind]\n",
    "    ax[row,0].plot(curr_time, curr_data, c='b', alpha = 0.5, lw = 5)\n",
    "    ax[row,0].plot(tr_time, tr_data, c='y', alpha = 1)\n",
    "    ax[row,0].scatter(tr_time, tr_data, c='r', s=10)\n",
    "    ax[row,0].set_title(s)\n",
    "    \n",
    "    x = np.random.uniform(-1*(math.pi)/2,math.pi/2,s)\n",
    "    tr_x = np.tan(x)\n",
    "    tr_x = sorted(tr_x)\n",
    "#     print(tr_x)\n",
    "    tr_x+=(abs(min(tr_x)))\n",
    "    tr_x/=(max(tr_x))\n",
    "    tr_x*=(multi*2)\n",
    "    ind = [int(round(e, 0)) for e in tr_x]\n",
    "#     print(ind)\n",
    "    sort_ind = sorted(ind)\n",
    "    tr_time = [curr_time[i] for i in sort_ind]\n",
    "    tr_data = [curr_data[i] for i in sort_ind]\n",
    "    ax[row,1].plot(curr_time, curr_data, c='b', alpha = 0.5, lw = 5)\n",
    "    ax[row,1].plot(tr_time, tr_data, c='y', alpha = 1)\n",
    "    ax[row,1].scatter(tr_time, tr_data, c='r', s=10)\n",
    "    ax[row,1].set_title(s)\n",
    "    \n",
    "    row+=1\n",
    "    "
   ]
  },
  {
   "cell_type": "markdown",
   "id": "832cdbcc",
   "metadata": {},
   "source": [
    "## As the above graph shows we need to use cos transformation not the Cauchy "
   ]
  },
  {
   "cell_type": "code",
   "execution_count": null,
   "id": "ec38deda",
   "metadata": {},
   "outputs": [],
   "source": [
    "lens = []\n",
    "ranges = []\n",
    "for v in var:\n",
    "    file = v + \"-0-50-1000-2\"\n",
    "    curr_file = [file]\n",
    "    features, time, data = get_new_grad(curr_file, 'y')\n",
    "    for ft in features :\n",
    "        if ft[2] == 1:\n",
    "            if ft[1]-ft[0]+1 > 100 :\n",
    "                lens.append(ft[1]-ft[0]+1)\n",
    "                ranges.append(time[ft[1]]-time[ft[0]])"
   ]
  },
  {
   "cell_type": "code",
   "execution_count": null,
   "id": "ec3564ef",
   "metadata": {},
   "outputs": [],
   "source": [
    "from statistics import mean, pstdev, median, mode"
   ]
  },
  {
   "cell_type": "markdown",
   "id": "fb3fb1b7",
   "metadata": {},
   "source": [
    "# Blue Regions"
   ]
  },
  {
   "cell_type": "code",
   "execution_count": null,
   "id": "3d247f4d",
   "metadata": {},
   "outputs": [],
   "source": [
    "import scipy.stats as ss\n",
    "plt.hist(lens)\n",
    "print(\"Lens \", mean(lens), median(lens), max(lens))\n",
    "plt.show()\n",
    "plt.hist(ranges)\n",
    "print(\"Ranges \", mean(ranges), median(ranges), max(ranges))\n",
    "plt.show()"
   ]
  },
  {
   "cell_type": "markdown",
   "id": "d461766c",
   "metadata": {},
   "source": [
    "# Red Regions"
   ]
  },
  {
   "cell_type": "code",
   "execution_count": null,
   "id": "295bcd2d",
   "metadata": {},
   "outputs": [],
   "source": [
    "import scipy.stats as ss\n",
    "plt.hist(lens)\n",
    "print(\"Lens \", mean(lens), median(lens), max(lens))\n",
    "plt.show()\n",
    "plt.hist(ranges)\n",
    "print(\"Ranges \", mean(ranges), median(ranges), max(ranges))\n",
    "plt.show()"
   ]
  },
  {
   "cell_type": "markdown",
   "id": "359747cc",
   "metadata": {},
   "source": [
    "# Adjusted the red regions to start better - Run Both Below"
   ]
  },
  {
   "cell_type": "code",
   "execution_count": null,
   "id": "c5166caf",
   "metadata": {},
   "outputs": [],
   "source": [
    "def adjust(time, data, m=0.25):\n",
    "    control = 100000;\n",
    "    rtt=0.1\n",
    "    for t in range(len(time)) :\n",
    "        if time[t]-time[0] > 5*rtt:\n",
    "            control = t; \n",
    "            break\n",
    "    l = min(t,int(m*len(time)))\n",
    "    e = int(len(time)-l)\n",
    "    start = max(data.index(min(data[0:l])),data.index(max(data[0:l])))\n",
    "    end = min(data.index(max(data[e:])), data.index(min(data[e:])))\n",
    "    new_time = time[start:end+1]\n",
    "    new_data = data[start:end+1]\n",
    "    return new_time, new_data"
   ]
  },
  {
   "cell_type": "code",
   "execution_count": null,
   "id": "65c2b72c",
   "metadata": {
    "scrolled": true
   },
   "outputs": [],
   "source": [
    "# Taking 100 as the threshold is fine \n",
    "# Now we have to see how the graphs look if we use it. \n",
    "# var = [\"reno\", \"cubic\", \"bbr\"]\n",
    "def getRed(var,s=100):\n",
    "    results = []\n",
    "    for v in var :\n",
    "        file = v + \"-0-50-1000-2\"\n",
    "        curr_file = [file]\n",
    "        features, time, data = get_new_grad(curr_file, 'y')\n",
    "        count = 0\n",
    "        for ft in features : \n",
    "            if ft[2]==0:\n",
    "                lens = ft[1]-ft[0] + 1\n",
    "                if lens < 10 :\n",
    "                    continue\n",
    "                print(time[ft[0]], time[ft[1]])\n",
    "                curr_time = time[ft[0]:ft[1]+1]\n",
    "                curr_data = data[ft[0]:ft[1]+1]\n",
    "                if lens < 100:\n",
    "                    continue\n",
    "\n",
    "                if lens > 100:\n",
    "                    tr_time, tr_data = sample_data_time(curr_time, curr_data, 100, 1000)\n",
    "                    plt.plot(curr_time, curr_data, c='b', alpha = 0.5, lw = 5)\n",
    "                    plt.plot(tr_time, tr_data, c='r', alpha = 1)\n",
    "                    plt.scatter(tr_time, tr_data, c='k')\n",
    "    #                 plt.scatter(tr_time, tr_data, c='r', s=10)\n",
    "                    plt.title(v + \" Actual Length - \" + str(lens) +  \" Converted to \" + str(len(tr_data)))\n",
    "                    plt.show()\n",
    "                    results.append({v+\"_\"+\"data\"+\"_\"+str(count):tr_data, v+\"_\"+\"time\"+\"_\"+str(count):tr_time})\n",
    "                    count+=1\n",
    "    return results\n",
    "# results = getRed(var)"
   ]
  },
  {
   "cell_type": "code",
   "execution_count": null,
   "id": "2fe63e8a",
   "metadata": {},
   "outputs": [],
   "source": [
    "getRed(var)"
   ]
  },
  {
   "cell_type": "code",
   "execution_count": null,
   "id": "640ea7c1",
   "metadata": {},
   "outputs": [],
   "source": [
    "var = \"bic cdg dctcp highspeed htcp hybla illinois lp nv scalable vegas veno westwood yeah cubic bbr reno\"\n",
    "var = var.split(\" \")"
   ]
  },
  {
   "cell_type": "markdown",
   "id": "42658fb8",
   "metadata": {},
   "source": [
    "## Make the feature end points better - Done"
   ]
  },
  {
   "cell_type": "markdown",
   "id": "30bfce3f",
   "metadata": {},
   "source": [
    "# Code with all dependencies"
   ]
  },
  {
   "cell_type": "code",
   "execution_count": null,
   "id": "0380171f",
   "metadata": {},
   "outputs": [],
   "source": [
    "import matplotlib.pyplot as plt\n",
    "from scipy.fft import rfft, rfftfreq\n",
    "from scipy.fft import irfft\n",
    "import numpy as np\n",
    "import statistics\n",
    "import pandas as pd"
   ]
  },
  {
   "cell_type": "code",
   "execution_count": null,
   "id": "305d0144",
   "metadata": {},
   "outputs": [],
   "source": [
    "def smoothen(time, data, rtt):\n",
    "    # Smoothening \n",
    "    left = 0\n",
    "    right = 0\n",
    "    run_sum = 0\n",
    "    avg_data = []\n",
    "    new_time = []\n",
    "#     while(time[right]-time[left] < float(rtt)/2):\n",
    "#         avg_data.append(data[right])\n",
    "#         new_time.append(time[right])\n",
    "#         right+=1\n",
    "    while right < len(time):\n",
    "        while(right < len(time) and time[right]-time[left] < 2*rtt):\n",
    "            run_sum+=data[right]\n",
    "            right+=1\n",
    "        new_time.append(float(time[right-1]+time[left])/2)\n",
    "        avg_data.append(float(run_sum)/(right-left))\n",
    "        run_sum-=data[left]\n",
    "        left+=1\n",
    "#     right-=1\n",
    "#     prev = right\n",
    "#     while(time[right] - time[prev] < float(rtt)/2):\n",
    "#         prev-=1\n",
    "#     prev+=1\n",
    "#     for i in range(prev, right+1):\n",
    "#         avg_data.append(data[i])\n",
    "#         new_time.append(time[i])\n",
    "#     print(len(data), len(avg_data), len(new_time))\n",
    "#     avg_data = n_data.rolling(window=60, center=True).mean()\n",
    "#     new_time = time\n",
    "#     for i in range(30):\n",
    "#         avg_data[0][i] = data[i]\n",
    "#     for i in range(-1, -30, -1):\n",
    "#         avg_data[0][len(data) + i] = data[len(data) + i]\n",
    "#     ans_data = avg_data[0]\n",
    "#     Smoothen function works well.\n",
    "    return new_time, avg_data"
   ]
  },
  {
   "cell_type": "code",
   "execution_count": null,
   "id": "5ad8123c",
   "metadata": {},
   "outputs": [],
   "source": [
    "def get_fft(data):\n",
    "    n = len(data)\n",
    "    data_step = 0.002\n",
    "    yf = rfft(data)\n",
    "    xf = rfftfreq(n,data_step)\n",
    "    return yf,xf\n"
   ]
  },
  {
   "cell_type": "code",
   "execution_count": null,
   "id": "0e20a7a2",
   "metadata": {},
   "outputs": [],
   "source": [
    "def get_fft_smoothening(ax,f,norm,rtt,p):\n",
    "    rtt=rtt\n",
    "    data, time = get_window(f, \"n\")\n",
    "\n",
    "    yf, xf = get_fft(data)\n",
    "    abs_yf = np.abs(yf)\n",
    "#     print(len(abs_yf), len(xf))\n",
    "    sort_abs_yf = sorted(abs_yf)\n",
    "    \n",
    "#     plt.title(\"FFT Decomposition\")\n",
    "#     plt.plot(xf, sort_abs_yf, color='b', alpha=0.5, lw=1)\n",
    "#     plt.scatter(xf, sort_abs_yf, color='r', s=2)\n",
    "#     plt.show()\n",
    "\n",
    "    thresh  = (1/rtt)\n",
    "#     print(\"RTT\", rtt, \"Freq \", thresh)\n",
    "    thresh_ind = 0\n",
    "    for i in range(len(xf)) :\n",
    "        freq = xf[i]\n",
    "        if(freq > thresh):\n",
    "            thresh_ind = i\n",
    "            break\n",
    "#     print(\"Index \", thresh_ind)\n",
    "#     print(xf[0:thresh_ind])\n",
    "#     plt.title(\"Cleaned Frequencies\")\n",
    "#     plt.plot(xf[0:thresh_ind],np.abs(yf[0:thresh_ind]))\n",
    "#     plt.show()\n",
    "\n",
    "    yf_clean = yf\n",
    "    yf_clean[thresh_ind+1:] = 0\n",
    "    new_f_clean = irfft(yf_clean)\n",
    "#     plt.title(\"Frequencies smaller than \" + str(thresh))\n",
    "#     plt.plot(time, data, color=\"b\", alpha=0.5, label='original signal')\n",
    "    start_len = len(time) - len(new_f_clean)\n",
    "\n",
    "    plot_data = new_f_clean\n",
    "    \n",
    "    if norm == 1:\n",
    "        max_data = max(new_f_clean)\n",
    "        min_data = min(new_f_clean)\n",
    "        plot_data = (new_f_clean - min_data)/(max_data - min_data)\n",
    "    if p:\n",
    "        ax.plot(time[start_len:], plot_data, 'k', label='FFT smoothening', linewidth=1.5)\n",
    "#     plt.legend()\n",
    "#     plt.show()\n",
    "    plot_time = time[start_len:] \n",
    "    return plot_time, plot_data\n"
   ]
  },
  {
   "cell_type": "code",
   "execution_count": null,
   "id": "3869126d",
   "metadata": {},
   "outputs": [],
   "source": [
    "def get_grad(time, data):\n",
    "    new_data = []\n",
    "    new_data.append(0)\n",
    "    for i in range(1, len(data)):\n",
    "#         diff = time[i]-time[i-1]\n",
    "#         if diff == 0:\n",
    "#             continue\n",
    "#             diff = 0.002\n",
    "        diff=1\n",
    "        new_data.append((data[i]-data[i-1])/(diff))\n",
    "    plot_data = np.array(new_data)\n",
    "    max_data = max(new_data)\n",
    "    min_data = min(new_data)\n",
    "    new_data = np.array(new_data)\n",
    "    plot_data = (new_data - min_data)/(max_data-min_data)\n",
    "    return time, plot_data"
   ]
  },
  {
   "cell_type": "code",
   "execution_count": null,
   "id": "cb8cde84",
   "metadata": {},
   "outputs": [],
   "source": [
    "def plot_d(ax, time, data, c, l):\n",
    "    ax.plot(time, data, color=c, lw=2, label = l)"
   ]
  },
  {
   "cell_type": "code",
   "execution_count": null,
   "id": "ba9a8cdc",
   "metadata": {},
   "outputs": [],
   "source": [
    "def plot_one_bt(files, p):\n",
    "    for f in files:\n",
    "        fs = f.split(\"-\")\n",
    "        pre = int(fs[1])\n",
    "        post = int(fs[2])\n",
    "        rtt = float(((pre+post)*2))/1000\n",
    "        ax = 0\n",
    "        if p == 'y':\n",
    "            fig, ax = plt.subplots(1,1, figsize=(15,8))\n",
    "        \n",
    "        time, data = get_fft_smoothening(ax,f,0,rtt,0)\n",
    "#         print(len(time), len(data))\n",
    "        time, data = smoothen(time, data, rtt)\n",
    "#         print(len(time), len(data))\n",
    "        if p == 'y':\n",
    "            plot_data = np.array(data)\n",
    "            plot_data -= min(data)\n",
    "            plot_data /= (max(data)-min(data))\n",
    "            plot_d(ax, time, plot_data, \"g\", \"Smoothened\")\n",
    "#         fd_time, fd_data = get_fd(time, data)\n",
    "#         plot_d(ax, time, data, \"g\")\n",
    "        grad_time, grad_data = get_grad(time, data)\n",
    "        if p == 'y':\n",
    "#             grad_plot_data += min(data)\n",
    "            plot_d(ax, grad_time, grad_data, \"r\", \"Gradient\")\n",
    "#         grad_step_time, grad_step_data = get_step_grad(time, data, rtt)\n",
    "#         plot_d(ax, grad_step_time, grad_step_data, \"b\", \"Step Gradient\")\n",
    "#         ax.title.set_text(f)\n",
    "            ax.legend()\n",
    "            plt.show()\n",
    "    return time, data, grad_time, grad_data, rtt\n",
    "#     return time, data "
   ]
  },
  {
   "cell_type": "code",
   "execution_count": null,
   "id": "b5f0b213",
   "metadata": {},
   "outputs": [],
   "source": [
    "def get_time_features_bt(curr_file, p):\n",
    "    main_time, main_data, grad_time, grad_data, rtt= plot_one_bt(curr_file, p)\n",
    "    \n",
    "    data = grad_data\n",
    "    time = grad_time\n",
    "    mean = data.mean()\n",
    "    print(\"Mean\", mean)\n",
    "    sd = statistics.pstdev(data)\n",
    "    print(\"Std Dev\", sd)\n",
    "    data = abs(data - mean)\n",
    "    features = []\n",
    "    tp = 0\n",
    "    ch_left = 0\n",
    "    ch_right = 0\n",
    "    max_win = 0\n",
    "    min_win = 0\n",
    "    m = 2\n",
    "    while time[ch_right] - time[ch_left] < rtt :\n",
    "        max_win = max(max_win, data[ch_right])\n",
    "        ch_right+=1\n",
    "    if max_win > m*sd :\n",
    "        tp = 1\n",
    "\n",
    "    max_win = 0\n",
    "    min_win = 0\n",
    "\n",
    "    ft_left = 0\n",
    "    left = 0\n",
    "    right = 0\n",
    "\n",
    "    while ft_left < len(time) and left < len(time):\n",
    "        while right < len(time) and (time[right] - time[left]) <= rtt:\n",
    "            max_win = max(max_win, data[right])\n",
    "            right+=1\n",
    "        if tp == 0:\n",
    "            if (max_win > m*sd):\n",
    "                features.append([ft_left, left-1, tp])\n",
    "                ft_left = left\n",
    "                tp = 1\n",
    "        if tp == 1:\n",
    "            if (max_win < m*sd):\n",
    "                features.append([ft_left, left-1, tp])\n",
    "                ft_left = left\n",
    "                tp = 0\n",
    "    #     print(left, right, max_win, mean + m*sd)\n",
    "        max_win = 0\n",
    "        left = right \n",
    "\n",
    "    features.append([ft_left, left-1, tp])\n",
    "    return features, main_time, main_data, grad_time, grad_data, rtt"
   ]
  },
  {
   "cell_type": "code",
   "execution_count": null,
   "id": "02532789",
   "metadata": {},
   "outputs": [],
   "source": [
    "from sklearn.linear_model import LinearRegression"
   ]
  },
  {
   "cell_type": "code",
   "execution_count": null,
   "id": "60999435",
   "metadata": {},
   "outputs": [],
   "source": [
    "def get_amp_grad(features, grad_time, grad_data, rtt):\n",
    "#     mn = grad_data.mean()\n",
    "#     grad_data -= mn\n",
    "#     for ft in features :\n",
    "# #         This idea should be more refined mathematically\n",
    "#         if ft[2]==1:\n",
    "#             grad_data[ft[0]:ft[1]+1]*=2\n",
    "#         if ft[2]==0:\n",
    "#             grad_data[ft[0]:ft[1]+1]/=2\n",
    "#     grad_data += mn\n",
    "#     data = grad_data\n",
    "#     time = grad_time\n",
    "#     mean = data.mean()\n",
    "#     print(\"Mean\", mean)\n",
    "#     sd = statistics.pstdev(data)\n",
    "#     print(\"Std Dev\", sd)\n",
    "#     data = abs(data - mean)\n",
    "#     features = []\n",
    "#     tp = 0\n",
    "#     ch_left = 0\n",
    "#     ch_right = 0\n",
    "#     max_win = 0\n",
    "#     min_win = 0\n",
    "#     m = 2\n",
    "#     while time[ch_right] - time[ch_left] < rtt :\n",
    "#         max_win = max(max_win, data[ch_right])\n",
    "#         ch_right+=1\n",
    "#     if max_win > m*sd :\n",
    "#         tp = 1\n",
    "\n",
    "#     max_win = 0\n",
    "#     min_win = 0\n",
    "\n",
    "#     ft_left = 0\n",
    "#     left = 0\n",
    "#     right = 0\n",
    "\n",
    "#     while ft_left < len(time) and left < len(time):\n",
    "#         while right < len(time) and (time[right] - time[left]) <= rtt:\n",
    "#             max_win = max(max_win, data[right])\n",
    "#             right+=1\n",
    "#         if tp == 0:\n",
    "#             if (max_win > m*sd):\n",
    "#                 features.append([ft_left, left-1, tp])\n",
    "#                 ft_left = left-1\n",
    "#                 tp = 1\n",
    "#         if tp == 1:\n",
    "#             if (max_win < m*sd):\n",
    "#                 features.append([ft_left, left-1, tp])\n",
    "#                 ft_left = left-1\n",
    "#                 tp = 0\n",
    "#     #     print(left, right, max_win, mean + m*sd)\n",
    "#         max_win = 0\n",
    "#         left = right\n",
    "        \n",
    "#     features.append([ft_left, left-1, tp])\n",
    "    pos = 0\n",
    "    for ft in features :\n",
    "        if pos > 0 and pos < len(features)-1 :\n",
    "            if(round(grad_time[ft[1]] - grad_time[ft[0]],3) <= 3*rtt):\n",
    "                if features[pos-1][2] == features[pos+1][2]:\n",
    "                    ft[2] = features[pos-1][2]\n",
    "#                     model = LinearRegression()\n",
    "#                     curr_range = list(range(features[pos-1][0],features[pos-1][1]+1))\n",
    "#                     X = np.reshape(curr_range, (len(curr_range), 1))\n",
    "#                     model.fit(X, data[features[pos-1][0]:features[pos-1][1]+1])\n",
    "#                     left = statistics.mean(model.predict(X))\n",
    "#                     print(\"Left\",left)\n",
    "#                     curr_range = list(range(features[pos+1][0],features[pos+1][1]+1))\n",
    "#                     X = np.reshape(curr_range, (len(curr_range), 1))\n",
    "#                     model.fit(X, data[features[pos+1][0]:features[pos+1][1]+1])\n",
    "#                     right = statistics.mean(model.predict(X))\n",
    "#                     print(\"Right\", right)\n",
    "#                     if left*right < 0 and ft[2] == 0:\n",
    "#                         ft[2] = 1\n",
    "#                     if left*right > 0 and ft[2] == 1:\n",
    "#                         ft[2] = 0            \n",
    "        pos+=1\n",
    "    new_ft = []\n",
    "    start_type = features[0][2]\n",
    "    start = features[0][0]\n",
    "    end = 0\n",
    "    for i in range(len(features)) :\n",
    "        ft = features[i]\n",
    "        curr_type = ft[2]\n",
    "        if curr_type == start_type :\n",
    "            if i == len(features)-1 :\n",
    "                new_ft.append([start, ft[1], start_type])\n",
    "        else :\n",
    "            end = ft[0]\n",
    "            new_ft.append([start, end, start_type])\n",
    "            start = end\n",
    "            start_type = ft[2]\n",
    "    \n",
    "    return new_ft, grad_time, grad_data"
   ]
  },
  {
   "cell_type": "code",
   "execution_count": null,
   "id": "9538a0cf",
   "metadata": {},
   "outputs": [],
   "source": [
    "def get_features(features, main_time, grad_time):\n",
    "    left = 0\n",
    "    right = 0\n",
    "    result_ft = []\n",
    "    for ft in features:\n",
    "#         print(\"Next Stop\", grad_time[ft[1]])\n",
    "        while(right < len(main_time) and main_time[right] < grad_time[ft[1]]):\n",
    "#             print(main_time[right])\n",
    "            right+=1\n",
    "        result_ft.append((left, right-1, ft[2]))\n",
    "        left = right\n",
    "    if left < right :\n",
    "        result_ft.append((left, right-1, ft[2]))\n",
    "    return result_ft"
   ]
  },
  {
   "cell_type": "code",
   "execution_count": null,
   "id": "ca31eb49",
   "metadata": {},
   "outputs": [],
   "source": [
    "color = ['r', 'b']"
   ]
  },
  {
   "cell_type": "code",
   "execution_count": null,
   "id": "568bb3c9",
   "metadata": {},
   "outputs": [],
   "source": [
    "def get_new_grad(curr_file, p):\n",
    "    features, main_time, main_data, grad_time, grad_data, rtt = get_time_features_bt(curr_file, p)\n",
    "    features, grad_time, grad_data = get_amp_grad(features, grad_time, grad_data, rtt)\n",
    "    main_features = get_features(features, main_time, grad_time)\n",
    "    if p == 'y' :\n",
    "        fig, ax = plt.subplots(1,1, figsize=(15,8))\n",
    "#         plot_d(ax, grad_time, grad_data, \"y\", \"Smoothened Gradient\")\n",
    "        for ft in features : \n",
    "    #         print(main_time[ft[1]]-main_time[ft[0]], ft[2])\n",
    "            ax.plot(main_time[ft[0]:ft[1]+1], main_data[ft[0]:ft[1]+1], color = color[ft[2]])\n",
    "        plt.show()\n",
    "    return features, main_time, main_data"
   ]
  },
  {
   "cell_type": "code",
   "execution_count": null,
   "id": "e4335829",
   "metadata": {},
   "outputs": [],
   "source": [
    "curr_file = [\"reno-25-25-1000\"]"
   ]
  },
  {
   "cell_type": "code",
   "execution_count": null,
   "id": "9aca21ce",
   "metadata": {},
   "outputs": [],
   "source": [
    "curr_file = [\"cdg-0-50-500-2\"]"
   ]
  },
  {
   "cell_type": "code",
   "execution_count": null,
   "id": "f8d172ca",
   "metadata": {},
   "outputs": [],
   "source": [
    "get_new_grad(curr_file, 'y')"
   ]
  },
  {
   "cell_type": "code",
   "execution_count": null,
   "id": "412b247e",
   "metadata": {},
   "outputs": [],
   "source": [
    "import csv\n",
    "import matplotlib.pyplot as plt\n",
    "import sys\n",
    "import math\n",
    "\n",
    "SHOW=True\n",
    "MULTI_GRAPH=False\n",
    "SMOOTHENING=False\n",
    "ONLY_STATS=False\n",
    "s_factor=0.9\n",
    "\n",
    "'''\n",
    "TODO: \n",
    "o Add functionality where you only plot flows that send more than x bytes of data\n",
    "o Sort stats and graphs by flow size\n",
    "o Organize plots by flow size (larger flows have larger graphs)\n",
    "o Custom smoothening function\n",
    "'''\n",
    "\n",
    "fields=[\"time\", \"frame_time_rel\", \"tcp_time_rel\", \"frame_num\", \"frame_len\", \"ip_src\", \"src_port\", \"ip_dest\", \"dest_port\", \"tcp_len\", \"seq\", \"ack\"]\n",
    "\n",
    "class pkt:\n",
    "    contents=[]\n",
    "    def __init__(self, fields) -> None:\n",
    "        self.contents=[]\n",
    "        for f in fields:\n",
    "            self.contents.append(f)\n",
    "\n",
    "    def get(self, field):\n",
    "        return self.contents[fields.index(field)]\n",
    "        \n",
    "\n",
    "def process_flows(cc, dir):\n",
    "    with open(dir+cc+\"-tcp.csv\") as csv_file:\n",
    "        print(\"Reading \"+dir+cc+\"-tcp.csv...\")\n",
    "        csv_reader = csv.reader(csv_file, delimiter=',')\n",
    "        line_count = 0\n",
    "        total_bytes=0\n",
    "        '''\n",
    "        Flow tracking:\n",
    "        o Identify all packets that are either sourced from or headed to 100.64.0.2\n",
    "        o Group different flows by client's port\n",
    "        '''\n",
    "        flows={}\n",
    "        data_sent=0\n",
    "        port_set = set()\n",
    "        for row in csv_reader:\n",
    "            packet=pkt(row)\n",
    "            validPkt=False\n",
    "            if line_count==0:\n",
    "                # reject the header\n",
    "                line_count+=1\n",
    "                continue\n",
    "            if data_sent == 0 : \n",
    "                if \"100.64.0.\" in packet.get(\"ip_src\"):\n",
    "                    num = int(packet.get(\"ip_src\")[-1])\n",
    "                    if num%2==0:\n",
    "                        data_sent=1\n",
    "                        host_port=packet.get(\"ip_src\")\n",
    "                if \"100.64.0.\" in packet.get(\"ip_dest\"):\n",
    "                    num = int(packet.get(\"ip_dest\")[-1])\n",
    "                    if num%2==0:\n",
    "                        data_sent=1\n",
    "                        host_port=packet.get(\"ip_dest\")\n",
    "                if data_sent == 0:\n",
    "                    continue\n",
    "                    \n",
    "            if packet.get(\"ip_src\")==host_port and packet.get(\"frame_time_rel\")!='' and packet.get(\"ack\")!='': \n",
    "                # we care about this ACK packet\n",
    "                validPkt=True\n",
    "                port=packet.get(\"src_port\")\n",
    "                if port not in flows:\n",
    "                    flows[port]={\"serverip\":packet.get(\"ip_dest\"), \"serverport\":packet.get(\"dest_port\"), \"act_times\":[],\"times\":[], \"windows\":[], \"cwnd\":[], \"bif\":0, \"last_ack\":0, \"last_seq\":0, \"pif\":0}\n",
    "                flows[port][\"act_times\"].append(packet.get(\"time\"))\n",
    "                flows[port][\"times\"].append(float(packet.get(\"frame_time_rel\")))\n",
    "                flows[port][\"bif\"]-=max(0,(int(packet.get(\"ack\"))-int(flows[port][\"last_ack\"])))\n",
    "                flows[port][\"last_ack\"]=max(int(flows[port][\"last_ack\"]),int(packet.get(\"ack\")))\n",
    "                #flows[port][\"windows\"].append(int(flows[port][\"bif\"]))\n",
    "                flows[port][\"pif\"]-=1\n",
    "                flows[port][\"cwnd\"].append(flows[port][\"pif\"])\n",
    "            elif packet.get(\"ip_dest\")==host_port and packet.get(\"frame_time_rel\")!='' and packet.get(\"seq\")!='':\n",
    "                #we care about this Data packet\n",
    "                validPkt=True\n",
    "                port=packet.get(\"dest_port\")\n",
    "                if port not in flows:\n",
    "                    flows[port]={\"serverip\":packet.get(\"ip_src\"), \"serverport\":packet.get(\"src_port\"),\"act_times\":[], \"times\":[], \"windows\":[], \"cwnd\":[], \"bif\":0, \"last_ack\":0, \"last_seq\":0, \"pif\":0}\n",
    "                flows[port][\"times\"].append(float(packet.get(\"frame_time_rel\")))\n",
    "                flows[port][\"act_times\"].append(packet.get(\"time\"))\n",
    "                flows[port][\"bif\"]+=max(0,(int(packet.get(\"seq\"))-int(flows[port][\"last_seq\"])))\n",
    "                flows[port][\"last_seq\"]=max(flows[port][\"last_seq\"],int(packet.get(\"seq\")))\n",
    "                flows[port][\"pif\"]+=1\n",
    "                flows[port][\"cwnd\"].append(flows[port][\"pif\"])\n",
    "            if SMOOTHENING and validPkt and len(flows[port][\"windows\"])>2:\n",
    "                flows[port][\"windows\"].append(int((s_factor*flows[port][\"windows\"][-1])+((1-s_factor)*flows[port][\"bif\"])))\n",
    "            elif validPkt:\n",
    "                flows[port][\"windows\"].append(int(flows[port][\"bif\"]))\n",
    "            line_count+=1\n",
    "            total_bytes+=int(packet.get(\"frame_len\"))\n",
    "            #print(line_count, total_bytes)\n",
    "            \n",
    "        print(\"total bytes processed:\", total_bytes/1000, \"KBytes for\", cc, \"(unlimited)\")\n",
    "    return flows\n",
    "\n",
    "def custom_smooth_function():\n",
    "    pass\n",
    "\n",
    "def get_flow_stats(flows):\n",
    "    num=len(flows.keys())\n",
    "    print(\"FLOW STATISTICS: \\nNumber of flows: \", num)\n",
    "    print(\"------------------------------------------------------------------------------\")\n",
    "    print('%6s'%\"port\", '%15s'%\"SrcIP\", '%8s'%\"SrcPort\",  '%8s'%\"duration\",  '%8s'%\"start\",  '%8s'%\"end\", '%8s'%\"Sent (B)\", '%8s'%\"Recv (B)\",)\n",
    "    for k in flows.keys():\n",
    "        print('%6s'%k, '%15s'%flows[k][\"serverip\"], '%8s'%flows[k][\"serverport\"], '%8s'%str('%.2f'%(flows[k][\"times\"][-1]-flows[k][\"times\"][0])), '%8s'%str('%.2f'%flows[k][\"times\"][0]), '%8s'%str('%.2f'%flows[k][\"times\"][-1]), '%8s'%flows[k][\"last_seq\"], '%8s'%flows[k][\"last_ack\"])\n",
    "        #print(\"    * Flow \"+str(k)+\": \", flows[k][\"last_ack\"], \" \", flows[k][\"last_seq\"], \" bytes transfered.\")\n",
    "    return num\n",
    "\n",
    "def run(files):\n",
    "    flows = {}\n",
    "    for f in files:\n",
    "        algo_cc=f\n",
    "        #Get the data for all the flows\n",
    "        print(\"==============================================================================\")\n",
    "        print(\"opening trace ../measurements/\"+algo_cc+\".csv...\")\n",
    "        flows = process_flows(algo_cc, \"./Nebby/measurements/\")\n",
    "        #decide on final graph layout\n",
    "        num = get_flow_stats(flows)\n",
    "\n",
    "        if ONLY_STATS:\n",
    "            sys.exit()\n",
    "\n",
    "        if num==1:\n",
    "            MULTI_GRAPH=False\n",
    "        #grid size\n",
    "        if MULTI_GRAPH:\n",
    "            size=(0,0)\n",
    "            grids={1:(2,2), 2:(2,2), 4:(2,2), 6:(2,3), 9:(3,3), 12:(3,4), 15:(3,5), 16:(4,4), 20:(5,4), 24:(6,4), 30:(6,5), 36:(6,6), 40:(8,5), 42:(8,7), 49:(7,7)}\n",
    "            g=num\n",
    "            while g<=49 and g not in grids:\n",
    "                g+=1\n",
    "            if g in grids.keys():\n",
    "                size=grids[g]\n",
    "            else:\n",
    "                size=grids[49]  \n",
    "            fig, axs = plt.subplots(size[0], size[1])\n",
    "            for i in range(size[0]):\n",
    "                for j in range(size[1]):\n",
    "                    #axs[i][j].legend(loc=\"lower right\")\n",
    "                    if i==size[0]-1:\n",
    "                        axs[i][j].set_xlabel(\"Time (s)\")\n",
    "                    if j==0:\n",
    "                        axs[i][j].set_ylabel(\"Bytes in flight\")\n",
    "        else:\n",
    "            plt.xlabel(\"Time (s)\")\n",
    "            plt.ylabel(\"Bytes in flight\")\n",
    "        counter=0\n",
    "        for port in flows.keys():\n",
    "            if MULTI_GRAPH:  \n",
    "                axs[counter%size[0]][(counter//size[0])%size[1]].scatter(flows[port][\"times\"], flows[port][\"windows\"], color=\"#858585\")\n",
    "                axs[counter%size[0]][(counter//size[0])%size[1]].plot(flows[port][\"times\"], flows[port][\"windows\"], label=str(port), linestyle=\"solid\")\n",
    "            else:\n",
    "                plt.plot(flows[port][\"times\"], flows[port][\"windows\"], label=str(port), linestyle=\"solid\")\n",
    "                plt.scatter(flows[port][\"times\"], flows[port][\"windows\"], color=\"#858585\")\n",
    "            counter+=1\n",
    "        if MULTI_GRAPH:\n",
    "            counter=0\n",
    "            for port in flows.keys():\n",
    "                axs[counter%size[0]][(counter//size[0])%size[1]].legend()\n",
    "                counter+=1\n",
    "        else:\n",
    "            plt.legend()\n",
    "        if MULTI_GRAPH:\n",
    "            fig.set_size_inches(16, 12)\n",
    "        if SHOW:\n",
    "            plt.show()\n",
    "        else:\n",
    "            plt.savefig(\"../logs/results/\"+algo_cc+\".png\", dpi=600, bbox_inches='tight', pad_inches=0)\n",
    "    return flows\n",
    "\n",
    "def get_window(f,p):\n",
    "    algo_cc = f\n",
    "    flows = process_flows(algo_cc, \"./Nebby/measurements/\")\n",
    "    data = []\n",
    "    time = []\n",
    "    for port in flows.keys():\n",
    "        if flows[port][\"last_ack\"] == 0 :\n",
    "            continue\n",
    "        else :\n",
    "            data = flows[port]['windows']\n",
    "            time = flows[port]['times']\n",
    "            if p == \"p\":\n",
    "                for i in range(len(flows[port]['windows'])):\n",
    "                    print(\"{0:10}{1:10}\".format(flows[port]['times'][i], flows[port]['windows'][i]))\n",
    "        time_index = len(time)-1\n",
    "        for index in range(len(flows[port]['times'])-1):\n",
    "            if flows[port]['times'][index+1] - flows[port]['times'][index] > 1 :\n",
    "                time_index = index\n",
    "        time_last = flows[port]['times'][time_index]\n",
    "        data = data[:time_index+1]\n",
    "        time = time[:time_index+1]\n",
    "        return data, time"
   ]
  },
  {
   "cell_type": "markdown",
   "id": "bd06daa8",
   "metadata": {},
   "source": [
    "## End"
   ]
  },
  {
   "cell_type": "markdown",
   "id": "a8fe4a66",
   "metadata": {},
   "source": [
    "# Running some function on the gradient "
   ]
  },
  {
   "cell_type": "code",
   "execution_count": null,
   "id": "b65e0798",
   "metadata": {},
   "outputs": [],
   "source": [
    "# You get the peaks, once you get the peaks you increase their values and then get the std variantion again. \n",
    "# Then you get the features again"
   ]
  },
  {
   "cell_type": "code",
   "execution_count": null,
   "id": "00ad6557",
   "metadata": {},
   "outputs": [],
   "source": [
    "def get_amp_grad(features, grad_time, grad_data, rtt):\n",
    "    mn = grad_data.mean()\n",
    "    grad_data -= mn\n",
    "    for ft in features :\n",
    "        # This idea should be more refined mathematically\n",
    "        if ft[2]==1:\n",
    "            grad_data[ft[0]:ft[1]+1] /= 2\n",
    "    data = grad_data\n",
    "    time = grad_time\n",
    "    mean = data.mean()\n",
    "    print(\"Mean\", mean)\n",
    "    sd = statistics.pstdev(data)\n",
    "    print(\"Std Dev\", sd)\n",
    "    data = abs(data - mean)\n",
    "    features = []\n",
    "    tp = 0\n",
    "    ch_left = 0\n",
    "    ch_right = 0\n",
    "    max_win = 0\n",
    "    min_win = 0\n",
    "    m = 2\n",
    "    while time[ch_right] - time[ch_left] < rtt :\n",
    "        max_win = max(max_win, data[ch_right])\n",
    "        ch_right+=1\n",
    "    if max_win > m*sd :\n",
    "        tp = 1\n",
    "\n",
    "    max_win = 0\n",
    "    min_win = 0\n",
    "\n",
    "    ft_left = 0\n",
    "    left = 0\n",
    "    right = 0\n",
    "\n",
    "    while ft_left < len(time) and left < len(time):\n",
    "        while right < len(time) and (time[right] - time[left]) <= rtt:\n",
    "            max_win = max(max_win, data[right])\n",
    "            right+=1\n",
    "        if tp == 0:\n",
    "            if (max_win > m*sd):\n",
    "                features.append([ft_left, left-1, tp])\n",
    "                ft_left = left\n",
    "                tp = 1\n",
    "        if tp == 1:\n",
    "            if (max_win < m*sd):\n",
    "                features.append([ft_left, left-1, tp])\n",
    "                ft_left = left\n",
    "                tp = 0\n",
    "    #     print(left, right, max_win, mean + m*sd)\n",
    "        max_win = 0\n",
    "        min_win = 0\n",
    "        left = right\n",
    "        \n",
    "    features.append([ft_left, left-1, tp])\n",
    "    grad_data += mn\n",
    "    pos = 0\n",
    "    for ft in features :\n",
    "        if pos > 0 and pos < len(features)-1 :\n",
    "            if(grad_time[ft[1]] - grad_time[ft[0]] < rtt):\n",
    "                if features[pos-1][2] == features[pos+1][2] :\n",
    "                    ft[2] = features[pos-1][2]\n",
    "        pos+=1\n",
    "        \n",
    "    return features, grad_time, grad_data"
   ]
  },
  {
   "cell_type": "code",
   "execution_count": null,
   "id": "45dbc3e5",
   "metadata": {},
   "outputs": [],
   "source": [
    "def get_new_grad(curr_file):\n",
    "    features, main_time, main_data, grad_time, grad_data, rtt = get_time_features_bt(curr_file)\n",
    "    features, grad_time, grad_data = get_amp_grad(features, grad_time, grad_data, rtt)\n",
    "    main_features = get_features(features, main_time, grad_time)\n",
    "    fig, ax = plt.subplots(1,1, figsize=(15,8))\n",
    "    plot_d(ax, grad_time, grad_data, \"g\", \"Smoothened\")\n",
    "    for ft in features : \n",
    "        print(main_time[ft[1]]-main_time[ft[0]], ft[2])\n",
    "        ax.plot(main_time[ft[0]:ft[1]+1], main_data[ft[0]:ft[1]+1], color = color[ft[2]])\n",
    "    plt.show()"
   ]
  },
  {
   "cell_type": "code",
   "execution_count": null,
   "id": "89e75d71",
   "metadata": {},
   "outputs": [],
   "source": []
  },
  {
   "cell_type": "code",
   "execution_count": null,
   "id": "fab3504c",
   "metadata": {},
   "outputs": [],
   "source": [
    "get_new_grad(curr_file)"
   ]
  },
  {
   "cell_type": "markdown",
   "id": "dfacb4fd",
   "metadata": {},
   "source": [
    "# Moving average on RTT after getting FFT data"
   ]
  },
  {
   "cell_type": "code",
   "execution_count": null,
   "id": "d55f6ec1",
   "metadata": {},
   "outputs": [],
   "source": [
    "import pandas as pd"
   ]
  },
  {
   "cell_type": "code",
   "execution_count": null,
   "id": "d7c22cd8",
   "metadata": {},
   "outputs": [],
   "source": [
    "def smoothen(time, data, rtt):\n",
    "    # Smoothening \n",
    "    # ax.plot(main_time, main_data)\n",
    "    n_data = pd.DataFrame(data)\n",
    "    avg_data = n_data.rolling(window=60, center=True).mean()\n",
    "    for i in range(30):\n",
    "        avg_data[0][i] = data[i]\n",
    "    for i in range(-1, -30, -1):\n",
    "        avg_data[0][len(data) + i] = data[len(data) + i]\n",
    "    ans_data = avg_data[0]\n",
    "    return time, ans_data"
   ]
  },
  {
   "cell_type": "code",
   "execution_count": null,
   "id": "5e450808",
   "metadata": {},
   "outputs": [],
   "source": [
    "def plot_one_bt(files):\n",
    "    for f in files:\n",
    "        fs = f.split(\"-\")\n",
    "        pre = int(fs[1])\n",
    "        post = int(fs[2])\n",
    "        rtt = float(((pre+post)*2))/1000\n",
    "        \n",
    "        fig, ax = plt.subplots(1,1, figsize=(15,8))\n",
    "        time, data = get_fft_smoothening(ax,f,0,rtt,0)\n",
    "        print(len(time), len(data))\n",
    "        time, data = smoothen(time, data, rtt)\n",
    "        print(len(time), len(data))\n",
    "        plot_d(ax, time, data, \"g\", \"Smoothened\")\n",
    "#         fd_time, fd_data = get_fd(time, data)\n",
    "#         plot_d(ax, time, data, \"g\")\n",
    "        grad_time, grad_data = get_grad(time, data)\n",
    "        plot_d(ax, grad_time, grad_data, \"r\", \"Gradient\")\n",
    "        grad_step_time, grad_step_data = get_step_grad(time, data, rtt)\n",
    "#         plot_d(ax, grad_step_time, grad_step_data, \"b\", \"Step Gradient\")\n",
    "        ax.title.set_text(f)\n",
    "        ax.legend()\n",
    "        plt.show()\n",
    "    return time, data, grad_time, grad_data, grad_step_time, grad_step_data, rtt\n",
    "#     return time, data "
   ]
  },
  {
   "cell_type": "code",
   "execution_count": null,
   "id": "ebe26008",
   "metadata": {},
   "outputs": [],
   "source": [
    "def get_time_features_bt(curr_file):\n",
    "    main_time, main_data, grad_time, grad_data, grad_step_time, grad_step_data, rtt= plot_one_bt(curr_file)\n",
    "    \n",
    "    data = grad_data\n",
    "    time = grad_time\n",
    "    mean = data.mean()\n",
    "    print(\"Mean\", mean)\n",
    "    sd = statistics.pstdev(data)\n",
    "    print(\"Std Dev\", sd)\n",
    "    data = abs(data - mean)\n",
    "    features = []\n",
    "    tp = 0\n",
    "    ch_left = 0\n",
    "    ch_right = 0\n",
    "    max_win = 0\n",
    "    min_win = 0\n",
    "    m = 2\n",
    "    while time[ch_right] - time[ch_left] < rtt :\n",
    "        max_win = max(max_win, data[ch_right])\n",
    "        ch_right+=1\n",
    "    if max_win > m*sd :\n",
    "        tp = 1\n",
    "\n",
    "    max_win = 0\n",
    "    min_win = 0\n",
    "\n",
    "    ft_left = 0\n",
    "    left = 0\n",
    "    right = 0\n",
    "\n",
    "    while ft_left < len(time) and left < len(time):\n",
    "        while right < len(time) and (time[right] - time[left]) <= rtt:\n",
    "            max_win = max(max_win, data[right])\n",
    "            right+=1\n",
    "        if tp == 0:\n",
    "            if (max_win > m*sd):\n",
    "                features.append((ft_left, left-1, tp))\n",
    "                ft_left = left\n",
    "                tp = 1\n",
    "        if tp == 1:\n",
    "            if (max_win < m*sd):\n",
    "                features.append((ft_left, left-1, tp))\n",
    "                ft_left = left\n",
    "                tp = 0\n",
    "    #     print(left, right, max_win, mean + m*sd)\n",
    "        max_win = 0\n",
    "        min_win = 0\n",
    "        left = right \n",
    "\n",
    "    features.append((ft_left, left-1, tp))\n",
    "    return features, main_time, main_data, grad_time, grad_data, rtt"
   ]
  },
  {
   "cell_type": "code",
   "execution_count": null,
   "id": "1b3708c1",
   "metadata": {},
   "outputs": [],
   "source": [
    "def get_features(features, main_time, grad_time):\n",
    "    left = 0\n",
    "    right = 0\n",
    "    result_ft = []\n",
    "    for ft in features:\n",
    "#         print(\"Next Stop\", grad_time[ft[1]])\n",
    "        while(right < len(main_time) and main_time[right] < grad_time[ft[1]]):\n",
    "#             print(main_time[right])\n",
    "            right+=1\n",
    "        result_ft.append((left, right-1, ft[2]))\n",
    "        left = right\n",
    "    if left < right :\n",
    "        result_ft.append((left, right-1, ft[2]))\n",
    "    return result_ft"
   ]
  },
  {
   "cell_type": "code",
   "execution_count": null,
   "id": "47c9e9a6",
   "metadata": {},
   "outputs": [],
   "source": [
    "def get_cc_ft_bt(curr_file):\n",
    "    features, main_time, main_data, grad_time, grad_data = get_time_features_bt(curr_file)\n",
    "    main_features = get_features(features, main_time, grad_time)\n",
    "    fig, ax = plt.subplots(1,1, figsize=(15,8))\n",
    "    for ft in features : \n",
    "        ax.plot(main_time[ft[0]:ft[1]+1], main_data[ft[0]:ft[1]+1], color = color[ft[2]])"
   ]
  },
  {
   "cell_type": "code",
   "execution_count": null,
   "id": "903582d4",
   "metadata": {},
   "outputs": [],
   "source": [
    "get_cc_ft_bt(curr_file)"
   ]
  },
  {
   "cell_type": "code",
   "execution_count": null,
   "id": "14884384",
   "metadata": {},
   "outputs": [],
   "source": [
    "get_cc_ft_bt(curr_file)"
   ]
  },
  {
   "cell_type": "code",
   "execution_count": null,
   "id": "1a2afc3e",
   "metadata": {},
   "outputs": [],
   "source": [
    "get_cc_ft_bt(curr_file)"
   ]
  },
  {
   "cell_type": "markdown",
   "id": "ab1fc515",
   "metadata": {},
   "source": [
    "## Checking centered smoothening works better when the threshold is taken to be 1 RTT "
   ]
  },
  {
   "cell_type": "code",
   "execution_count": null,
   "id": "00022824",
   "metadata": {},
   "outputs": [],
   "source": [
    "curr_file = [\"cubic-25-25-1000\"]"
   ]
  },
  {
   "cell_type": "code",
   "execution_count": null,
   "id": "87f2349b",
   "metadata": {},
   "outputs": [],
   "source": [
    "curr_file = [\"reno-25-25-1000\"]"
   ]
  },
  {
   "cell_type": "code",
   "execution_count": null,
   "id": "97091dda",
   "metadata": {},
   "outputs": [],
   "source": [
    "curr_file = [\"bbr-30-30-2000\"]"
   ]
  },
  {
   "cell_type": "code",
   "execution_count": null,
   "id": "749112ca",
   "metadata": {},
   "outputs": [],
   "source": [
    "main_time, main_data, grad_time, grad_data, grad_step_time, grad_step_data = plot_one_bt(curr_file)"
   ]
  },
  {
   "cell_type": "code",
   "execution_count": null,
   "id": "adcd6998",
   "metadata": {},
   "outputs": [],
   "source": [
    "# Smoothening \n",
    "fig, ax = plt.subplots(1,1, figsize=(15,8))\n",
    "# ax.plot(main_time, main_data)\n",
    "n_data = pd.DataFrame(main_data)\n",
    "avg_data = n_data.rolling(window=60, center=False).mean()\n",
    "# ax.plot(avg_data, lw=2, alpha = 0.5)\n",
    "\n",
    "avg_data = n_data.rolling(window=60, center=True).mean()\n",
    "for i in range(30):\n",
    "    avg_data[0][i] = main_data[i]\n",
    "for i in range(-1, -30, -1):\n",
    "    avg_data[0][len(avg_data) + i] = main_data[len(avg_data) + i]\n",
    "ax.plot(main_time, avg_data, lw=2, alpha = 0.7)\n",
    "print(len(main_data), len(avg_data))\n",
    "plt.show()"
   ]
  },
  {
   "cell_type": "code",
   "execution_count": null,
   "id": "003a079e",
   "metadata": {},
   "outputs": [],
   "source": [
    "main_time, main_data, grad_time, grad_data, grad_step_time, grad_step_data = plot_one_bt(curr_file)"
   ]
  },
  {
   "cell_type": "code",
   "execution_count": null,
   "id": "496eeff6",
   "metadata": {},
   "outputs": [],
   "source": [
    "# Smoothening \n",
    "fig, ax = plt.subplots(1,1, figsize=(15,8))\n",
    "# ax.plot(main_time, main_data)\n",
    "n_data = pd.DataFrame(main_data)\n",
    "avg_data = n_data.rolling(window=60, center=False).mean()\n",
    "# ax.plot(avg_data, lw=2, alpha = 0.5)\n",
    "\n",
    "avg_data = n_data.rolling(window=60, center=True).mean()\n",
    "for i in range(30):\n",
    "    avg_data[0][i] = main_data[i]\n",
    "for i in range(-1, -30, -1):\n",
    "    avg_data[0][len(avg_data) + i] = main_data[len(avg_data) + i]\n",
    "ax.plot(main_time, avg_data, lw=2, alpha = 0.7)\n",
    "print(len(main_data), len(avg_data))\n",
    "plt.show()"
   ]
  },
  {
   "cell_type": "code",
   "execution_count": null,
   "id": "6c0c95b0",
   "metadata": {},
   "outputs": [],
   "source": [
    "main_time, main_data, grad_time, grad_data, grad_step_time, grad_step_data = plot_one_bt(curr_file)"
   ]
  },
  {
   "cell_type": "code",
   "execution_count": null,
   "id": "5cff3767",
   "metadata": {},
   "outputs": [],
   "source": [
    "left = 0\n",
    "right = 0\n",
    "mp = {}\n",
    "while right < len(main_time):\n",
    "    while right < len(main_time) and main_time[right] - main_time[left] < 0.1 :\n",
    "        right+=1\n",
    "    count = right - left \n",
    "    if count not in mp :\n",
    "        mp[count] = 0\n",
    "    mp[count] += 1\n",
    "    left = right\n",
    "sort_mp = {}\n",
    "for key in sorted(mp):\n",
    "    sort_mp[key] = mp[key]\n",
    "sort_mp"
   ]
  },
  {
   "cell_type": "code",
   "execution_count": null,
   "id": "81cc7f81",
   "metadata": {},
   "outputs": [],
   "source": [
    "# Smoothening \n",
    "fig, ax = plt.subplots(1,1, figsize=(15,8))\n",
    "# ax.plot(main_time, main_data)\n",
    "n_data = pd.DataFrame(main_data)\n",
    "avg_data = n_data.rolling(window=60, center=False).mean()\n",
    "# ax.plot(avg_data, lw=2, alpha = 0.5)\n",
    "\n",
    "avg_data = n_data.rolling(window=60, center=True).mean()\n",
    "for i in range(30):\n",
    "    avg_data[0][i] = main_data[i]\n",
    "for i in range(-1, -30, -1):\n",
    "    avg_data[0][len(avg_data) + i] = main_data[len(avg_data) + i]\n",
    "ax.plot(main_time, avg_data, lw=2, alpha = 0.7)b\n",
    "print(len(main_data), len(avg_data))\n",
    "plt.show()"
   ]
  },
  {
   "cell_type": "code",
   "execution_count": null,
   "id": "4d7362ca",
   "metadata": {},
   "outputs": [],
   "source": []
  },
  {
   "cell_type": "code",
   "execution_count": null,
   "id": "c351d8d9",
   "metadata": {},
   "outputs": [],
   "source": []
  },
  {
   "cell_type": "code",
   "execution_count": null,
   "id": "adef0e21",
   "metadata": {},
   "outputs": [],
   "source": [
    "def get_cc_ft_bt(curr_file):\n",
    "    features, main_time, main_data, grad_time, grad_data = get_time_features_bt(curr_file)\n",
    "    main_features = get_features(features, main_time, grad_time)\n",
    "    fig, ax = plt.subplots(1,1, figsize=(15,8))\n",
    "    for ft in features : \n",
    "        ax.plot(main_time[ft[0]:ft[1]+1], main_data[ft[0]:ft[1]+1], color = color[ft[2]])"
   ]
  },
  {
   "cell_type": "code",
   "execution_count": null,
   "id": "019229e7",
   "metadata": {},
   "outputs": [],
   "source": [
    "get_cc_ft_bt(curr_file)"
   ]
  },
  {
   "cell_type": "markdown",
   "id": "d17cd74e",
   "metadata": {},
   "source": [
    "## Making one function "
   ]
  },
  {
   "cell_type": "code",
   "execution_count": null,
   "id": "17556dac",
   "metadata": {},
   "outputs": [],
   "source": [
    "def get_cc_features(curr_file):\n",
    "    features, main_time, main_data, grad_time, grad_data = get_time_features(curr_file)\n",
    "    main_features = get_features(features, main_time, grad_time)\n",
    "    fig, ax = plt.subplots(1,1, figsize=(15,8))\n",
    "    for ft in features : \n",
    "        ax.plot(main_time[ft[0]:ft[1]+1], main_data[ft[0]:ft[1]+1], color = color[ft[2]])"
   ]
  },
  {
   "cell_type": "code",
   "execution_count": null,
   "id": "59f4fd57",
   "metadata": {},
   "outputs": [],
   "source": [
    "get_cc_features(curr_file)"
   ]
  },
  {
   "cell_type": "code",
   "execution_count": null,
   "id": "0c041b26",
   "metadata": {},
   "outputs": [],
   "source": [
    "curr_file = [\"cubic-30-30-1000\"]\n",
    "get_cc_features(curr_file)"
   ]
  },
  {
   "cell_type": "code",
   "execution_count": null,
   "id": "174b1cb0",
   "metadata": {},
   "outputs": [],
   "source": [
    "curr_file = [\"reno-30-30-1000\"]\n",
    "get_cc_features(curr_file)"
   ]
  },
  {
   "cell_type": "code",
   "execution_count": null,
   "id": "75601f55",
   "metadata": {},
   "outputs": [],
   "source": [
    "curr_file = [\"bbr-30-30-2000\"]\n",
    "get_cc_features(curr_file)"
   ]
  },
  {
   "cell_type": "markdown",
   "id": "cda71024",
   "metadata": {},
   "source": [
    "## Now lets get the features "
   ]
  },
  {
   "cell_type": "code",
   "execution_count": null,
   "id": "abf28263",
   "metadata": {},
   "outputs": [],
   "source": [
    "curr_file = [\"cubic-25-25-1000\"]"
   ]
  },
  {
   "cell_type": "code",
   "execution_count": null,
   "id": "7976097d",
   "metadata": {},
   "outputs": [],
   "source": [
    "def get_time_features(curr_file):\n",
    "    main_time, main_data, grad_time, grad_data, grad_step_time, grad_step_data = plot_one(curr_file)\n",
    "    \n",
    "    data = grad_data\n",
    "    time = grad_time\n",
    "    mean = data.mean()\n",
    "    print(\"Mean\", mean)\n",
    "    sd = statistics.pstdev(data)\n",
    "    print(\"Std Dev\", sd)\n",
    "    rtt = 0.1 # RTT\n",
    "    data = abs(data - mean)\n",
    "    features = []\n",
    "    tp = 0\n",
    "    ch_left = 0\n",
    "    ch_right = 0\n",
    "    max_win = 0\n",
    "    min_win = 0\n",
    "    m = 2\n",
    "    while time[ch_right] - time[ch_left] < rtt :\n",
    "        max_win = max(max_win, data[ch_right])\n",
    "        ch_right+=1\n",
    "    if max_win > m*sd :\n",
    "        tp = 1\n",
    "    print(tp)\n",
    "    max_win = 0\n",
    "    min_win = 0\n",
    "\n",
    "    ft_left = 0\n",
    "    left = 0\n",
    "    right = 0\n",
    "\n",
    "    while ft_left < len(time) and left < len(time):\n",
    "        while right < len(time) and (time[right] - time[left]) <= rtt:\n",
    "            max_win = max(max_win, data[right])\n",
    "            right+=1\n",
    "        if tp == 0:\n",
    "            if (max_win > m*sd):\n",
    "                features.append((ft_left, left-1, tp))\n",
    "                ft_left = left\n",
    "                tp = 1\n",
    "        if tp == 1:\n",
    "            if (max_win < m*sd):\n",
    "                features.append((ft_left, left-1, tp))\n",
    "                ft_left = left\n",
    "                tp = 0\n",
    "    #     print(left, right, max_win, mean + m*sd)\n",
    "        max_win = 0\n",
    "        min_win = 0\n",
    "        left = right \n",
    "\n",
    "    features.append((ft_left, left-1, tp))\n",
    "    return features, main_time, main_data, grad_time, grad_data"
   ]
  },
  {
   "cell_type": "code",
   "execution_count": null,
   "id": "a5bf78a0",
   "metadata": {},
   "outputs": [],
   "source": [
    "features, main_time, main_data, grad_time, grad_data = get_time_features(curr_file) \n",
    "fig, ax = plt.subplots(1,1, figsize=(15,8))\n",
    "for ft in features : \n",
    "#     print(grad_time[ft[1]] - grad_time[ft[0]])\n",
    "    ax.plot(grad_time[ft[0]:ft[1]+1], grad_data[ft[0]:ft[1]+1], color = color[ft[2]])\n",
    "ax.plot(main_time, main_data)"
   ]
  },
  {
   "cell_type": "code",
   "execution_count": null,
   "id": "9a66001c",
   "metadata": {},
   "outputs": [],
   "source": [
    "def get_features(features, main_time, grad_time):\n",
    "    left = 0\n",
    "    right = 0\n",
    "    result_ft = []\n",
    "    for ft in features:\n",
    "#         print(\"Next Stop\", grad_time[ft[1]])\n",
    "        while(right < len(main_time) and main_time[right] < grad_time[ft[1]]):\n",
    "#             print(main_time[right])\n",
    "            right+=1\n",
    "        result_ft.append((left, right-1, ft[2]))\n",
    "        left = right\n",
    "    if left < right :\n",
    "        result_ft.append((left, right-1, ft[2]))\n",
    "    return result_ft"
   ]
  },
  {
   "cell_type": "code",
   "execution_count": null,
   "id": "79947201",
   "metadata": {},
   "outputs": [],
   "source": [
    "main_features = get_features(features, main_time, grad_time)"
   ]
  },
  {
   "cell_type": "code",
   "execution_count": null,
   "id": "e842a782",
   "metadata": {},
   "outputs": [],
   "source": [
    "for ft in main_features:\n",
    "    print(ft[0],ft[1], ft[2])"
   ]
  },
  {
   "cell_type": "code",
   "execution_count": null,
   "id": "f3406a9e",
   "metadata": {},
   "outputs": [],
   "source": [
    "fig, ax = plt.subplots(1,1, figsize=(15,8))\n",
    "for ft in features : \n",
    "    ax.plot(main_time[ft[0]:ft[1]+1], main_data[ft[0]:ft[1]+1], color = color[ft[2]])"
   ]
  },
  {
   "cell_type": "code",
   "execution_count": null,
   "id": "9c374e1e",
   "metadata": {},
   "outputs": [],
   "source": []
  },
  {
   "cell_type": "markdown",
   "id": "110ea8c4",
   "metadata": {},
   "source": [
    "## First difference approach  -> Grad and Step Grad"
   ]
  },
  {
   "cell_type": "code",
   "execution_count": null,
   "id": "64dfe20d",
   "metadata": {},
   "outputs": [],
   "source": [
    "curr_file = [\"cubic-25-25-1000\"]"
   ]
  },
  {
   "cell_type": "code",
   "execution_count": null,
   "id": "229b6bb4",
   "metadata": {
    "scrolled": false
   },
   "outputs": [],
   "source": [
    "time, data = plot_one(curr_file)"
   ]
  },
  {
   "cell_type": "code",
   "execution_count": null,
   "id": "c9c019b6",
   "metadata": {},
   "outputs": [],
   "source": [
    "def get_fd(time, data):\n",
    "    new_data = []\n",
    "    new_data.append(0)\n",
    "    for i in range(1, len(data)):\n",
    "        new_data.append(data[i]-data[i-1])\n",
    "    max_data = max(new_data)\n",
    "    min_data = min(new_data)\n",
    "    plot_data = (new_data-min_data)/(max_data-min_data)\n",
    "    return time, plot_data"
   ]
  },
  {
   "cell_type": "code",
   "execution_count": null,
   "id": "5045fcd5",
   "metadata": {},
   "outputs": [],
   "source": []
  },
  {
   "cell_type": "code",
   "execution_count": null,
   "id": "293dabca",
   "metadata": {},
   "outputs": [],
   "source": [
    "def get_grad(time, data):\n",
    "    new_data = []\n",
    "    new_data.append(0)\n",
    "    for i in range(1, len(data)):\n",
    "        diff = time[i]-time[i-1]\n",
    "        if diff == 0:\n",
    "            diff = 0.002\n",
    "        new_data.append((data[i]-data[i-1])/(diff))\n",
    "    plot_data = new_data\n",
    "    max_data = max(new_data)\n",
    "    min_data = min(new_data)\n",
    "    plot_data = (new_data - min_data)/(max_data-min_data)\n",
    "    return time, plot_data"
   ]
  },
  {
   "cell_type": "code",
   "execution_count": null,
   "id": "db0950cd",
   "metadata": {},
   "outputs": [],
   "source": [
    "time, fd_data = get_fd(data)"
   ]
  },
  {
   "cell_type": "code",
   "execution_count": null,
   "id": "722e9c35",
   "metadata": {},
   "outputs": [],
   "source": [
    "step = 0.002"
   ]
  },
  {
   "cell_type": "code",
   "execution_count": null,
   "id": "627077e1",
   "metadata": {},
   "outputs": [],
   "source": [
    "from sortedcontainers import SortedDict\n",
    "from collections import OrderedDict"
   ]
  },
  {
   "cell_type": "code",
   "execution_count": null,
   "id": "306ae483",
   "metadata": {},
   "outputs": [],
   "source": [
    "def get_gradient(dt):\n",
    "    first = next(iter(dt))\n",
    "    last = next(reversed(dt))\n",
    "    time_first = dt[first][0]\n",
    "    time_last = dt[last][0]\n",
    "    diff = time_last-time_first\n",
    "    if diff == 0:\n",
    "        diff = 0.002\n",
    "    grad = (last-first)/(diff)\n",
    "    return grad, (first, last, time_first, time_last)"
   ]
  },
  {
   "cell_type": "code",
   "execution_count": null,
   "id": "acae7ab2",
   "metadata": {},
   "outputs": [],
   "source": [
    "left = 0\n",
    "right = 0\n",
    "grad = []\n",
    "grad_meta = []\n",
    "# dt = SortedDict()\n",
    "dt = OrderedDict()\n",
    "# continue loop till we reach the end of the right\n",
    "while right < len(time) and left < len(time):\n",
    "    # choose a right and while choosing get max and min\n",
    "    while right < len(time) and time[right] - time[left] < rtt :\n",
    "        if data[right] not in dt :\n",
    "            dt[data[right]] = list()\n",
    "        dt[data[right]].append(time[right])\n",
    "        right+=1\n",
    "    # save gradient and the data and time period with it\n",
    "    curr_grad, curr_meta = get_grad(dt) \n",
    "    grad.append(curr_grad)\n",
    "    grad_meta.append(curr_meta)\n",
    "    # choose the next left\n",
    "    prev_left = left \n",
    "    while left < len(time) and time[left] - time[prev_left] < step :\n",
    "        if data[left] in dt :\n",
    "            dt[data[left]].pop(0)\n",
    "            if len(dt[data[left]])==0:\n",
    "                del dt[data[left]]\n",
    "        left+=1\n"
   ]
  },
  {
   "cell_type": "code",
   "execution_count": null,
   "id": "53a5f8b7",
   "metadata": {},
   "outputs": [],
   "source": [
    "def get_step_grad(time, data, rtt):\n",
    "    left = 0\n",
    "    right = 0\n",
    "    grad = []\n",
    "    grad_time = []\n",
    "    grad_meta = []\n",
    "    # dt = SortedDict()\n",
    "    dt = OrderedDict()\n",
    "    # continue loop till we reach the end of the right\n",
    "    while right < len(time) and left < len(time):\n",
    "        # choose a right and while choosing get max and min\n",
    "        while right < len(time) and time[right] - time[left] < step :\n",
    "            if data[right] not in dt :\n",
    "                dt[data[right]] = list()\n",
    "            dt[data[right]].append(time[right])\n",
    "            right+=1\n",
    "        # save gradient and the data and time period with it\n",
    "        curr_grad, curr_meta = get_gradient(dt) \n",
    "        grad.append(curr_grad)\n",
    "        grad_time.append((curr_meta[2]+curr_meta[3])/2)\n",
    "        grad_meta.append(curr_meta)\n",
    "        # choose the next left\n",
    "        while left < len(time) and left!=right:\n",
    "            if data[left] in dt :\n",
    "                dt[data[left]].pop(0)\n",
    "                if len(dt[data[left]])==0:\n",
    "                    del dt[data[left]]\n",
    "            left+=1\n",
    "    plot_data = (grad - min(grad))/(max(grad)-min(grad))\n",
    "    return grad_time, plot_data\n"
   ]
  },
  {
   "cell_type": "code",
   "execution_count": null,
   "id": "e126f970",
   "metadata": {},
   "outputs": [],
   "source": [
    "def plot_d(ax, time, data, c, l):\n",
    "    ax.plot(time, data, color=c, lw=0.8, label = l)"
   ]
  },
  {
   "cell_type": "code",
   "execution_count": null,
   "id": "ad338f50",
   "metadata": {},
   "outputs": [],
   "source": [
    "def plot_one(files):\n",
    "    for f in files:\n",
    "        fs = f.split(\"-\")\n",
    "        pre = int(fs[1])\n",
    "        post = int(fs[2])\n",
    "        rtt = float(((pre+post)*2))/1000\n",
    "        \n",
    "        fig, ax = plt.subplots(1,1, figsize=(15,8))\n",
    "        time, data = get_fft_smoothening(ax,f,1,rtt,1)\n",
    "#         fd_time, fd_data = get_fd(time, data)\n",
    "#         plot_d(ax, time, fd_data, \"g\")\n",
    "        grad_time, grad_data = get_grad(time, data)\n",
    "        plot_d(ax, grad_time, grad_data, \"r\", \"Gradient\")\n",
    "#         grad_step_time, grad_step_data = get_step_grad(time, data, rtt)\n",
    "#         plot_d(ax, grad_time, grad_step_data, \"b\")\n",
    "        ax.title.set_text(f)\n",
    "        ax.legend()\n",
    "        plt.show()\n",
    "    return time, data, grad_time, grad_data, grad_step_time, grad_step_data\n",
    "#     return time, data "
   ]
  },
  {
   "cell_type": "code",
   "execution_count": null,
   "id": "0774897f",
   "metadata": {},
   "outputs": [],
   "source": [
    "len(time), len(grad_time), len(data), len(grad_data)"
   ]
  },
  {
   "cell_type": "code",
   "execution_count": null,
   "id": "493dc660",
   "metadata": {},
   "outputs": [],
   "source": [
    "time, data, grad_time, grad_data = plot_one(curr_file)"
   ]
  },
  {
   "cell_type": "code",
   "execution_count": null,
   "id": "6b74cf58",
   "metadata": {},
   "outputs": [],
   "source": [
    "len(time), len(data)"
   ]
  },
  {
   "cell_type": "code",
   "execution_count": null,
   "id": "aeae0cc5",
   "metadata": {
    "scrolled": false
   },
   "outputs": [],
   "source": [
    "grad_time, grad_data = plot_one(curr_file)"
   ]
  },
  {
   "cell_type": "code",
   "execution_count": null,
   "id": "6bd82809",
   "metadata": {},
   "outputs": [],
   "source": [
    "len(time), len(grad_time)"
   ]
  },
  {
   "cell_type": "code",
   "execution_count": null,
   "id": "5d589c35",
   "metadata": {},
   "outputs": [],
   "source": [
    "fig, ax = plt.subplots(1,1, figsize=(15,8))\n",
    "plot_d(ax, time, data, \"b\")\n",
    "mean_data = data.mean()\n",
    "ax.plot(time, [mean_data for t in time], color=\"r\")\n",
    "sd_data = statistics.pstdev(data)\n",
    "sddupp = [mean_data + 2*sd_data for t in time]\n",
    "sddlow = [mean_data - 2*sd_data for t in time]\n",
    "ax.fill_between(time, sddupp, sddlow, color = \"y\", alpha = 0.3)"
   ]
  },
  {
   "cell_type": "code",
   "execution_count": null,
   "id": "8f637559",
   "metadata": {},
   "outputs": [],
   "source": [
    "grad_time = time\n",
    "grad_data = data\n",
    "fig, ax = plt.subplots(1,1, figsize=(15,8))\n",
    "plot_d(ax, grad_time, grad_data, \"b\")\n",
    "mean_grad_data = grad_data.mean()\n",
    "sd_grad_data = statistics.pstdev(grad_data)\n",
    "sdupp = [mean_grad_data + 1.5*sd_grad_data for t in grad_time]\n",
    "sdlow = [mean_grad_data - 1.5*sd_grad_data for t in grad_time]\n",
    "ax.plot(grad_time, [mean_grad_data for t in grad_time], color=\"r\")\n",
    "ax.fill_between(grad_time, sdupp, sdlow, color = \"y\", alpha = 0.3)"
   ]
  },
  {
   "cell_type": "code",
   "execution_count": null,
   "id": "40d7407b",
   "metadata": {},
   "outputs": [],
   "source": [
    "data = grad_data\n",
    "time = grad_time"
   ]
  },
  {
   "cell_type": "code",
   "execution_count": null,
   "id": "310d877e",
   "metadata": {},
   "outputs": [],
   "source": [
    "mean = data.mean()\n",
    "sd = statistics.pstdev(data)"
   ]
  },
  {
   "cell_type": "code",
   "execution_count": null,
   "id": "56964a6b",
   "metadata": {},
   "outputs": [],
   "source": [
    "rtt = 0.1 # RTT\n",
    "data = abs(data - mean)\n",
    "features = []\n",
    "tp = 0\n",
    "ch_left = 0\n",
    "ch_right = 0\n",
    "max_win = 0\n",
    "min_win = 0\n",
    "m = 2\n",
    "while time[ch_right] - time[ch_left] < rtt :\n",
    "    max_win = max(max_win, data[ch_right])\n",
    "    ch_right+=1\n",
    "if max_win > m*sd :\n",
    "    tp = 1\n",
    "print(tp)\n",
    "max_win = 0\n",
    "min_win = 0\n",
    "\n",
    "ft_left = 0\n",
    "left = 0\n",
    "right = 0\n",
    "\n",
    "while ft_left < len(time) and left < len(time):\n",
    "    while right < len(time) and (time[right] - time[left]) <= rtt:\n",
    "        max_win = max(max_win, data[right])\n",
    "        right+=1\n",
    "    if tp == 0:\n",
    "        if (max_win > m*sd):\n",
    "            features.append((ft_left, left-1, tp))\n",
    "            ft_left = left\n",
    "            tp = 1\n",
    "    if tp == 1:\n",
    "        if (max_win < m*sd):\n",
    "            features.append((ft_left, left-1, tp))\n",
    "            ft_left = left\n",
    "            tp = 0\n",
    "#     print(left, right, max_win, mean + m*sd)\n",
    "    max_win = 0\n",
    "    min_win = 0\n",
    "    left = right \n",
    "\n",
    "features.append((ft_left, left-1, tp))"
   ]
  },
  {
   "cell_type": "code",
   "execution_count": null,
   "id": "425eac19",
   "metadata": {},
   "outputs": [],
   "source": [
    "len(data), len(time)"
   ]
  },
  {
   "cell_type": "code",
   "execution_count": null,
   "id": "560fbb5b",
   "metadata": {},
   "outputs": [],
   "source": [
    "features"
   ]
  },
  {
   "cell_type": "code",
   "execution_count": null,
   "id": "f0cdf59a",
   "metadata": {},
   "outputs": [],
   "source": [
    "color = [\"r\", \"b\"]"
   ]
  },
  {
   "cell_type": "code",
   "execution_count": null,
   "id": "15ef2c3f",
   "metadata": {},
   "outputs": [],
   "source": [
    "fig, ax = plt.subplots(1,1, figsize=(15,8))\n",
    "c = 0\n",
    "for ft in features : \n",
    "    print(time[ft[1]] - time[ft[0]])\n",
    "    ax.plot(time[ft[0]:ft[1]+1], grad_data[ft[0]:ft[1]+1], color = color[ft[2]])\n",
    "    if c == 0 :\n",
    "        c = 1\n",
    "    else :\n",
    "        c = 0\n",
    "ax.plot(main_time, main_data)"
   ]
  },
  {
   "cell_type": "markdown",
   "id": "ddbb63fb",
   "metadata": {},
   "source": [
    "### Lets see with reno and bbr as well "
   ]
  },
  {
   "cell_type": "code",
   "execution_count": null,
   "id": "db037930",
   "metadata": {},
   "outputs": [],
   "source": [
    "curr_file = [\"reno-25-25-1000\"]"
   ]
  },
  {
   "cell_type": "code",
   "execution_count": null,
   "id": "73f9f0c8",
   "metadata": {},
   "outputs": [],
   "source": [
    "main_time, main_data, grad_time, grad_data = plot_one(curr_file)"
   ]
  },
  {
   "cell_type": "code",
   "execution_count": null,
   "id": "4fde8292",
   "metadata": {},
   "outputs": [],
   "source": [
    "len(main_time), len(grad_time)"
   ]
  },
  {
   "cell_type": "code",
   "execution_count": null,
   "id": "853a4602",
   "metadata": {},
   "outputs": [],
   "source": [
    "data = grad_data\n",
    "time = grad_time\n",
    "mean = data.mean()\n",
    "print(\"Mean\", mean)\n",
    "sd = statistics.pstdev(data)\n",
    "print(\"Std Dev\", sd)\n",
    "rtt = 0.1 # RTT\n",
    "data = abs(data - mean)\n",
    "features = []\n",
    "tp = 0\n",
    "ch_left = 0\n",
    "ch_right = 0\n",
    "max_win = 0\n",
    "min_win = 0\n",
    "m = 2\n",
    "while time[ch_right] - time[ch_left] < rtt :\n",
    "    max_win = max(max_win, data[ch_right])\n",
    "    ch_right+=1\n",
    "if max_win > m*sd :\n",
    "    tp = 1\n",
    "print(tp)\n",
    "max_win = 0\n",
    "min_win = 0\n",
    "\n",
    "ft_left = 0\n",
    "left = 0\n",
    "right = 0\n",
    "\n",
    "while ft_left < len(time) and left < len(time):\n",
    "    while right < len(time) and (time[right] - time[left]) <= rtt:\n",
    "        max_win = max(max_win, data[right])\n",
    "        right+=1\n",
    "    if tp == 0:\n",
    "        if (max_win > m*sd):\n",
    "            features.append((ft_left, left-1, tp))\n",
    "            ft_left = left\n",
    "            tp = 1\n",
    "    if tp == 1:\n",
    "        if (max_win < m*sd):\n",
    "            features.append((ft_left, left-1, tp))\n",
    "            ft_left = left\n",
    "            tp = 0\n",
    "#     print(left, right, max_win, mean + m*sd)\n",
    "    max_win = 0\n",
    "    min_win = 0\n",
    "    left = right \n",
    "\n",
    "features.append((ft_left, left-1, tp))"
   ]
  },
  {
   "cell_type": "code",
   "execution_count": null,
   "id": "a4bfc90f",
   "metadata": {},
   "outputs": [],
   "source": [
    "fig, ax = plt.subplots(1,1, figsize=(15,8))\n",
    "for ft in features : \n",
    "    print(grad_time[ft[1]] - grad_time[ft[0]])\n",
    "    ax.plot(grad_time[ft[0]:ft[1]+1], grad_data[ft[0]:ft[1]+1], color = color[ft[2]])\n",
    "ax.plot(main_time, main_data)"
   ]
  },
  {
   "cell_type": "code",
   "execution_count": null,
   "id": "f057aad1",
   "metadata": {},
   "outputs": [],
   "source": [
    "curr_file = [\"bbr-25-25-3000\"]"
   ]
  },
  {
   "cell_type": "code",
   "execution_count": null,
   "id": "b59efc25",
   "metadata": {},
   "outputs": [],
   "source": [
    "main_time, main_data, grad_time, grad_data, grad_step_time, grad_step_data = plot_one(curr_file)"
   ]
  },
  {
   "cell_type": "code",
   "execution_count": null,
   "id": "f71d1481",
   "metadata": {},
   "outputs": [],
   "source": [
    "data = grad_data\n",
    "time = grad_time\n",
    "mean = data.mean() \n",
    "print(\"Mean\", mean)\n",
    "sd = statistics.pstdev(data)\n",
    "print(\"Std Dev\", sd)\n",
    "rtt = 0.1 # RTT\n",
    "data = abs(data - mean)\n",
    "features = []\n",
    "tp = 0\n",
    "ch_left = 0\n",
    "ch_right = 0\n",
    "max_win = 0\n",
    "min_win = 0\n",
    "m = 2\n",
    "while time[ch_right] - time[ch_left] < rtt :\n",
    "    max_win = max(max_win, data[ch_right])\n",
    "    ch_right+=1\n",
    "if max_win > m*sd :\n",
    "    tp = 1\n",
    "print(tp)\n",
    "max_win = 0\n",
    "min_win = 0\n",
    "\n",
    "ft_left = 0\n",
    "left = 0\n",
    "right = 0\n",
    "\n",
    "while ft_left < len(time) and left < len(time):\n",
    "    while right < len(time) and (time[right] - time[left]) <= rtt:\n",
    "        max_win = max(max_win, data[right])\n",
    "        right+=1\n",
    "    if tp == 0:\n",
    "        if (max_win > m*sd):\n",
    "            features.append((ft_left, left-1, tp))\n",
    "            ft_left = left\n",
    "            tp = 1\n",
    "    if tp == 1:\n",
    "        if (max_win < m*sd):\n",
    "            features.append((ft_left, left-1, tp))\n",
    "            ft_left = left\n",
    "            tp = 0\n",
    "#     print(left, right, max_win, mean + m*sd)\n",
    "    max_win = 0\n",
    "    min_win = 0\n",
    "    left = right \n",
    "\n",
    "features.append((ft_left, left-1, tp))"
   ]
  },
  {
   "cell_type": "code",
   "execution_count": null,
   "id": "3ce6c349",
   "metadata": {},
   "outputs": [],
   "source": [
    "fig, ax = plt.subplots(1,1, figsize=(15,8))\n",
    "for ft in features : \n",
    "    print(grad_time[ft[1]] - grad_time[ft[0]])\n",
    "    ax.plot(grad_time[ft[0]:ft[1]+1], grad_data[ft[0]:ft[1]+1], color = color[ft[2]])\n",
    "ax.plot(main_time, main_data)"
   ]
  },
  {
   "cell_type": "markdown",
   "id": "a18e4f90",
   "metadata": {},
   "source": [
    "## Lets try smoothening it out by using Moving Average"
   ]
  },
  {
   "cell_type": "code",
   "execution_count": null,
   "id": "4ffd9f71",
   "metadata": {},
   "outputs": [],
   "source": [
    "time = main_time\n",
    "data = main_data"
   ]
  },
  {
   "cell_type": "code",
   "execution_count": null,
   "id": "8c8f65e4",
   "metadata": {},
   "outputs": [],
   "source": [
    "ma_data = []\n",
    "ma_time = []\n",
    "rtt = 0.1\n",
    "left = 0\n",
    "right = 0\n",
    "run_sum = 0\n",
    "run_count = 0\n",
    "run_time = []\n",
    "start = 0\n",
    "while right < len(data):\n",
    "    while right < len(data) and time[right] - time[left] < rtt :\n",
    "        run_sum += data[right]\n",
    "        run_count += 1\n",
    "        if start == 0:\n",
    "            ma_data.append(float(run_sum)/run_count)\n",
    "            ma_time.append(time[right])\n",
    "        right+=1\n",
    "    start = 1\n",
    "    ma_data.append(float(run_sum)/run_count)\n",
    "    ma_time.append(time[right-1])\n",
    "    run_sum -= data[left]\n",
    "    run_count -= 1\n",
    "    left+=1"
   ]
  },
  {
   "cell_type": "code",
   "execution_count": null,
   "id": "69669c51",
   "metadata": {},
   "outputs": [],
   "source": [
    "len(ma_data), len(ma_time)"
   ]
  },
  {
   "cell_type": "code",
   "execution_count": null,
   "id": "acdf1820",
   "metadata": {},
   "outputs": [],
   "source": [
    "fig, ax = plt.subplots(1,1, figsize=(15,8))\n",
    "ax.plot(time, data)\n",
    "ax.plot(ma_time, ma_data)"
   ]
  },
  {
   "cell_type": "code",
   "execution_count": null,
   "id": "3839c1ce",
   "metadata": {},
   "outputs": [],
   "source": [
    "ma_time = np.array(ma_time)\n",
    "ma_data = np.array(ma_data)"
   ]
  },
  {
   "cell_type": "code",
   "execution_count": null,
   "id": "63c23ab8",
   "metadata": {},
   "outputs": [],
   "source": [
    "ma_time_grad, ma_data_grad = get_grad(ma_time, ma_data)"
   ]
  },
  {
   "cell_type": "code",
   "execution_count": null,
   "id": "7ef680fb",
   "metadata": {},
   "outputs": [],
   "source": [
    "len(ma_time_grad), len(ma_time)"
   ]
  },
  {
   "cell_type": "code",
   "execution_count": null,
   "id": "4465c3da",
   "metadata": {},
   "outputs": [],
   "source": [
    "data = ma_time_grad\n",
    "time = ma_data_grad\n",
    "mean = statistics.mean(data)\n",
    "print(\"Mean\", mean)\n",
    "sd = statistics.pstdev(data)\n",
    "print(\"Std Dev\", sd)\n",
    "rtt = 0.1 # RTT\n",
    "data = abs(data - mean)\n",
    "features = []\n",
    "tp = 0\n",
    "ch_left = 0\n",
    "ch_right = 0\n",
    "max_win = 0\n",
    "min_win = 0\n",
    "m = 2\n",
    "while time[ch_right] - time[ch_left] < rtt :\n",
    "    max_win = max(max_win, data[ch_right])\n",
    "    ch_right+=1\n",
    "if max_win > m*sd :\n",
    "    tp = 1\n",
    "print(tp)\n",
    "max_win = 0\n",
    "min_win = 0\n",
    "\n",
    "ft_left = 0\n",
    "left = 0\n",
    "right = 0\n",
    "\n",
    "while ft_left < len(time) and left < len(time):\n",
    "    while right < len(time) and (time[right] - time[left]) <= rtt:\n",
    "        max_win = max(max_win, data[right])\n",
    "        right+=1\n",
    "    if tp == 0:\n",
    "        if (max_win > m*sd):\n",
    "            features.append((ft_left, left-1, tp))\n",
    "            ft_left = left\n",
    "            tp = 1\n",
    "    if tp == 1:\n",
    "        if (max_win < m*sd):\n",
    "            features.append((ft_left, left-1, tp))\n",
    "            ft_left = left\n",
    "            tp = 0\n",
    "#     print(left, right, max_win, mean + m*sd)\n",
    "    max_win = 0\n",
    "    min_win = 0\n",
    "    left = right \n",
    "\n",
    "features.append((ft_left, left-1, tp))"
   ]
  },
  {
   "cell_type": "code",
   "execution_count": null,
   "id": "744fa325",
   "metadata": {},
   "outputs": [],
   "source": [
    "fig, ax = plt.subplots(1,1, figsize=(15,8))\n",
    "for ft in features : \n",
    "#     print(grad_step_time[ft[1]] - grad_step_time[ft[0]])\n",
    "    ax.plot(ma_time[ft[0]:ft[1]+1], ma_data[ft[0]:ft[1]+1], color = color[ft[2]])\n",
    "ax.plot(main_time, main_data, color = \"black\", alpha = 0.5)"
   ]
  },
  {
   "cell_type": "markdown",
   "id": "a8199514",
   "metadata": {},
   "source": [
    "### Helper functions "
   ]
  },
  {
   "cell_type": "code",
   "execution_count": null,
   "id": "a08b0092",
   "metadata": {},
   "outputs": [],
   "source": [
    "def plot_one(files):\n",
    "    for f in files:\n",
    "        fs = f.split(\"-\")\n",
    "        pre = int(fs[1])\n",
    "        post = int(fs[2])\n",
    "        rtt = float(((pre+post)*2))/1000\n",
    "        fig, ax = plt.subplots(1,1, figsize=(15,8))\n",
    "#         get_bif(ax,f)\n",
    "#         get_cwnd(ax,f)\n",
    "#         get_ma(ax,f)\n",
    "#         get_ema(ax,f)\n",
    "#         get_wwlt(ax,f)\n",
    "        time, data = get_fft_smoothening(ax,f,1,rtt,0)\n",
    "        time, fd_data = get_fd(data)\n",
    "        plot_fd(ax, time, fd_data, 1)\n",
    "        ax.title.set_text(f)\n",
    "        ax.legend()\n",
    "        plt.show()\n",
    "    return time, data"
   ]
  },
  {
   "cell_type": "code",
   "execution_count": null,
   "id": "92e5a001",
   "metadata": {},
   "outputs": [],
   "source": [
    "variants=[\"cubic\"]\n",
    "postdelays=[30,35,40,45,50,55,60]\n",
    "predelays=[30,35,40,45,50,55,60]\n",
    "linkspeeds=[1000]"
   ]
  },
  {
   "cell_type": "code",
   "execution_count": null,
   "id": "0553a1cc",
   "metadata": {},
   "outputs": [],
   "source": [
    "names = []\n",
    "for v in variants :\n",
    "    for pred in predelays:\n",
    "        for pod in postdelays:\n",
    "            for ls in linkspeeds :\n",
    "                names.append(v+\"-\"+str(pred)+\"-\"+str(pod)+\"-\"+str(ls))\n",
    "cubic = names"
   ]
  },
  {
   "cell_type": "code",
   "execution_count": null,
   "id": "37d4104a",
   "metadata": {},
   "outputs": [],
   "source": [
    "def get_wwlt(ax,f):\n",
    "    data, time = get_window(f, \"n\")\n",
    "    thresh = 0.4\n",
    "    wv = \"rbio1.5\"\n",
    "    rec = lowpassfilter(data, thresh, wv)\n",
    "    start = len(rec) - len(time)\n",
    "    ax.plot(time,rec[start:], label='DWT smoothing}', linewidth=2)\n",
    "    return time, data\n",
    "def get_bif(ax,f):\n",
    "    algo_cc = f\n",
    "    data, time = get_window(f, \"n\")\n",
    "#     flows = process_flows(algo_cc, \"./Nebby/measurements/\")\n",
    "#     port = list(flows.keys())[0]\n",
    "#     start_bif = flows[port]['times'][0]\n",
    "#     ax.plot(flows[port]['times'][1:int(len(flows[port]['times']))], flows[port]['windows'][1:int(len(flows[port]['windows']))], label=\"bif\",color='b',lw=0.5,alpha=0.5)\n",
    "    ax.plot(time, data,label=\"bif\",color='b',lw=0.5,alpha=0.5)\n",
    "    return time,data\n",
    "    \n",
    "def get_cwnd(ax,f):\n",
    "    path = \"/home/lakshayr/nus_intern/Nebby/custom_clients/statsfiles\"\n",
    "    statsfile = path + \"/\" + f + \"-stats.csv\"\n",
    "    df_c = pd.read_csv(statsfile,sep=\",\")\n",
    "    start_cwnd = df_c['ts'][1]\n",
    "\n",
    "    fix = 0.1\n",
    "    if(f==\"reno\"):\n",
    "        fix=0.2\n",
    "    df_c['ts'] = df_c['ts'] - start_cwnd  + fix\n",
    "    cwnd_bytes = df_c['tcpi_snd_cwnd'].mul(df_c['snd'])\n",
    "    cwnd_times = df_c['ts']\n",
    "    data, time = get_window(f, \"n\")\n",
    "    time_thresh = time[-1]\n",
    "    cwnd_thresh = len(time)\n",
    "    for t in range(len(df_c['ts'])):\n",
    "        if df_c['ts'][t] > time_thresh:\n",
    "            cwnd_thresh = t+1\n",
    "            break\n",
    "    ax.plot(cwnd_times[1:cwnd_thresh], cwnd_bytes[1:cwnd_thresh], label=\"cwnd\",color='r', lw=1.5, alpha=1)\n",
    "    return list(cwnd_times[1:cwnd_thresh]), list(cwnd_bytes[1:cwnd_thresh])\n",
    "\n",
    "def get_ma(ax,f):\n",
    "    data, time = get_window(f, \"n\")\n",
    "    ma_data = []\n",
    "    k = 20\n",
    "    for i in range(len(data)):\n",
    "        if i-k < 0:\n",
    "            curr = sum(data[0:i+1])\n",
    "            curr += sum(data[i+1:abs(i-k)])\n",
    "            curr = float(curr)/k\n",
    "        else :\n",
    "            curr = sum(data[i-k:i+1]);\n",
    "            curr = float(curr)/k\n",
    "        ma_data.append(curr)\n",
    "    ax.plot(time, ma_data, color='g', label=\"MA\", lw=1.5, alpha=1)\n",
    "    return time, ma_data\n",
    "    \n",
    "def get_ema(ax,f):\n",
    "    data, time = get_window(f, \"n\")\n",
    "    ma_data = []\n",
    "    alpha=0.2\n",
    "    for i in range(len(data)):\n",
    "        if i == 0:\n",
    "            curr = data[i]\n",
    "        else :\n",
    "            curr = alpha*data[i] + (1-alpha)*ma_data[i-1]\n",
    "        ma_data.append(curr)\n",
    "    ax.plot(time, ma_data, color='m', label=\"EMA\")\n",
    "    return time, ma_data\n",
    "    \n",
    "def get_fft_smoothening(ax,f,norm,rtt,p):\n",
    "    rtt=rtt\n",
    "    data, time = get_window(f, \"n\")\n",
    "    print(len(data), \" \", len(time))\n",
    "\n",
    "    yf, xf = get_fft(data)\n",
    "    abs_yf = np.abs(yf)\n",
    "#     print(len(abs_yf), len(xf))\n",
    "    sort_abs_yf = sorted(abs_yf)\n",
    "    \n",
    "#     plt.title(\"FFT Decomposition\")\n",
    "#     plt.plot(xf, sort_abs_yf, color='b', alpha=0.5, lw=1)\n",
    "#     plt.scatter(xf, sort_abs_yf, color='r', s=2)\n",
    "#     plt.show()\n",
    "\n",
    "    thresh  = (1/rtt)\n",
    "    print(\"RTT\", rtt, \"Freq \", thresh)\n",
    "#     print(xf)\n",
    "    thresh_ind = 0\n",
    "    for i in range(len(xf)) :\n",
    "        freq = xf[i]\n",
    "        if(freq > thresh):\n",
    "            thresh_ind = i\n",
    "            break\n",
    "#     print(\"Index \", thresh_ind)\n",
    "#     print(xf[0:thresh_ind])\n",
    "#     plt.title(\"Cleaned Frequencies\")\n",
    "#     plt.plot(xf[0:thresh_ind],np.abs(yf[0:thresh_ind]))\n",
    "#     plt.show()\n",
    "\n",
    "    yf_clean = yf\n",
    "    yf_clean[thresh_ind+1:] = 0\n",
    "    new_f_clean = irfft(yf_clean)\n",
    "#     plt.title(\"Frequencies smaller than \" + str(thresh))\n",
    "#     plt.plot(time, data, color=\"b\", alpha=0.5, label='original signal')\n",
    "    start_len = len(time) - len(new_f_clean)\n",
    "    print(\"Norm \", norm)\n",
    "    plot_data = new_f_clean\n",
    "    \n",
    "    if norm == 1:\n",
    "        max_data = max(new_f_clean)\n",
    "        min_data = min(new_f_clean)\n",
    "        plot_data = (new_f_clean - min_data)/(max_data - min_data)\n",
    "    if p:\n",
    "        ax.plot(time[start_len:], plot_data, 'k', label='FFT smoothening', linewidth=1.5)\n",
    "#     plt.legend()\n",
    "#     plt.show()\n",
    "    return time[start_len:], plot_data\n"
   ]
  },
  {
   "cell_type": "code",
   "execution_count": null,
   "id": "0b237b02",
   "metadata": {},
   "outputs": [],
   "source": [
    "def get_fft(data):\n",
    "    n = len(data)\n",
    "    data_step = 0.002\n",
    "    yf = rfft(data)\n",
    "    xf = rfftfreq(n,data_step)\n",
    "    return yf,xf\n"
   ]
  },
  {
   "cell_type": "code",
   "execution_count": null,
   "id": "58b8ce5f",
   "metadata": {},
   "outputs": [],
   "source": [
    "import matplotlib.pyplot as plt\n",
    "from scipy.fft import rfft, rfftfreq\n",
    "from scipy.fft import irfft\n",
    "import numpy as np\n",
    "import statistics\n",
    "from sklearn import preprocessing"
   ]
  },
  {
   "cell_type": "code",
   "execution_count": null,
   "id": "86f8de9f",
   "metadata": {},
   "outputs": [],
   "source": [
    "import csv\n",
    "import matplotlib.pyplot as plt\n",
    "import sys\n",
    "import math\n",
    "\n",
    "SHOW=True\n",
    "MULTI_GRAPH=False\n",
    "SMOOTHENING=False\n",
    "ONLY_STATS=False\n",
    "s_factor=0.9\n",
    "\n",
    "'''\n",
    "TODO: \n",
    "o Add functionality where you only plot flows that send more than x bytes of data\n",
    "o Sort stats and graphs by flow size\n",
    "o Organize plots by flow size (larger flows have larger graphs)\n",
    "o Custom smoothening function\n",
    "'''\n",
    "\n",
    "fields=[\"time\", \"frame_time_rel\", \"tcp_time_rel\", \"frame_num\", \"frame_len\", \"ip_src\", \"src_port\", \"ip_dest\", \"dest_port\", \"tcp_len\", \"seq\", \"ack\"]\n",
    "\n",
    "class pkt:\n",
    "    contents=[]\n",
    "    def __init__(self, fields) -> None:\n",
    "        self.contents=[]\n",
    "        for f in fields:\n",
    "            self.contents.append(f)\n",
    "\n",
    "    def get(self, field):\n",
    "        return self.contents[fields.index(field)]\n",
    "        \n",
    "\n",
    "def process_flows(cc, dir):\n",
    "    with open(dir+cc+\"-tcp.csv\") as csv_file:\n",
    "        print(\"Reading \"+dir+cc+\"-tcp.csv...\")\n",
    "        csv_reader = csv.reader(csv_file, delimiter=',')\n",
    "        line_count = 0\n",
    "        total_bytes=0\n",
    "        '''\n",
    "        Flow tracking:\n",
    "        o Identify all packets that are either sourced from or headed to 100.64.0.2\n",
    "        o Group different flows by client's port\n",
    "        '''\n",
    "        flows={}\n",
    "        data_sent=0\n",
    "        port_set = set()\n",
    "        for row in csv_reader:\n",
    "            packet=pkt(row)\n",
    "            validPkt=False\n",
    "            if line_count==0:\n",
    "                # reject the header\n",
    "                line_count+=1\n",
    "                continue\n",
    "            if data_sent == 0 : \n",
    "                if \"100.64.0.\" in packet.get(\"ip_src\"):\n",
    "                    num = int(packet.get(\"ip_src\")[-1])\n",
    "                    if num%2==0:\n",
    "                        data_sent=1\n",
    "                        host_port=packet.get(\"ip_src\")\n",
    "                if \"100.64.0.\" in packet.get(\"ip_dest\"):\n",
    "                    num = int(packet.get(\"ip_dest\")[-1])\n",
    "                    if num%2==0:\n",
    "                        data_sent=1\n",
    "                        host_port=packet.get(\"ip_dest\")\n",
    "                if data_sent == 0:\n",
    "                    continue\n",
    "                    \n",
    "            if packet.get(\"ip_src\")==host_port and packet.get(\"frame_time_rel\")!='' and packet.get(\"ack\")!='': \n",
    "                # we care about this ACK packet\n",
    "                validPkt=True\n",
    "                port=packet.get(\"src_port\")\n",
    "                if port not in flows:\n",
    "                    flows[port]={\"serverip\":packet.get(\"ip_dest\"), \"serverport\":packet.get(\"dest_port\"), \"act_times\":[],\"times\":[], \"windows\":[], \"cwnd\":[], \"bif\":0, \"last_ack\":0, \"last_seq\":0, \"pif\":0}\n",
    "                flows[port][\"act_times\"].append(packet.get(\"time\"))\n",
    "                flows[port][\"times\"].append(float(packet.get(\"frame_time_rel\")))\n",
    "                flows[port][\"bif\"]-=max(0,(int(packet.get(\"ack\"))-int(flows[port][\"last_ack\"])))\n",
    "                flows[port][\"last_ack\"]=max(int(flows[port][\"last_ack\"]),int(packet.get(\"ack\")))\n",
    "                #flows[port][\"windows\"].append(int(flows[port][\"bif\"]))\n",
    "                flows[port][\"pif\"]-=1\n",
    "                flows[port][\"cwnd\"].append(flows[port][\"pif\"])\n",
    "            elif packet.get(\"ip_dest\")==host_port and packet.get(\"frame_time_rel\")!='' and packet.get(\"seq\")!='':\n",
    "                #we care about this Data packet\n",
    "                validPkt=True\n",
    "                port=packet.get(\"dest_port\")\n",
    "                if port not in flows:\n",
    "                    flows[port]={\"serverip\":packet.get(\"ip_src\"), \"serverport\":packet.get(\"src_port\"),\"act_times\":[], \"times\":[], \"windows\":[], \"cwnd\":[], \"bif\":0, \"last_ack\":0, \"last_seq\":0, \"pif\":0}\n",
    "                flows[port][\"times\"].append(float(packet.get(\"frame_time_rel\")))\n",
    "                flows[port][\"act_times\"].append(packet.get(\"time\"))\n",
    "                flows[port][\"bif\"]+=max(0,(int(packet.get(\"seq\"))-int(flows[port][\"last_seq\"])))\n",
    "                flows[port][\"last_seq\"]=max(flows[port][\"last_seq\"],int(packet.get(\"seq\")))\n",
    "                flows[port][\"pif\"]+=1\n",
    "                flows[port][\"cwnd\"].append(flows[port][\"pif\"])\n",
    "            if SMOOTHENING and validPkt and len(flows[port][\"windows\"])>2:\n",
    "                flows[port][\"windows\"].append(int((s_factor*flows[port][\"windows\"][-1])+((1-s_factor)*flows[port][\"bif\"])))\n",
    "            elif validPkt:\n",
    "                flows[port][\"windows\"].append(int(flows[port][\"bif\"]))\n",
    "            line_count+=1\n",
    "            total_bytes+=int(packet.get(\"frame_len\"))\n",
    "            #print(line_count, total_bytes)\n",
    "            \n",
    "        print(\"total bytes processed:\", total_bytes/1000, \"KBytes for\", cc, \"(unlimited)\")\n",
    "    return flows\n",
    "\n",
    "def custom_smooth_function():\n",
    "    pass\n",
    "\n",
    "def get_flow_stats(flows):\n",
    "    num=len(flows.keys())\n",
    "    print(\"FLOW STATISTICS: \\nNumber of flows: \", num)\n",
    "    print(\"------------------------------------------------------------------------------\")\n",
    "    print('%6s'%\"port\", '%15s'%\"SrcIP\", '%8s'%\"SrcPort\",  '%8s'%\"duration\",  '%8s'%\"start\",  '%8s'%\"end\", '%8s'%\"Sent (B)\", '%8s'%\"Recv (B)\",)\n",
    "    for k in flows.keys():\n",
    "        print('%6s'%k, '%15s'%flows[k][\"serverip\"], '%8s'%flows[k][\"serverport\"], '%8s'%str('%.2f'%(flows[k][\"times\"][-1]-flows[k][\"times\"][0])), '%8s'%str('%.2f'%flows[k][\"times\"][0]), '%8s'%str('%.2f'%flows[k][\"times\"][-1]), '%8s'%flows[k][\"last_seq\"], '%8s'%flows[k][\"last_ack\"])\n",
    "        #print(\"    * Flow \"+str(k)+\": \", flows[k][\"last_ack\"], \" \", flows[k][\"last_seq\"], \" bytes transfered.\")\n",
    "    return num\n",
    "\n",
    "def run(files):\n",
    "    flows = {}\n",
    "    for f in files:\n",
    "        algo_cc=f\n",
    "        #Get the data for all the flows\n",
    "        print(\"==============================================================================\")\n",
    "        print(\"opening trace ../measurements/\"+algo_cc+\".csv...\")\n",
    "        flows = process_flows(algo_cc, \"./Nebby/measurements/\")\n",
    "        #decide on final graph layout\n",
    "        num = get_flow_stats(flows)\n",
    "\n",
    "        if ONLY_STATS:\n",
    "            sys.exit()\n",
    "\n",
    "        if num==1:\n",
    "            MULTI_GRAPH=False\n",
    "        #grid size\n",
    "        if MULTI_GRAPH:\n",
    "            size=(0,0)\n",
    "            grids={1:(2,2), 2:(2,2), 4:(2,2), 6:(2,3), 9:(3,3), 12:(3,4), 15:(3,5), 16:(4,4), 20:(5,4), 24:(6,4), 30:(6,5), 36:(6,6), 40:(8,5), 42:(8,7), 49:(7,7)}\n",
    "            g=num\n",
    "            while g<=49 and g not in grids:\n",
    "                g+=1\n",
    "            if g in grids.keys():\n",
    "                size=grids[g]\n",
    "            else:\n",
    "                size=grids[49]  \n",
    "            fig, axs = plt.subplots(size[0], size[1])\n",
    "            for i in range(size[0]):\n",
    "                for j in range(size[1]):\n",
    "                    #axs[i][j].legend(loc=\"lower right\")\n",
    "                    if i==size[0]-1:\n",
    "                        axs[i][j].set_xlabel(\"Time (s)\")\n",
    "                    if j==0:\n",
    "                        axs[i][j].set_ylabel(\"Bytes in flight\")\n",
    "        else:\n",
    "            plt.xlabel(\"Time (s)\")\n",
    "            plt.ylabel(\"Bytes in flight\")\n",
    "        counter=0\n",
    "        for port in flows.keys():\n",
    "            if MULTI_GRAPH:  \n",
    "                axs[counter%size[0]][(counter//size[0])%size[1]].scatter(flows[port][\"times\"], flows[port][\"windows\"], color=\"#858585\")\n",
    "                axs[counter%size[0]][(counter//size[0])%size[1]].plot(flows[port][\"times\"], flows[port][\"windows\"], label=str(port), linestyle=\"solid\")\n",
    "            else:\n",
    "                plt.plot(flows[port][\"times\"], flows[port][\"windows\"], label=str(port), linestyle=\"solid\")\n",
    "                plt.scatter(flows[port][\"times\"], flows[port][\"windows\"], color=\"#858585\")\n",
    "            counter+=1\n",
    "        if MULTI_GRAPH:\n",
    "            counter=0\n",
    "            for port in flows.keys():\n",
    "                axs[counter%size[0]][(counter//size[0])%size[1]].legend()\n",
    "                counter+=1\n",
    "        else:\n",
    "            plt.legend()\n",
    "        if MULTI_GRAPH:\n",
    "            fig.set_size_inches(16, 12)\n",
    "        if SHOW:\n",
    "            plt.show()\n",
    "        else:\n",
    "            plt.savefig(\"../logs/results/\"+algo_cc+\".png\", dpi=600, bbox_inches='tight', pad_inches=0)\n",
    "    return flows\n"
   ]
  },
  {
   "cell_type": "code",
   "execution_count": null,
   "id": "328a8c3a",
   "metadata": {},
   "outputs": [],
   "source": [
    "def get_window(f,p):\n",
    "    algo_cc = f\n",
    "    flows = process_flows(algo_cc, \"./Nebby/measurements/\")\n",
    "    data = []\n",
    "    time = []\n",
    "    for port in flows.keys():\n",
    "        if flows[port][\"last_ack\"] == 0 :\n",
    "            continue\n",
    "        else :\n",
    "            data = flows[port]['windows']\n",
    "            time = flows[port]['times']\n",
    "            if p == \"p\":\n",
    "                for i in range(len(flows[port]['windows'])):\n",
    "                    print(\"{0:10}{1:10}\".format(flows[port]['times'][i], flows[port]['windows'][i]))\n",
    "        time_index = len(time)-1\n",
    "        for index in range(len(flows[port]['times'])-1):\n",
    "            if flows[port]['times'][index+1] - flows[port]['times'][index] > 1 :\n",
    "                time_index = index\n",
    "        time_last = flows[port]['times'][time_index]\n",
    "        data = data[:time_index+1]\n",
    "        time = time[:time_index+1]\n",
    "        return data, time"
   ]
  }
 ],
 "metadata": {
  "kernelspec": {
   "display_name": "Python 3 (ipykernel)",
   "language": "python",
   "name": "python3"
  },
  "language_info": {
   "codemirror_mode": {
    "name": "ipython",
    "version": 3
   },
   "file_extension": ".py",
   "mimetype": "text/x-python",
   "name": "python",
   "nbconvert_exporter": "python",
   "pygments_lexer": "ipython3",
   "version": "3.10.6"
  }
 },
 "nbformat": 4,
 "nbformat_minor": 5
}
