{
 "cells": [
  {
   "cell_type": "markdown",
   "id": "8eed0083",
   "metadata": {},
   "source": [
    "# Let's try KNN and see "
   ]
  },
  {
   "cell_type": "markdown",
   "id": "1ff62714",
   "metadata": {},
   "source": [
    "### First lets check all the cubic, reno and bbr graphs with different things "
   ]
  },
  {
   "cell_type": "code",
   "execution_count": null,
   "id": "e2db3ff2",
   "metadata": {},
   "outputs": [],
   "source": [
    "import matplotlib.pyplot as plt\n",
    "from scipy.fft import rfft, rfftfreq\n",
    "from scipy.fft import irfft\n",
    "import numpy as np\n",
    "import statistics\n"
   ]
  },
  {
   "cell_type": "code",
   "execution_count": null,
   "id": "9f817e41",
   "metadata": {},
   "outputs": [],
   "source": [
    "names = []\n",
    "variants=[\"reno\"]\n",
    "postdelays=[20,25,30,35,40]\n",
    "predelays=[20,25,30,35,40]\n",
    "linkspeeds=[1000]"
   ]
  },
  {
   "cell_type": "code",
   "execution_count": null,
   "id": "5d6a49c6",
   "metadata": {},
   "outputs": [],
   "source": [
    "for v in variants :\n",
    "    for pred in predelays:\n",
    "        for pod in postdelays:\n",
    "            for ls in linkspeeds :\n",
    "                names.append(v+\"-\"+str(pred)+\"-\"+str(pod)+\"-\"+str(ls))\n",
    "print(names)"
   ]
  },
  {
   "cell_type": "code",
   "execution_count": null,
   "id": "6c2e8b0f",
   "metadata": {
    "scrolled": true
   },
   "outputs": [],
   "source": [
    "cubic_files"
   ]
  },
  {
   "cell_type": "code",
   "execution_count": null,
   "id": "507162e2",
   "metadata": {
    "scrolled": true
   },
   "outputs": [],
   "source": [
    "reno_files"
   ]
  },
  {
   "cell_type": "code",
   "execution_count": null,
   "id": "331a24a0",
   "metadata": {
    "scrolled": true
   },
   "outputs": [],
   "source": [
    "bbr_files "
   ]
  },
  {
   "cell_type": "code",
   "execution_count": null,
   "id": "083199ad",
   "metadata": {},
   "outputs": [],
   "source": [
    "ts = []"
   ]
  },
  {
   "cell_type": "code",
   "execution_count": null,
   "id": "98a27024",
   "metadata": {
    "scrolled": true
   },
   "outputs": [],
   "source": [
    "for f in bbr_files :\n",
    "    fig, ax = plt.subplots()\n",
    "    time,data = plot_bif(f)\n",
    "    ts.append(data)"
   ]
  },
  {
   "cell_type": "code",
   "execution_count": null,
   "id": "57126494",
   "metadata": {
    "scrolled": false
   },
   "outputs": [],
   "source": []
  },
  {
   "cell_type": "code",
   "execution_count": null,
   "id": "9f4c00ae",
   "metadata": {},
   "outputs": [],
   "source": []
  },
  {
   "cell_type": "code",
   "execution_count": null,
   "id": "4ef0b0f4",
   "metadata": {},
   "outputs": [],
   "source": [
    "from tslearn.utils import to_time_series_dataset\n",
    "X = to_time_series_dataset(ts)"
   ]
  },
  {
   "cell_type": "code",
   "execution_count": null,
   "id": "0e7efb2a",
   "metadata": {},
   "outputs": [],
   "source": [
    "!pip install numpy==1.21.6"
   ]
  },
  {
   "cell_type": "code",
   "execution_count": null,
   "id": "bac40496",
   "metadata": {},
   "outputs": [],
   "source": [
    "from tslearn.clustering import TimeSeriesKMeans\n",
    "model = TimeSeriesKMeans(n_clusters=3, metric=\"softdtw\", max_iter=10)\n",
    "labels = model.fit(X)"
   ]
  },
  {
   "cell_type": "markdown",
   "id": "60603ede",
   "metadata": {},
   "source": [
    "# Getting parameters from the graph for decision trees. "
   ]
  },
  {
   "cell_type": "markdown",
   "id": "e35b99bd",
   "metadata": {},
   "source": [
    "### The cwnd decrease, the cwnd increase. "
   ]
  },
  {
   "cell_type": "code",
   "execution_count": null,
   "id": "329e7ce9",
   "metadata": {},
   "outputs": [],
   "source": [
    "f = \"cubic\""
   ]
  },
  {
   "cell_type": "code",
   "execution_count": null,
   "id": "78a7297b",
   "metadata": {},
   "outputs": [],
   "source": [
    "def plot_bif(f):\n",
    "    fig, ax = plt.subplots(1,1, figsize=(15,8))\n",
    "#     get_bif(ax,f)\n",
    "#     get_cwnd(ax,f)\n",
    "#     get_ma(ax,f)\n",
    "#     get_ema(ax,f)\n",
    "#     get_wwlt(ax,f)\n",
    "    time, data = get_fft_smoothening(ax,f)\n",
    "#     ax.title.set_text(f)\n",
    "    ax.legend()\n",
    "    plt.show()\n",
    "#     fig, ax = plt.subplots(1,1, figsize=(15,8))\n",
    "#     ax.plot(new_time[5:], grad[5:], color='r', lw=0.8)\n",
    "#     plt.show()\n",
    "    return time, data"
   ]
  },
  {
   "cell_type": "code",
   "execution_count": null,
   "id": "480c3921",
   "metadata": {},
   "outputs": [],
   "source": [
    "time, data = plot_bif(\"cubic\")"
   ]
  },
  {
   "cell_type": "markdown",
   "id": "87bbaefd",
   "metadata": {},
   "source": [
    "### Using 1 RTT as the window size to calculate maximum and minimum"
   ]
  },
  {
   "cell_type": "code",
   "execution_count": null,
   "id": "9c7fde51",
   "metadata": {},
   "outputs": [],
   "source": [
    "data[1], time[2]"
   ]
  },
  {
   "cell_type": "code",
   "execution_count": null,
   "id": "c565b329",
   "metadata": {},
   "outputs": [],
   "source": [
    "rtt = 0.1"
   ]
  },
  {
   "cell_type": "code",
   "execution_count": null,
   "id": "64913c11",
   "metadata": {},
   "outputs": [],
   "source": [
    "from collections import Counter\n",
    "diff = []\n",
    "for i in range(1,len(time)):\n",
    "    curr = round(time[i]-time[i-1],3)\n",
    "    diff.append(curr)\n",
    "Counter(diff)"
   ]
  },
  {
   "cell_type": "code",
   "execution_count": null,
   "id": "79e8d801",
   "metadata": {},
   "outputs": [],
   "source": [
    "step = 0.002"
   ]
  },
  {
   "cell_type": "code",
   "execution_count": null,
   "id": "db1b62ff",
   "metadata": {},
   "outputs": [],
   "source": [
    "from sortedcontainers import SortedDict\n",
    "from collections import OrderedDict"
   ]
  },
  {
   "cell_type": "code",
   "execution_count": null,
   "id": "9db14b40",
   "metadata": {},
   "outputs": [],
   "source": [
    "def get_grad(dt):\n",
    "    first = next(iter(dt))\n",
    "    last = next(reversed(dt))\n",
    "    time_first = dt[first][0]\n",
    "    time_last = dt[last][0]\n",
    "    grad = (last-first)/(time_last-time_first)\n",
    "    return grad, (first, last, time_first, time_last)"
   ]
  },
  {
   "cell_type": "code",
   "execution_count": null,
   "id": "1533591f",
   "metadata": {},
   "outputs": [],
   "source": [
    "left = 0\n",
    "right = 0\n",
    "grad = []\n",
    "grad_meta = []\n",
    "# dt = SortedDict()\n",
    "dt = OrderedDict()\n",
    "# continue loop till we reach the end of the right\n",
    "while right < len(time) and left < len(time):\n",
    "    # choose a right and while choosing get max and min\n",
    "    while right < len(time) and time[right] - time[left] < rtt :\n",
    "        if data[right] not in dt :\n",
    "            dt[data[right]] = list()\n",
    "        dt[data[right]].append(time[right])\n",
    "        right+=1\n",
    "    # save gradient and the data and time period with it\n",
    "    curr_grad, curr_meta = get_grad(dt) \n",
    "    grad.append(curr_grad)\n",
    "    grad_meta.append(curr_meta)\n",
    "    # choose the next left\n",
    "    prev_left = left \n",
    "    while left < len(time) and time[left] - time[prev_left] < step :\n",
    "        if data[left] in dt :\n",
    "            dt[data[left]].pop(0)\n",
    "            if len(dt[data[left]])==0:\n",
    "                del dt[data[left]]\n",
    "        left+=1\n"
   ]
  },
  {
   "cell_type": "code",
   "execution_count": null,
   "id": "dfd090b9",
   "metadata": {},
   "outputs": [],
   "source": [
    "len(grad), len(time), len(data)"
   ]
  },
  {
   "cell_type": "code",
   "execution_count": null,
   "id": "d1253d67",
   "metadata": {},
   "outputs": [],
   "source": [
    "new_time = []\n",
    "for i in range(len(grad)):\n",
    "    t = (grad_meta[i][3] + grad_meta[i][2])/2\n",
    "    new_time.append(t)"
   ]
  },
  {
   "cell_type": "code",
   "execution_count": null,
   "id": "21ac4406",
   "metadata": {},
   "outputs": [],
   "source": [
    "len(new_time)"
   ]
  },
  {
   "cell_type": "code",
   "execution_count": null,
   "id": "2feae2ee",
   "metadata": {},
   "outputs": [],
   "source": [
    "color = []\n",
    "i = 0\n",
    "for t in range(len(new_time)):\n",
    "    while i < len(time) and time[i]<new_time[t]:\n",
    "        if(grad[t]>0):\n",
    "            color.append(1)\n",
    "        else :\n",
    "            color.append(0)\n",
    "        i+=1\n",
    "while i < len(time) :\n",
    "    if(grad[len(new_time)-1]>0):\n",
    "        color.append(1)\n",
    "    else :\n",
    "        color.append(0)\n",
    "    i+=1"
   ]
  },
  {
   "cell_type": "code",
   "execution_count": null,
   "id": "d87114a4",
   "metadata": {},
   "outputs": [],
   "source": [
    "len(color)"
   ]
  },
  {
   "cell_type": "code",
   "execution_count": null,
   "id": "13aa72a8",
   "metadata": {},
   "outputs": [],
   "source": [
    "pos = []\n",
    "neg = []\n",
    "for i in range(len(data)):\n",
    "    if color[i]==1:\n",
    "        pos.append(data[i])\n",
    "        neg.append(0)\n",
    "    else :\n",
    "        pos.append(0)\n",
    "        neg.append(data[i])"
   ]
  },
  {
   "cell_type": "code",
   "execution_count": null,
   "id": "73bf4281",
   "metadata": {},
   "outputs": [],
   "source": [
    "len(pos), len(neg)"
   ]
  },
  {
   "cell_type": "code",
   "execution_count": null,
   "id": "5d1d2482",
   "metadata": {},
   "outputs": [],
   "source": [
    "len(time)"
   ]
  },
  {
   "cell_type": "code",
   "execution_count": null,
   "id": "51351d80",
   "metadata": {},
   "outputs": [],
   "source": [
    "fig, ax = plt.subplots(1,1, figsize=(15,8))\n",
    "time, data = get_fft_smoothening(ax,f)\n",
    "ax.scatter(time,pos, color='r')\n",
    "ax.scatter(time,neg,color='b')\n",
    "plt.show()"
   ]
  },
  {
   "cell_type": "code",
   "execution_count": null,
   "id": "367b2dfb",
   "metadata": {},
   "outputs": [],
   "source": [
    "len(time)"
   ]
  },
  {
   "cell_type": "code",
   "execution_count": null,
   "id": "c0d8e175",
   "metadata": {},
   "outputs": [],
   "source": [
    "plt.plot(grad)"
   ]
  },
  {
   "cell_type": "markdown",
   "id": "9c8c6f71",
   "metadata": {},
   "source": [
    "# Plotting the sites BIF by applying the filter"
   ]
  },
  {
   "cell_type": "code",
   "execution_count": null,
   "id": "a2e0ea33",
   "metadata": {},
   "outputs": [],
   "source": [
    "sites = \"google youtube facebook twitter wikipedia amazon instagram linkedin reddit whatsapp openai yahoo bing xvideos live pornhub microsoft vk\""
   ]
  },
  {
   "cell_type": "code",
   "execution_count": null,
   "id": "34308e6b",
   "metadata": {},
   "outputs": [],
   "source": [
    "sites = sites.split(\" \")"
   ]
  },
  {
   "cell_type": "code",
   "execution_count": null,
   "id": "d4a0b113",
   "metadata": {},
   "outputs": [],
   "source": []
  },
  {
   "cell_type": "code",
   "execution_count": null,
   "id": "2980327e",
   "metadata": {},
   "outputs": [],
   "source": [
    "def plot_bif(files):\n",
    "    for f in files:\n",
    "        fig, ax = plt.subplots(1,1, figsize=(15,8))\n",
    "        time, data = get_bif(ax,f)\n",
    "        time, data = get_fft_smoothening(ax,f)\n",
    "        plt.show()"
   ]
  },
  {
   "cell_type": "code",
   "execution_count": null,
   "id": "a9548d0a",
   "metadata": {
    "scrolled": true
   },
   "outputs": [],
   "source": [
    "plot_bif(sites)"
   ]
  },
  {
   "cell_type": "markdown",
   "id": "06171d94",
   "metadata": {},
   "source": [
    "# Calculating the DTW of CWND with all filtered and unfiltered BIF"
   ]
  },
  {
   "cell_type": "code",
   "execution_count": null,
   "id": "1568f16d",
   "metadata": {},
   "outputs": [],
   "source": [
    "from datetime import datetime"
   ]
  },
  {
   "cell_type": "code",
   "execution_count": null,
   "id": "329d0065",
   "metadata": {},
   "outputs": [],
   "source": [
    "from scipy.spatial.distance import euclidean\n",
    "from fastdtw import fastdtw"
   ]
  },
  {
   "cell_type": "code",
   "execution_count": null,
   "id": "3549727c",
   "metadata": {},
   "outputs": [],
   "source": [
    "from dtw import dtw"
   ]
  },
  {
   "cell_type": "code",
   "execution_count": null,
   "id": "9adf5270",
   "metadata": {},
   "outputs": [],
   "source": [
    "f = \"cubic\"\n",
    "ds = []\n",
    "labels = []\n",
    "fig, ax = plt.subplots(1,1, figsize=(15,8))\n",
    "time_cwnd, data_cwnd = get_cwnd(ax,f)\n",
    "time, data = get_bif(ax,f)\n",
    "distance, path = fastdtw(data_cwnd, data, dist=euclidean)\n",
    "print(\"BIF Error \", distance)\n",
    "ds.append(distance)\n",
    "labels.append(\"BIF\")\n",
    "\n",
    "time, data = get_ma(ax,f)\n",
    "distance, path = fastdtw(data_cwnd, data, dist=euclidean)\n",
    "print(\"MA Error \", distance)\n",
    "ds.append(distance)\n",
    "labels.append(\"MA\")\n",
    "\n",
    "time, data = get_ema(ax,f)\n",
    "distance, path = fastdtw(data_cwnd, data, dist=euclidean)\n",
    "print(\"EMA Error \", distance)\n",
    "ds.append(distance)\n",
    "labels.append(\"EMA\")\n",
    "\n",
    "\n",
    "time, data = get_fft_smoothening(ax,f)\n",
    "distance, path = fastdtw(data_cwnd, data, dist=euclidean)\n",
    "print(\"FFT Error \", distance)\n",
    "ds.append(distance)\n",
    "labels.append(\"FFT\")\n",
    "ax.title.set_text(f)\n",
    "ax.legend()\n",
    "plt.show()\n",
    "\n",
    "plt.bar(labels, ds, color ='maroon',width = 0.4)\n",
    "plt.show()"
   ]
  },
  {
   "cell_type": "code",
   "execution_count": null,
   "id": "9aee3dc5",
   "metadata": {},
   "outputs": [],
   "source": [
    "def plot_one_dtw(files):\n",
    "    for f in files:\n",
    "        fig, ax = plt.subplots(1,1, figsize=(15,8))\n",
    "        time_cwnd, data_cwnd = get_cwnd(ax,f)\n",
    "        time, data = get_bif(ax,f)\n",
    "        start_time = datetime.now()\n",
    "        distance, path = fastdtw(data_cwnd, data, dist=euclidean)\n",
    "        end_time = datetime.now()\n",
    "        print(\"Time taken in seconds\", end_time - start_time)\n",
    "        print(\"The error : \", distance)\n",
    "#         time, data = get_ma(ax,f)\n",
    "#         time, data = get_ema(ax,f)\n",
    "#         time, data = get_fft_smoothening(ax,f)\n",
    "        ax.title.set_text(f)\n",
    "        ax.legend()\n",
    "        plt.show()\n",
    "        "
   ]
  },
  {
   "cell_type": "code",
   "execution_count": null,
   "id": "c8ce3f62",
   "metadata": {},
   "outputs": [],
   "source": [
    "f = \"bbr\"\n",
    "ds = []\n",
    "labels = []\n",
    "fig, ax = plt.subplots(1,1, figsize=(15,8))\n",
    "time_cwnd, data_cwnd = get_cwnd(ax,f)\n",
    "time, data = get_bif(ax,f)\n",
    "distance, path = fastdtw(data_cwnd, data, dist=euclidean)\n",
    "print(\"BIF Error \", distance)\n",
    "ds.append(distance)\n",
    "labels.append(\"BIF\")\n",
    "\n",
    "time, data = get_ma(ax,f)\n",
    "distance, path = fastdtw(data_cwnd, data, dist=euclidean)\n",
    "print(\"MA Error \", distance)\n",
    "ds.append(distance)\n",
    "labels.append(\"MA\")\n",
    "\n",
    "time, data = get_ema(ax,f)\n",
    "distance, path = fastdtw(data_cwnd, data, dist=euclidean)\n",
    "print(\"EMA Error \", distance)\n",
    "ds.append(distance)\n",
    "labels.append(\"EMA\")\n",
    "\n",
    "\n",
    "time, data = get_fft_smoothening(ax,f)\n",
    "distance, path = fastdtw(data_cwnd, data, dist=euclidean)\n",
    "print(\"FFT Error \", distance)\n",
    "ds.append(distance)\n",
    "labels.append(\"FFT\")\n",
    "ax.title.set_text(f)\n",
    "ax.legend()\n",
    "plt.show()\n",
    "\n",
    "plt.bar(labels, ds, color ='maroon',width = 0.4)\n",
    "plt.show()"
   ]
  },
  {
   "cell_type": "code",
   "execution_count": null,
   "id": "3900075b",
   "metadata": {},
   "outputs": [],
   "source": [
    "f = \"cubic\"\n",
    "ds = []\n",
    "labels = []\n",
    "fig, ax = plt.subplots(1,1, figsize=(15,8))\n",
    "time_cwnd, data_cwnd = get_cwnd(ax,f)\n",
    "time, data = get_bif(ax,f)\n",
    "distance, path = fastdtw(data_cwnd, data, dist=euclidean)\n",
    "print(\"BIF Error \", distance)\n",
    "ds.append(distance)\n",
    "labels.append(\"BIF\")\n",
    "\n",
    "time, data = get_ma(ax,f)\n",
    "distance, path = fastdtw(data_cwnd, data, dist=euclidean)\n",
    "print(\"MA Error \", distance)\n",
    "ds.append(distance)\n",
    "labels.append(\"MA\")\n",
    "\n",
    "time, data = get_ema(ax,f)\n",
    "distance, path = fastdtw(data_cwnd, data, dist=euclidean)\n",
    "print(\"EMA Error \", distance)\n",
    "ds.append(distance)\n",
    "labels.append(\"EMA\")\n",
    "\n",
    "\n",
    "time, data = get_fft_smoothening(ax,f)\n",
    "distance, path = fastdtw(data_cwnd, data, dist=euclidean)\n",
    "print(\"FFT Error \", distance)\n",
    "ds.append(distance)\n",
    "labels.append(\"FFT\")\n",
    "ax.title.set_text(f)\n",
    "ax.legend()\n",
    "plt.show()\n",
    "\n",
    "plt.bar(labels, ds, color ='maroon',width = 0.4)\n",
    "plt.show()"
   ]
  },
  {
   "cell_type": "code",
   "execution_count": null,
   "id": "0a34dad7",
   "metadata": {},
   "outputs": [],
   "source": []
  },
  {
   "cell_type": "code",
   "execution_count": null,
   "id": "c1020766",
   "metadata": {},
   "outputs": [],
   "source": []
  },
  {
   "cell_type": "code",
   "execution_count": null,
   "id": "d6b4de99",
   "metadata": {},
   "outputs": [],
   "source": [
    "def get_window(f,p):\n",
    "    algo_cc = f\n",
    "    flows = process_flows(algo_cc, \"./Nebby/measurements/\")\n",
    "    data = []\n",
    "    time = []\n",
    "    for port in flows.keys():\n",
    "        if flows[port][\"last_ack\"] == 0 :\n",
    "            continue\n",
    "        else :\n",
    "            data = flows[port]['windows']\n",
    "            time = flows[port]['times']\n",
    "            if p == \"p\":\n",
    "                for i in range(len(flows[port]['windows'])):\n",
    "                    print(\"{0:10}{1:10}\".format(flows[port]['times'][i], flows[port]['windows'][i]))\n",
    "        time_index = len(time)-1\n",
    "        for index in range(len(flows[port]['times'])-1):\n",
    "            if flows[port]['times'][index+1] - flows[port]['times'][index] > 1 :\n",
    "                time_index = index\n",
    "        time_last = flows[port]['times'][time_index]\n",
    "        data = data[:time_index+1]\n",
    "        time = time[:time_index+1]\n",
    "        return data, time"
   ]
  },
  {
   "cell_type": "code",
   "execution_count": null,
   "id": "1bc0e58b",
   "metadata": {},
   "outputs": [],
   "source": [
    "ig, ax = plt.subplots(figsize=(14, 10))\n",
    "x = data_cwnd\n",
    "y = data\n",
    "# Remove the border and axes ticks\n",
    "fig.patch.set_visible(False)\n",
    "ax.axis('off')\n",
    "\n",
    "for [map_x, map_y] in path:\n",
    "    ax.plot([map_x, map_y], [x[map_x], y[map_y]], '--k', linewidth=4)\n",
    "\n",
    "ax.plot(x, '-ro', label='x', linewidth=0.5, markersize=1, markerfacecolor='lightcoral', markeredgecolor='lightcoral')\n",
    "ax.plot(y, '-bo', label='y', linewidth=4, markersize=1, markerfacecolor='skyblue', markeredgecolor='skyblue')\n",
    "ax.set_title(\"DTW Distance\", fontsize=28, fontweight=\"bold\")"
   ]
  },
  {
   "cell_type": "code",
   "execution_count": null,
   "id": "93f8aa29",
   "metadata": {},
   "outputs": [],
   "source": [
    "ig, ax = plt.subplots(figsize=(14, 10))\n",
    "\n",
    "# Remove the border and axes ticks\n",
    "fig.patch.set_visible(False)\n",
    "ax.axis('off')\n",
    "\n",
    "for [map_x, map_y] in warp_path:\n",
    "    ax.plot([map_x, map_y], [x[map_x], y[map_y]], '--k', linewidth=4)\n",
    "\n",
    "ax.plot(x, '-ro', label='x', linewidth=4, markersize=20, markerfacecolor='lightcoral', markeredgecolor='lightcoral')\n",
    "ax.plot(y, '-bo', label='y', linewidth=4, markersize=20, markerfacecolor='skyblue', markeredgecolor='skyblue')\n",
    "ax.set_title(\"DTW Distance\", fontsize=28, fontweight=\"bold\")"
   ]
  },
  {
   "cell_type": "code",
   "execution_count": null,
   "id": "a4f76792",
   "metadata": {},
   "outputs": [],
   "source": []
  },
  {
   "cell_type": "markdown",
   "id": "2b201717",
   "metadata": {},
   "source": [
    "# Plotting the BIF for all the algos : 1000Kbps LINKSPEED and 50ms POST DELAY "
   ]
  },
  {
   "cell_type": "code",
   "execution_count": null,
   "id": "c6cb8e2e",
   "metadata": {},
   "outputs": [],
   "source": [
    "def lowpassfilter(signal, thresh=0.63, wavelet=\"db4\"):\n",
    "    thresh = thresh*np.nanmax(signal)\n",
    "    coeff = pywt.wavedec(signal, wavelet, mode=\"per\")\n",
    "    coeff[1:] = (pywt.threshold(i, value=thresh, mode=\"hard\") for i in coeff[1:])\n",
    "    reconstructed_signal = pywt.waverec(coeff, wavelet, mode=\"per\")\n",
    "    return reconstructed_signal\n",
    "# def plot_dwt(ax,signal,thresh=0.63, wv=\"db4\"):\n",
    "#     fig, ax = plt.subplots(figsize=(12,8))\n",
    "#     rec = lowpassfilter(signal, thresh, wv)\n",
    "#     ax.plot(rec, 'k', label='DWT smoothing}', linewidth=2)\n",
    "#     ax.set_title('Removing High Frequency Noise with DWT', fontsize=18)\n",
    "#     ax.set_ylabel('Signal Amplitude', fontsize=16)\n",
    "#     ax.set_xlabel('Sample No', fontsize=16)\n",
    "#     plt.show()\n",
    "# plot_dwt(0.1,\"rbio1.5\")"
   ]
  },
  {
   "cell_type": "code",
   "execution_count": null,
   "id": "d8aa6a22",
   "metadata": {},
   "outputs": [],
   "source": [
    "import pandas as pd\n",
    "import pywt"
   ]
  },
  {
   "cell_type": "code",
   "execution_count": null,
   "id": "18ba8634",
   "metadata": {},
   "outputs": [],
   "source": [
    "def get_algo_files(name=[]):\n",
    "    if len(name) == 0:\n",
    "        ccs = \"reno cubic bbr veno bic cdg dctcp highspeed htcp hybla illinois lp nv scalable vegas westwood yeah\"\n",
    "        ccs = ccs.split(\" \")\n",
    "    else :\n",
    "        ccs = name\n",
    "    return ccs"
   ]
  },
  {
   "cell_type": "code",
   "execution_count": null,
   "id": "87dcada7",
   "metadata": {},
   "outputs": [],
   "source": [
    "def plot_cwnd_bf(files):\n",
    "    path = \"/home/lakshayr/nus_intern/Nebby/custom_clients/statsfiles\"\n",
    "    for f in files:\n",
    "        algo_cc = f\n",
    "        flows = process_flows(algo_cc, \"./Nebby/measurements/\")\n",
    "        port = list(flows.keys())[0]\n",
    "        \n",
    "        statsfile = path + \"/\" + f + \"-stats.csv\"\n",
    "        df_c = pd.read_csv(statsfile,sep=\",\")\n",
    "        start = df_c['ts'][1]\n",
    "        df_c['ts'] = df_c['ts'] - start\n",
    "        cwnd_bytes = df_c['tcpi_snd_cwnd'].mul(df_c['snd'])\n",
    "        \n",
    "        fig, (ax1,ax2) = plt.subplots(1,2, figsize=(10,5))\n",
    "        ax1.plot(flows[port]['times'][1:int(len(flows[port]['times']))], flows[port]['windows'][1:int(len(flows[port]['times']))], color='b',lw='0.5')\n",
    "        ax1.title.set_text(f)\n",
    "        ax2.plot(df_c['ts'][1:], cwnd_bytes[1:])\n",
    "        plt.show()"
   ]
  },
  {
   "cell_type": "code",
   "execution_count": null,
   "id": "52c7bbb8",
   "metadata": {},
   "outputs": [],
   "source": [
    "def get_wwlt(ax,f):\n",
    "    data, time = get_window(f, \"n\")\n",
    "    thresh = 0.4\n",
    "    wv = \"rbio1.5\"\n",
    "    rec = lowpassfilter(data, thresh, wv)\n",
    "    start = len(rec) - len(time)\n",
    "    ax.plot(time,rec[start:], label='DWT smoothing}', linewidth=2)\n",
    "    return time, data\n",
    "def get_bif(ax,f):\n",
    "    algo_cc = f\n",
    "    data, time = get_window(f, \"n\")\n",
    "#     flows = process_flows(algo_cc, \"./Nebby/measurements/\")\n",
    "#     port = list(flows.keys())[0]\n",
    "#     start_bif = flows[port]['times'][0]\n",
    "#     ax.plot(flows[port]['times'][1:int(len(flows[port]['times']))], flows[port]['windows'][1:int(len(flows[port]['windows']))], label=\"bif\",color='b',lw=0.5,alpha=0.5)\n",
    "    ax.plot(time, data,label=\"bif\",color='b',lw=0.5,alpha=0.5)\n",
    "    return time,data\n",
    "    \n",
    "def get_cwnd(ax,f):\n",
    "    path = \"/home/lakshayr/nus_intern/Nebby/custom_clients/statsfiles\"\n",
    "    statsfile = path + \"/\" + f + \"-stats.csv\"\n",
    "    df_c = pd.read_csv(statsfile,sep=\",\")\n",
    "    start_cwnd = df_c['ts'][1]\n",
    "\n",
    "    fix = 0.1\n",
    "    if(f==\"reno\"):\n",
    "        fix=0.2\n",
    "    df_c['ts'] = df_c['ts'] - start_cwnd  + fix\n",
    "    cwnd_bytes = df_c['tcpi_snd_cwnd'].mul(df_c['snd'])\n",
    "    cwnd_times = df_c['ts']\n",
    "    data, time = get_window(f, \"n\")\n",
    "    time_thresh = time[-1]\n",
    "    cwnd_thresh = len(time)\n",
    "    for t in range(len(df_c['ts'])):\n",
    "        if df_c['ts'][t] > time_thresh:\n",
    "            cwnd_thresh = t+1\n",
    "            break\n",
    "    ax.plot(cwnd_times[1:cwnd_thresh], cwnd_bytes[1:cwnd_thresh], label=\"cwnd\",color='r', lw=1.5, alpha=1)\n",
    "    return list(cwnd_times[1:cwnd_thresh]), list(cwnd_bytes[1:cwnd_thresh])\n",
    "\n",
    "def get_ma(ax,f):\n",
    "    data, time = get_window(f, \"n\")\n",
    "    ma_data = []\n",
    "    k = 20\n",
    "    for i in range(len(data)):\n",
    "        if i-k < 0:\n",
    "            curr = sum(data[0:i+1])\n",
    "            curr += sum(data[i+1:abs(i-k)])\n",
    "            curr = float(curr)/k\n",
    "        else :\n",
    "            curr = sum(data[i-k:i+1]);\n",
    "            curr = float(curr)/k\n",
    "        ma_data.append(curr)\n",
    "    ax.plot(time, ma_data, color='g', label=\"MA\", lw=1.5, alpha=1)\n",
    "    return time, ma_data\n",
    "    \n",
    "def get_ema(ax,f):\n",
    "    data, time = get_window(f, \"n\")\n",
    "    ma_data = []\n",
    "    alpha=0.2\n",
    "    for i in range(len(data)):\n",
    "        if i == 0:\n",
    "            curr = data[i]\n",
    "        else :\n",
    "            curr = alpha*data[i] + (1-alpha)*ma_data[i-1]\n",
    "        ma_data.append(curr)\n",
    "    ax.plot(time, ma_data, color='m', label=\"EMA\")\n",
    "    return time, ma_data\n",
    "    \n",
    "def get_fft_smoothening(ax,f):\n",
    "    rtt=0.1\n",
    "    data, time = get_window(f, \"n\")\n",
    "    print(len(data), \" \", len(time))\n",
    "\n",
    "    yf, xf = get_fft(data)\n",
    "    abs_yf = np.abs(yf)\n",
    "#     print(len(abs_yf), len(xf))\n",
    "    sort_abs_yf = sorted(abs_yf)\n",
    "    \n",
    "#     plt.title(\"FFT Decomposition\")\n",
    "#     plt.plot(xf, sort_abs_yf, color='b', alpha=0.5, lw=1)\n",
    "#     plt.scatter(xf, sort_abs_yf, color='r', s=2)\n",
    "#     plt.show()\n",
    "\n",
    "    thresh  = (1/rtt)\n",
    "    print(\"RTT\", rtt, \"Freq \", thresh)\n",
    "#     print(xf)\n",
    "    thresh_ind = 0\n",
    "    for i in range(len(xf)) :\n",
    "        freq = xf[i]\n",
    "        if(freq > thresh):\n",
    "            thresh_ind = i\n",
    "            break\n",
    "#     print(\"Index \", thresh_ind)\n",
    "#     print(xf[0:thresh_ind])\n",
    "#     plt.title(\"Cleaned Frequencies\")\n",
    "#     plt.plot(xf[0:thresh_ind],np.abs(yf[0:thresh_ind]))\n",
    "#     plt.show()\n",
    "\n",
    "    yf_clean = yf\n",
    "    yf_clean[thresh_ind+1:] = 0\n",
    "    new_f_clean = irfft(yf_clean)\n",
    "#     plt.title(\"Frequencies smaller than \" + str(thresh))\n",
    "#     plt.plot(time, data, color=\"b\", alpha=0.5, label='original signal')\n",
    "    start_len = len(time) - len(new_f_clean)\n",
    "    ax.plot(time[start_len:], new_f_clean, 'k', label='FFT smoothening', linewidth=1.5)\n",
    "#     plt.legend()\n",
    "#     plt.show()\n",
    "    return time[start_len:], new_f_clean\n"
   ]
  },
  {
   "cell_type": "code",
   "execution_count": null,
   "id": "b5d607c5",
   "metadata": {
    "scrolled": true
   },
   "outputs": [],
   "source": [
    "def plot_fft_cwnd(files):\n",
    "    for f in files :\n",
    "        print(f)\n",
    "        path = \"/home/lakshayr/nus_intern/Nebby/custom_clients/statsfiles\"\n",
    "        statsfile = path + \"/\" + f + \"-stats.csv\"\n",
    "        df_c = pd.read_csv(statsfile,sep=\",\")\n",
    "        start_cwnd = df_c['ts'][1]\n",
    "        \n",
    "        fix = 0.1\n",
    "        if(f==\"reno\"):\n",
    "            fix=0.2\n",
    "        df_c['ts'] = df_c['ts'] - start_cwnd  + fix\n",
    "        time = df_c['ts'][1:]\n",
    "        cwnd_bytes = df_c['tcpi_snd_cwnd'].mul(df_c['snd'])\n",
    "\n",
    "#         print(len(data), \" \", len(time))\n",
    "        data = cwnd_bytes[1:]\n",
    "        yf, xf = get_fft(data)\n",
    "        abs_yf = np.abs(yf)\n",
    "#         print(len(abs_yf), len(xf))\n",
    "        sort_abs_yf = sorted(abs_yf)\n",
    "#         for x in range(len(xf)):\n",
    "#             print(xf[x],abs_yf[x])\n",
    "        plt.title(\"FFT Decomposition CWND\")\n",
    "        plt.plot(xf[1:], abs_yf[1:], color='b', alpha=0.5, lw=1)\n",
    "        plt.scatter(xf[1:], abs_yf[1:], color='r', s=2)\n",
    "        plt.show()\n",
    "        \n",
    "        quantile = np.quantile(sort_abs_yf,75)\n",
    "        thresh_f = af[abs_yf.index(quantile)]\n",
    "        print(\"Freq \", thresh_f)\n",
    "        \n",
    "        \n",
    "        data, time = get_window(f, \"n\")\n",
    "        print(len(data), \" \", len(time))\n",
    "\n",
    "        yf, xf = get_fft(data)\n",
    "#         abs_yf = np.abs(yf)\n",
    "#         plt.title(\"FFT Decomposition BIF\")\n",
    "#         plt.plot(xf, abs_yf, color='b', alpha=0.5, lw=1)\n",
    "#         plt.scatter(xf, abs_yf, color='r', s=2)\n",
    "#         plt.show()\n",
    "        corrected_data = xf < thresh_f\n",
    "        \n",
    "#         plt.title(\"Log FFT Decomposition\")\n",
    "#         plt.plot(xf[1:], np.log10(abs_yf[1:]), color='b', alpha=0.5, lw=1)\n",
    "#         plt.scatter(xf[1:], np.log10(abs_yf[1:]), color='r', s=2)\n",
    "#         plt.show()\n",
    "        # take the mean of the log and then use that \n",
    "        \n",
    "#         print(\"Thresh = \", pow(10,thresh))\n",
    "#         correct = abs_yf[1:] > pow(10,thresh)\n",
    "#         corrected_yf = yf[1:] * correct\n",
    "#         corrected_data = irfft(corrected_yf)\n",
    "#         print(corrected_data)\n",
    "#         plt.plot(time, data, color=\"b\", alpha=0.5, label='original signal')\n",
    "#         plt.plot(time[2:], corrected_data, 'k', label='FFT smoothening', linewidth=1.5)\n",
    "#         plt.show()\n",
    "#         \n",
    "#           thresh_ind = 0\n",
    "#         for i in range(len(xf)) :\n",
    "#             freq = xf[i]\n",
    "#             if(freq > thresh):\n",
    "#                 thresh_ind = i\n",
    "#                 break\n",
    "#         print(\"Index \", thresh_ind)\n",
    "#         print(xf[0:thresh_ind])\n",
    "#         plt.title(\"Cleaned Frequencies\")\n",
    "#         plt.plot(xf[0:thresh_ind],np.abs(yf[0:thresh_ind]))\n",
    "#         plt.show()\n",
    "\n",
    "#         yf_clean = yf\n",
    "#         yf_clean[thresh_ind+1:] = 0\n",
    "#         new_f_clean = irfft(yf_clean)\n",
    "# #         plt.title(\"Frequencies smaller than \" + str(thresh))\n",
    "# #         plt.plot(time, data, color=\"b\", alpha=0.5, label='original signal')\n",
    "#         start_len = len(time) - len(new_f_clean)\n",
    "#         plt.plot(time[start_len:], new_f_clean, 'k', label='FFT smoothing}', linewidth=2)\n",
    "#         plt.legend()\n",
    "#         plt.show()"
   ]
  },
  {
   "cell_type": "code",
   "execution_count": null,
   "id": "e91b58f2",
   "metadata": {
    "scrolled": false
   },
   "outputs": [],
   "source": [
    "plot_fft_cwnd([\"cubic\"])"
   ]
  },
  {
   "cell_type": "code",
   "execution_count": null,
   "id": "20a5e4fe",
   "metadata": {},
   "outputs": [],
   "source": [
    "def get_fft(data):\n",
    "    n = len(data)\n",
    "    data_step = 0.002\n",
    "    yf = rfft(data)\n",
    "    xf = rfftfreq(n,data_step)\n",
    "    return yf,xf\n"
   ]
  },
  {
   "cell_type": "code",
   "execution_count": null,
   "id": "ed52e52a",
   "metadata": {},
   "outputs": [],
   "source": [
    "def plot_one(files):\n",
    "    for f in files:\n",
    "        fig, ax = plt.subplots(1,1, figsize=(15,8))\n",
    "#         get_bif(ax,f)\n",
    "        get_cwnd(ax,f)\n",
    "#         get_ma(ax,f)\n",
    "#         get_ema(ax,f)\n",
    "#         get_wwlt(ax,f)\n",
    "        get_fft_smoothening(ax,f)\n",
    "        ax.title.set_text(f)\n",
    "        ax.legend()\n",
    "        plt.show()"
   ]
  },
  {
   "cell_type": "code",
   "execution_count": null,
   "id": "421f8e03",
   "metadata": {
    "scrolled": false
   },
   "outputs": [],
   "source": [
    "plot_one(ccs)"
   ]
  },
  {
   "cell_type": "code",
   "execution_count": null,
   "id": "ebfb7214",
   "metadata": {
    "scrolled": false
   },
   "outputs": [],
   "source": [
    "plot_cwnd_bf(ccs)"
   ]
  },
  {
   "cell_type": "code",
   "execution_count": null,
   "id": "a12a998d",
   "metadata": {},
   "outputs": [],
   "source": [
    "data, time = get_window(ccs[0], p=\"n\")"
   ]
  },
  {
   "cell_type": "code",
   "execution_count": null,
   "id": "d6c0baa6",
   "metadata": {},
   "outputs": [],
   "source": [
    "ccs = get_algo_files()\n",
    "plot_g(ccs,z=1)"
   ]
  },
  {
   "cell_type": "code",
   "execution_count": null,
   "id": "a29c8aae",
   "metadata": {
    "scrolled": false
   },
   "outputs": [],
   "source": []
  },
  {
   "cell_type": "code",
   "execution_count": null,
   "id": "897b6b3d",
   "metadata": {},
   "outputs": [],
   "source": [
    "file = folder + \"/\" + \"cubic-stats.csv\"\n",
    "df = pd.read_csv(file,sep=\",\")\n",
    "plt.title(\"Senders CWND for CUBIC\")\n",
    "start = df['ts'][1]\n",
    "df['ts'] = df['ts'] - start \n",
    "plt.plot(df['ts'], df['tcpi_snd_cwnd'])\n",
    "plt.show()"
   ]
  },
  {
   "cell_type": "markdown",
   "id": "a74c3196",
   "metadata": {},
   "source": [
    "# Getting the CWND trace from custom client"
   ]
  },
  {
   "cell_type": "code",
   "execution_count": null,
   "id": "2827145e",
   "metadata": {},
   "outputs": [],
   "source": [
    "folder = \"/home/lakshayr/nus_intern/Nebby/custom_clients/statsfiles\""
   ]
  },
  {
   "cell_type": "code",
   "execution_count": null,
   "id": "24d1803b",
   "metadata": {},
   "outputs": [],
   "source": [
    "from os import walk\n",
    "\n",
    "f = []\n",
    "for (dirpath, dirnames, filenames) in walk(folder):\n",
    "    f.extend(filenames)"
   ]
  },
  {
   "cell_type": "code",
   "execution_count": null,
   "id": "e23c169f",
   "metadata": {},
   "outputs": [],
   "source": [
    "file = folder + \"/\" + filenames[0]"
   ]
  },
  {
   "cell_type": "code",
   "execution_count": null,
   "id": "8dda76f7",
   "metadata": {},
   "outputs": [],
   "source": [
    "print(file)"
   ]
  },
  {
   "cell_type": "code",
   "execution_count": null,
   "id": "f1c2407f",
   "metadata": {},
   "outputs": [],
   "source": [
    "import pandas as pd"
   ]
  },
  {
   "cell_type": "code",
   "execution_count": null,
   "id": "078a453d",
   "metadata": {},
   "outputs": [],
   "source": [
    "df = pd.read_csv(file,sep=\"\\t\")"
   ]
  },
  {
   "cell_type": "code",
   "execution_count": null,
   "id": "0080128e",
   "metadata": {},
   "outputs": [],
   "source": [
    "df['ts']"
   ]
  },
  {
   "cell_type": "code",
   "execution_count": null,
   "id": "ff53ff05",
   "metadata": {},
   "outputs": [],
   "source": [
    "plt.title(\"Senders CWND for CUBIC\")\n",
    "plt.plot(df['ts'], df['tcpi_snd_cwnd'])\n",
    "plt.show()"
   ]
  },
  {
   "cell_type": "markdown",
   "id": "b3c14962",
   "metadata": {},
   "source": [
    "# Moving Average "
   ]
  },
  {
   "cell_type": "markdown",
   "id": "60d125ec",
   "metadata": {},
   "source": [
    "### 1 - Normal Moving Average\n",
    "### 2 - Exponential Moving Average"
   ]
  },
  {
   "cell_type": "code",
   "execution_count": null,
   "id": "258bb904",
   "metadata": {},
   "outputs": [],
   "source": [
    "curr_files = get_files(\"\",\"35\",\"500\")\n",
    "print(curr_files)"
   ]
  },
  {
   "cell_type": "code",
   "execution_count": null,
   "id": "6ac1b668",
   "metadata": {},
   "outputs": [],
   "source": [
    "def plot_ma(files, t=1, k=10, alpha=0.5):\n",
    "    for file in files : \n",
    "        print(file)\n",
    "        data, time = get_window(file, \"n\")\n",
    "        if t == 0 or t == 1:\n",
    "            ma_data = []\n",
    "            for i in range(len(data)):\n",
    "                if i-k < 0:\n",
    "                    curr = sum(data[0:i+1])\n",
    "                    curr += sum(data[i+1:abs(i-k)])\n",
    "                    curr = float(curr)/k\n",
    "                else :\n",
    "                    curr = sum(data[i-k:i+1]);\n",
    "                    curr = float(curr)/k\n",
    "                ma_data.append(curr)\n",
    "            title = \"MA \" + str(k)\n",
    "            plt.figure(figsize =(10,8))\n",
    "            plt.title(title)\n",
    "            plt.plot(time, data, color=\"b\", alpha=0.5, label='original signal')\n",
    "            plt.plot(time, ma_data, 'k', label=\"MA\")\n",
    "            plt.show()\n",
    "        if t == 0 or t == 2 :\n",
    "            ma_data = []\n",
    "            for i in range(len(data)):\n",
    "                if i == 0:\n",
    "                    curr = data[i]\n",
    "                else :\n",
    "                    curr = alpha*data[i] + (1-alpha)*ma_data[i-1]\n",
    "                ma_data.append(curr)\n",
    "            plt.figure(figsize =(10,8))\n",
    "            plt.title(\"EMA \"+str(alpha))\n",
    "            plt.plot(time, data, color=\"b\", alpha=0.5, label='original signal')\n",
    "            plt.plot(time, ma_data, 'k', label=\"EMA\")\n",
    "            plt.show()"
   ]
  },
  {
   "cell_type": "code",
   "execution_count": null,
   "id": "101defbe",
   "metadata": {
    "scrolled": true
   },
   "outputs": [],
   "source": [
    "plot_ma(ccs,0, 20, 0.07)"
   ]
  },
  {
   "cell_type": "markdown",
   "id": "307471de",
   "metadata": {},
   "source": [
    "# RTT threshold"
   ]
  },
  {
   "cell_type": "code",
   "execution_count": null,
   "id": "5f46a5fe",
   "metadata": {},
   "outputs": [],
   "source": [
    "from scipy.fft import rfft, rfftfreq\n",
    "from scipy.fft import irfft\n",
    "import numpy as np\n",
    "import statistics\n"
   ]
  },
  {
   "cell_type": "code",
   "execution_count": null,
   "id": "240fbf6d",
   "metadata": {},
   "outputs": [],
   "source": [
    "def get_window(f,p):\n",
    "    algo_cc = f\n",
    "    flows = process_flows(algo_cc, \"./Nebby/measurements/\")\n",
    "    data = []\n",
    "    time = []\n",
    "    for port in flows.keys():\n",
    "        if flows[port][\"last_ack\"] == 0 :\n",
    "            continue\n",
    "        else :\n",
    "            data = flows[port]['windows']\n",
    "            time = flows[port]['times']\n",
    "            if p == \"p\":\n",
    "                for i in range(len(flows[port]['windows'])):\n",
    "                    print(\"{0:10}{1:10}\".format(flows[port]['times'][i], flows[port]['windows'][i]))\n",
    "        return data, time"
   ]
  },
  {
   "cell_type": "code",
   "execution_count": null,
   "id": "4ce20421",
   "metadata": {},
   "outputs": [],
   "source": [
    "curr_files = get_files(\"\",\"35\",\"500\")\n",
    "print(curr_files)"
   ]
  },
  {
   "cell_type": "code",
   "execution_count": null,
   "id": "885433b7",
   "metadata": {},
   "outputs": [],
   "source": [
    "def get_fft(data):\n",
    "    n = len(data)\n",
    "    data_step = 0.001\n",
    "    yf = rfft(data)\n",
    "    xf = rfftfreq(n,data_step)\n",
    "    return yf,xf\n"
   ]
  },
  {
   "cell_type": "code",
   "execution_count": null,
   "id": "90f574a2",
   "metadata": {},
   "outputs": [],
   "source": [
    "\n",
    "def plot_rtt(files):\n",
    "    for file in files :\n",
    "        print(file)\n",
    "        rtt = 2*float(file.split(\"-\")[1])/1000\n",
    "        data, time = get_window(file, \"n\")\n",
    "\n",
    "#         print(len(data), \" \", len(time))\n",
    "\n",
    "        yf, xf = get_fft(data)\n",
    "        abs_yf = np.abs(yf)\n",
    "#         print(len(abs_yf), len(xf))\n",
    "        sort_abs_yf = sorted(abs_yf)\n",
    "        plt.title(\"FFT Decomposition\")\n",
    "#         plt.plot(xf, sort_abs_yf, color='b', alpha=0.5, lw=1)\n",
    "#         plt.scatter(xf, sort_abs_yf, color='r', s=2)\n",
    "#         plt.show()\n",
    "\n",
    "        thresh  = (1/rtt)\n",
    "        print(\"RTT\", rtt, \"Freq \", thresh)\n",
    "#         print(xf)\n",
    "        thresh_ind = 0\n",
    "        for i in range(len(xf)) :\n",
    "            freq = xf[i]\n",
    "            if(freq > thresh):\n",
    "                thresh_ind = i\n",
    "                break\n",
    "        print(\"Index \", thresh_ind)\n",
    "#         print(xf[0:thresh_ind])\n",
    "#         plt.title(\"Cleaned Frequencies\")\n",
    "#         plt.plot(xf[0:thresh_ind],np.abs(yf[0:thresh_ind]))\n",
    "#         plt.show()\n",
    "\n",
    "        yf_clean = yf\n",
    "        yf_clean[thresh_ind+1:] = 0\n",
    "        new_f_clean = irfft(yf_clean)\n",
    "#         plt.title(\"Frequencies smaller than \" + str(thresh))\n",
    "#         plt.plot(time, data, color=\"b\", alpha=0.5, label='original signal')\n",
    "        start_len = len(time) - len(new_f_clean)\n",
    "        plt.plot(time[start_len:], new_f_clean, 'k', label='FFT smoothing}', linewidth=2)\n",
    "#         plt.legend()\n",
    "#         plt.show()"
   ]
  },
  {
   "cell_type": "code",
   "execution_count": null,
   "id": "997f6437",
   "metadata": {
    "scrolled": false
   },
   "outputs": [],
   "source": [
    "plot_rtt(curr_files)"
   ]
  },
  {
   "cell_type": "code",
   "execution_count": null,
   "id": "625ea3cc",
   "metadata": {},
   "outputs": [],
   "source": [
    "import csv\n",
    "import matplotlib.pyplot as plt\n",
    "import sys\n",
    "import math\n",
    "\n",
    "SHOW=True\n",
    "MULTI_GRAPH=False\n",
    "SMOOTHENING=False\n",
    "ONLY_STATS=False\n",
    "s_factor=0.9\n",
    "\n",
    "'''\n",
    "TODO: \n",
    "o Add functionality where you only plot flows that send more than x bytes of data\n",
    "o Sort stats and graphs by flow size\n",
    "o Organize plots by flow size (larger flows have larger graphs)\n",
    "o Custom smoothening function\n",
    "'''\n",
    "\n",
    "fields=[\"time\", \"frame_time_rel\", \"tcp_time_rel\", \"frame_num\", \"frame_len\", \"ip_src\", \"src_port\", \"ip_dest\", \"dest_port\", \"tcp_len\", \"seq\", \"ack\"]\n",
    "\n",
    "class pkt:\n",
    "    contents=[]\n",
    "    def __init__(self, fields) -> None:\n",
    "        self.contents=[]\n",
    "        for f in fields:\n",
    "            self.contents.append(f)\n",
    "\n",
    "    def get(self, field):\n",
    "        return self.contents[fields.index(field)]\n",
    "        \n",
    "\n",
    "def process_flows(cc, dir):\n",
    "    with open(dir+cc+\"-tcp.csv\") as csv_file:\n",
    "        print(\"Reading \"+dir+cc+\"-tcp.csv...\")\n",
    "        csv_reader = csv.reader(csv_file, delimiter=',')\n",
    "        line_count = 0\n",
    "        total_bytes=0\n",
    "        '''\n",
    "        Flow tracking:\n",
    "        o Identify all packets that are either sourced from or headed to 100.64.0.2\n",
    "        o Group different flows by client's port\n",
    "        '''\n",
    "        flows={}\n",
    "        data_sent=0\n",
    "        port_set = set()\n",
    "        for row in csv_reader:\n",
    "            packet=pkt(row)\n",
    "            validPkt=False\n",
    "            if line_count==0:\n",
    "                # reject the header\n",
    "                line_count+=1\n",
    "                continue\n",
    "            if data_sent == 0 : \n",
    "                if \"100.64.0.\" in packet.get(\"ip_src\"):\n",
    "                    num = int(packet.get(\"ip_src\")[-1])\n",
    "                    if num%2==0:\n",
    "                        data_sent=1\n",
    "                        host_port=packet.get(\"ip_src\")\n",
    "                if \"100.64.0.\" in packet.get(\"ip_dest\"):\n",
    "                    num = int(packet.get(\"ip_dest\")[-1])\n",
    "                    if num%2==0:\n",
    "                        data_sent=1\n",
    "                        host_port=packet.get(\"ip_dest\")\n",
    "                if data_sent == 0:\n",
    "                    continue\n",
    "                    \n",
    "            if packet.get(\"ip_src\")==host_port and packet.get(\"frame_time_rel\")!='' and packet.get(\"ack\")!='': \n",
    "                # we care about this ACK packet\n",
    "                validPkt=True\n",
    "                port=packet.get(\"src_port\")\n",
    "                if port not in flows:\n",
    "                    flows[port]={\"serverip\":packet.get(\"ip_dest\"), \"serverport\":packet.get(\"dest_port\"), \"act_times\":[],\"times\":[], \"windows\":[], \"cwnd\":[], \"bif\":0, \"last_ack\":0, \"last_seq\":0, \"pif\":0}\n",
    "                flows[port][\"act_times\"].append(packet.get(\"time\"))\n",
    "                flows[port][\"times\"].append(float(packet.get(\"frame_time_rel\")))\n",
    "                flows[port][\"bif\"]-=max(0,(int(packet.get(\"ack\"))-int(flows[port][\"last_ack\"])))\n",
    "                flows[port][\"last_ack\"]=max(int(flows[port][\"last_ack\"]),int(packet.get(\"ack\")))\n",
    "                #flows[port][\"windows\"].append(int(flows[port][\"bif\"]))\n",
    "                flows[port][\"pif\"]-=1\n",
    "                flows[port][\"cwnd\"].append(flows[port][\"pif\"])\n",
    "            elif packet.get(\"ip_dest\")==host_port and packet.get(\"frame_time_rel\")!='' and packet.get(\"seq\")!='':\n",
    "                #we care about this Data packet\n",
    "                validPkt=True\n",
    "                port=packet.get(\"dest_port\")\n",
    "                if port not in flows:\n",
    "                    flows[port]={\"serverip\":packet.get(\"ip_src\"), \"serverport\":packet.get(\"src_port\"),\"act_times\":[], \"times\":[], \"windows\":[], \"cwnd\":[], \"bif\":0, \"last_ack\":0, \"last_seq\":0, \"pif\":0}\n",
    "                flows[port][\"times\"].append(float(packet.get(\"frame_time_rel\")))\n",
    "                flows[port][\"act_times\"].append(packet.get(\"time\"))\n",
    "                flows[port][\"bif\"]+=max(0,(int(packet.get(\"seq\"))-int(flows[port][\"last_seq\"])))\n",
    "                flows[port][\"last_seq\"]=max(flows[port][\"last_seq\"],int(packet.get(\"seq\")))\n",
    "                flows[port][\"pif\"]+=1\n",
    "                flows[port][\"cwnd\"].append(flows[port][\"pif\"])\n",
    "            if SMOOTHENING and validPkt and len(flows[port][\"windows\"])>2:\n",
    "                flows[port][\"windows\"].append(int((s_factor*flows[port][\"windows\"][-1])+((1-s_factor)*flows[port][\"bif\"])))\n",
    "            elif validPkt:\n",
    "                flows[port][\"windows\"].append(int(flows[port][\"bif\"]))\n",
    "            line_count+=1\n",
    "            total_bytes+=int(packet.get(\"frame_len\"))\n",
    "            #print(line_count, total_bytes)\n",
    "            \n",
    "        print(\"total bytes processed:\", total_bytes/1000, \"KBytes for\", cc, \"(unlimited)\")\n",
    "    return flows\n",
    "\n",
    "def custom_smooth_function():\n",
    "    pass\n",
    "\n",
    "def get_flow_stats(flows):\n",
    "    num=len(flows.keys())\n",
    "    print(\"FLOW STATISTICS: \\nNumber of flows: \", num)\n",
    "    print(\"------------------------------------------------------------------------------\")\n",
    "    print('%6s'%\"port\", '%15s'%\"SrcIP\", '%8s'%\"SrcPort\",  '%8s'%\"duration\",  '%8s'%\"start\",  '%8s'%\"end\", '%8s'%\"Sent (B)\", '%8s'%\"Recv (B)\",)\n",
    "    for k in flows.keys():\n",
    "        print('%6s'%k, '%15s'%flows[k][\"serverip\"], '%8s'%flows[k][\"serverport\"], '%8s'%str('%.2f'%(flows[k][\"times\"][-1]-flows[k][\"times\"][0])), '%8s'%str('%.2f'%flows[k][\"times\"][0]), '%8s'%str('%.2f'%flows[k][\"times\"][-1]), '%8s'%flows[k][\"last_seq\"], '%8s'%flows[k][\"last_ack\"])\n",
    "        #print(\"    * Flow \"+str(k)+\": \", flows[k][\"last_ack\"], \" \", flows[k][\"last_seq\"], \" bytes transfered.\")\n",
    "    return num\n",
    "\n",
    "def run(files):\n",
    "    flows = {}\n",
    "    for f in files:\n",
    "        algo_cc=f\n",
    "        #Get the data for all the flows\n",
    "        print(\"==============================================================================\")\n",
    "        print(\"opening trace ../measurements/\"+algo_cc+\".csv...\")\n",
    "        flows = process_flows(algo_cc, \"./Nebby/measurements/\")\n",
    "        #decide on final graph layout\n",
    "        num = get_flow_stats(flows)\n",
    "\n",
    "        if ONLY_STATS:\n",
    "            sys.exit()\n",
    "\n",
    "        if num==1:\n",
    "            MULTI_GRAPH=False\n",
    "        #grid size\n",
    "        if MULTI_GRAPH:\n",
    "            size=(0,0)\n",
    "            grids={1:(2,2), 2:(2,2), 4:(2,2), 6:(2,3), 9:(3,3), 12:(3,4), 15:(3,5), 16:(4,4), 20:(5,4), 24:(6,4), 30:(6,5), 36:(6,6), 40:(8,5), 42:(8,7), 49:(7,7)}\n",
    "            g=num\n",
    "            while g<=49 and g not in grids:\n",
    "                g+=1\n",
    "            if g in grids.keys():\n",
    "                size=grids[g]\n",
    "            else:\n",
    "                size=grids[49]  \n",
    "            fig, axs = plt.subplots(size[0], size[1])\n",
    "            for i in range(size[0]):\n",
    "                for j in range(size[1]):\n",
    "                    #axs[i][j].legend(loc=\"lower right\")\n",
    "                    if i==size[0]-1:\n",
    "                        axs[i][j].set_xlabel(\"Time (s)\")\n",
    "                    if j==0:\n",
    "                        axs[i][j].set_ylabel(\"Bytes in flight\")\n",
    "        else:\n",
    "            plt.xlabel(\"Time (s)\")\n",
    "            plt.ylabel(\"Bytes in flight\")\n",
    "        counter=0\n",
    "        for port in flows.keys():\n",
    "            if MULTI_GRAPH:  \n",
    "                axs[counter%size[0]][(counter//size[0])%size[1]].scatter(flows[port][\"times\"], flows[port][\"windows\"], color=\"#858585\")\n",
    "                axs[counter%size[0]][(counter//size[0])%size[1]].plot(flows[port][\"times\"], flows[port][\"windows\"], label=str(port), linestyle=\"solid\")\n",
    "            else:\n",
    "                plt.plot(flows[port][\"times\"], flows[port][\"windows\"], label=str(port), linestyle=\"solid\")\n",
    "                plt.scatter(flows[port][\"times\"], flows[port][\"windows\"], color=\"#858585\")\n",
    "            counter+=1\n",
    "        if MULTI_GRAPH:\n",
    "            counter=0\n",
    "            for port in flows.keys():\n",
    "                axs[counter%size[0]][(counter//size[0])%size[1]].legend()\n",
    "                counter+=1\n",
    "        else:\n",
    "            plt.legend()\n",
    "        if MULTI_GRAPH:\n",
    "            fig.set_size_inches(16, 12)\n",
    "        if SHOW:\n",
    "            plt.show()\n",
    "        else:\n",
    "            plt.savefig(\"../logs/results/\"+algo_cc+\".png\", dpi=600, bbox_inches='tight', pad_inches=0)\n",
    "    return flows\n"
   ]
  },
  {
   "cell_type": "code",
   "execution_count": null,
   "id": "d6d91c3b",
   "metadata": {},
   "outputs": [],
   "source": [
    "flows = run([\"test15\"])"
   ]
  },
  {
   "cell_type": "code",
   "execution_count": null,
   "id": "8ec5a1d9",
   "metadata": {},
   "outputs": [],
   "source": [
    "def smoothen(data, func, para=10):\n",
    "    times = data['times']\n",
    "    windows = data['windows']\n",
    "    new_times = []\n",
    "    new_windows =[]\n",
    "    if func == \"cma\" :\n",
    "        for t in range(len(times)):\n",
    "            # Keeping all the data points\n",
    "            win = int(para/2)\n",
    "            if t < win :\n",
    "                val = sum(windows[0:t]) + sum(windows[t:t+win])\n",
    "            else :\n",
    "                val = sum(windows[t-win:t]) + sum(windows[t:t+win])\n",
    "            val = val/para\n",
    "            new_times.append(times[t])\n",
    "            new_windows.append(val)\n",
    "\n",
    "    return new_times, new_windows\n",
    "                    "
   ]
  },
  {
   "cell_type": "code",
   "execution_count": null,
   "id": "7d99395c",
   "metadata": {},
   "outputs": [],
   "source": []
  },
  {
   "cell_type": "code",
   "execution_count": null,
   "id": "f2bbba21",
   "metadata": {
    "scrolled": false
   },
   "outputs": [],
   "source": [
    "def plot_nice(files):\n",
    "    for f in files:\n",
    "        algo_cc = f\n",
    "        flows = process_flows(algo_cc, \"./Nebby/measurements/\")\n",
    "        for port in flows.keys():\n",
    "            smooth = \"\"\n",
    "            times, windows = smoothen(flows[port], \"cma\", 20) \n",
    "            fig, (ax1,ax2) = plt.subplots(2,1, figsize=(10,10))\n",
    "            title = f + \" : \" + str(port) + smooth\n",
    "            ax1.plot(flows[port]['times'], flows[port]['windows'], color='b',lw='0.5')\n",
    "            ax1.title.set_text(title)\n",
    "            ax2.plot(times, windows,color='r',lw='0.5')\n",
    "            ax2.title.set_text(title+\"_smooth\")\n",
    "#             plt.savefig(title + \".png\")\n",
    "            plt.show()\n",
    "lags=[15,25,35,45]\n",
    "files = []\n",
    "for l in lags :\n",
    "    name = \"test\"+str(l)\n",
    "    files.append(name)\n"
   ]
  },
  {
   "cell_type": "markdown",
   "id": "76e38d3f",
   "metadata": {},
   "source": [
    "# Working with graphs"
   ]
  },
  {
   "cell_type": "code",
   "execution_count": null,
   "id": "52f4115f",
   "metadata": {},
   "outputs": [],
   "source": [
    "post_delays = [\"15\",\"25\",\"35\",\"45\"]\n",
    "link_speeds = [\"100\", \"200\", \"500\", \"1000\"]\n",
    "ccs = [\"cubic\", \"reno\", \"bbr\"]"
   ]
  },
  {
   "cell_type": "code",
   "execution_count": null,
   "id": "1b96256e",
   "metadata": {},
   "outputs": [],
   "source": [
    "files = []\n",
    "for cc in ccs :\n",
    "    for d in post_delays:\n",
    "        for link_speed in link_speeds :\n",
    "            files.append(cc+\"-\"+d+\"-\"+link_speed)"
   ]
  },
  {
   "cell_type": "code",
   "execution_count": null,
   "id": "83c93661",
   "metadata": {},
   "outputs": [],
   "source": [
    "def get_files(cc=\"\",d=\"\",s=\"\"):\n",
    "    new_f = []\n",
    "    cc_list = [cc]\n",
    "    d_list = [d]\n",
    "    s_list = [s]\n",
    "    if cc == \"\" :\n",
    "        cc_list = ccs\n",
    "    if d == \"\" :\n",
    "        d_list = post_delays\n",
    "    if s == \"\" :\n",
    "        s_list = link_speeds\n",
    "    for de in d_list :\n",
    "        for sp in s_list:\n",
    "            for co in cc_list:\n",
    "                new_f.append(co+\"-\"+de+\"-\"+sp)\n",
    "    return new_f"
   ]
  },
  {
   "cell_type": "code",
   "execution_count": null,
   "id": "f4d9babd",
   "metadata": {},
   "outputs": [],
   "source": [
    "import pprint"
   ]
  },
  {
   "cell_type": "code",
   "execution_count": null,
   "id": "64bd4a3b",
   "metadata": {},
   "outputs": [],
   "source": [
    "def get_window(f,p):\n",
    "    algo_cc = f\n",
    "    flows = process_flows(algo_cc, \"./Nebby/measurements/\")\n",
    "    data = []\n",
    "    time = []\n",
    "    for port in flows.keys():\n",
    "        if flows[port][\"last_ack\"] == 0 :\n",
    "            continue\n",
    "        else :\n",
    "            data = flows[port]['windows']\n",
    "            time = flows[port]['times']\n",
    "            if p == \"p\":\n",
    "                for i in range(len(flows[port]['windows'])):\n",
    "                    print(\"{0:10}{1:10}\".format(flows[port]['times'][i], flows[port]['windows'][i]))\n",
    "        time_index = len(time)-1\n",
    "        for index in range(len(flows[port]['times'])-1):\n",
    "            if flows[port]['times'][index+1] - flows[port]['times'][index] > 1 :\n",
    "                time_index = index\n",
    "        time_last = flows[port]['times'][time_index]\n",
    "        data = data[:time_index+1]\n",
    "        time = time[:time_index+1]\n",
    "        return data, time"
   ]
  },
  {
   "cell_type": "code",
   "execution_count": null,
   "id": "5bf18452",
   "metadata": {},
   "outputs": [],
   "source": [
    "def plot_g(files,z=1):\n",
    "    for f in files:\n",
    "        algo_cc = f\n",
    "        flows = process_flows(algo_cc, \"./Nebby/measurements/\")\n",
    "        for port in flows.keys():\n",
    "            if flows[port][\"last_ack\"] == 0 :\n",
    "                continue\n",
    "            smooth = \"\"\n",
    "#             times, windows = smoothen(flows[port], \"cma\", 20) \n",
    "#             fig, (ax1,ax2) = plt.subplots(2,1, figsize=(10,10))\n",
    "#             title = f + \" : \" + str(port) + smooth\n",
    "#             ax1.plot(flows[port]['times'], flows[port]['windows'], color='b',lw='0.5')\n",
    "#             ax1.title.set_text(title)\n",
    "#             ax2.plot(times, windows,color='r',lw='0.5')\n",
    "#             ax2.title.set_text(title+\"_smooth\")\n",
    "            fig, ax, = plt.subplots(1,1, figsize=(20,10))\n",
    "            ax.plot(flows[port]['times'][1:int(len(flows[port]['times'])/z)], flows[port]['windows'][1:int(len(flows[port]['times'])/z)], color='b',lw='0.5')\n",
    "#             ax.scatter(flows[port]['times'], flows[port]['windows'], color='r', s=5)\n",
    "            ax.title.set_text(f)\n",
    "#             plt.savefig(title + \".png\")\n",
    "            plt.show()"
   ]
  },
  {
   "cell_type": "code",
   "execution_count": null,
   "id": "7c2d5375",
   "metadata": {},
   "outputs": [],
   "source": []
  },
  {
   "cell_type": "code",
   "execution_count": null,
   "id": "0d313108",
   "metadata": {},
   "outputs": [],
   "source": [
    "curr_files = get_files(\"cubic\",\"15\",\"500\")\n",
    "get_window(curr_files)"
   ]
  },
  {
   "cell_type": "code",
   "execution_count": null,
   "id": "5dfd0112",
   "metadata": {},
   "outputs": [],
   "source": [
    "curr_files = get_files(\"cubic\",\"15\",\"100\")\n",
    "plot_g(curr_files,z=10)"
   ]
  },
  {
   "cell_type": "code",
   "execution_count": null,
   "id": "abf262cb",
   "metadata": {
    "scrolled": false
   },
   "outputs": [],
   "source": [
    "curr_files = get_files(\"bbr\",\"\",\"1000\")\n",
    "plot_g(curr_files)"
   ]
  },
  {
   "cell_type": "markdown",
   "id": "e2ae7008",
   "metadata": {},
   "source": [
    "### CC Same, PD diff, LS Same\n",
    "##### 100 and 200 are pretty low, checking on 500 and 1000"
   ]
  },
  {
   "cell_type": "code",
   "execution_count": null,
   "id": "c5faaa95",
   "metadata": {},
   "outputs": [],
   "source": [
    "link_speeds = [\"500\", \"1000\"]"
   ]
  },
  {
   "cell_type": "code",
   "execution_count": null,
   "id": "ab22a18f",
   "metadata": {
    "scrolled": false
   },
   "outputs": [],
   "source": [
    "curr_files = get_files(\"reno\",\"\",\"500\")\n",
    "plot_g(curr_files)"
   ]
  },
  {
   "cell_type": "code",
   "execution_count": null,
   "id": "94ee17c9",
   "metadata": {
    "scrolled": false
   },
   "outputs": [],
   "source": [
    "curr_files = get_files(\"cubic\",\"\",\"500\")\n",
    "plot_g(curr_files)"
   ]
  },
  {
   "cell_type": "code",
   "execution_count": null,
   "id": "5c7d3a83",
   "metadata": {
    "scrolled": false
   },
   "outputs": [],
   "source": [
    "curr_files = get_files(\"bbr\",\"\",\"500\")\n",
    "plot_g(curr_files)"
   ]
  },
  {
   "cell_type": "markdown",
   "id": "eee07746",
   "metadata": {},
   "source": [
    "### CC Same, PD same, LS diff "
   ]
  },
  {
   "cell_type": "code",
   "execution_count": null,
   "id": "644e926e",
   "metadata": {
    "scrolled": false
   },
   "outputs": [],
   "source": [
    "curr_files = get_files(\"cubic\",\"35\",\"\")\n",
    "plot_g(curr_files)"
   ]
  },
  {
   "cell_type": "code",
   "execution_count": null,
   "id": "3c0ecd35",
   "metadata": {
    "scrolled": false
   },
   "outputs": [],
   "source": [
    "curr_files = get_files(\"bbr\",\"35\",\"\")\n",
    "plot_g(curr_files)"
   ]
  },
  {
   "cell_type": "code",
   "execution_count": null,
   "id": "63f41712",
   "metadata": {
    "scrolled": false
   },
   "outputs": [],
   "source": [
    "curr_files = get_files(\"reno\",\"35\",\"\")\n",
    "plot_g(curr_files)"
   ]
  },
  {
   "cell_type": "markdown",
   "id": "00e187af",
   "metadata": {},
   "source": [
    "### Zooming in "
   ]
  },
  {
   "cell_type": "code",
   "execution_count": null,
   "id": "1c33759f",
   "metadata": {
    "scrolled": false
   },
   "outputs": [],
   "source": [
    "curr_files = get_files(\"cubic\",\"\",\"100\")\n",
    "plot_g(curr_files,z=10)"
   ]
  },
  {
   "cell_type": "code",
   "execution_count": null,
   "id": "e1ae7e80",
   "metadata": {},
   "outputs": [],
   "source": [
    "curr_files = get_files(\"bbr\",\"\",\"100\")\n",
    "plot_g(curr_files,z=10)"
   ]
  },
  {
   "cell_type": "markdown",
   "id": "01ab8469",
   "metadata": {},
   "source": [
    "### CC Diff, PD 35ms, LS 500ms\n"
   ]
  },
  {
   "cell_type": "code",
   "execution_count": null,
   "id": "7149c8e9",
   "metadata": {
    "scrolled": false
   },
   "outputs": [],
   "source": [
    "curr_files = get_files(\"\",\"35\",\"500\")\n",
    "plot_g(curr_files)"
   ]
  },
  {
   "cell_type": "markdown",
   "id": "080a46a7",
   "metadata": {},
   "source": [
    "## Running different filters on it."
   ]
  },
  {
   "cell_type": "code",
   "execution_count": null,
   "id": "e2c2837b",
   "metadata": {},
   "outputs": [],
   "source": [
    "from scipy.fft import rfft, rfftfreq\n",
    "from scipy.fft import irfft\n",
    "import numpy as np\n",
    "import statistics\n",
    "curr_files = get_files(\"cubic\",\"35\",\"500\")\n",
    "data, time = get_window(curr_files[0], \"n\")\n",
    "def get_fft(data):\n",
    "    n = len(data)\n",
    "    data_step = 0.00001\n",
    "    yf = rfft(data)\n",
    "    xf = rfftfreq(n,data_step)\n",
    "    plt.plot(xf, np.abs(yf))\n",
    "    return yf,xf\n",
    "yf, xf = get_fft(data)\n",
    "abs_yf = np.abs(yf)\n",
    "sort_abs_yf = sorted(abs_yf)\n",
    "xf = rfftfreq(n,data_step)\n",
    "thresh  = abs_yf.mean()\n",
    "indices = abs_yf<thresh\n",
    "yf_clean = indices*yf\n",
    "plt.plot(xf[1:],np.abs(yf_clean)[1:])\n",
    "plt.show()\n",
    "#Experiment :\n",
    "#Let us run a loop to produce plots and see \n",
    "for i in range(0,len(sort_abs_yf),500):    \n",
    "    thresh = sort_abs_yf[i]\n",
    "    indices = abs_yf<thresh\n",
    "    yf_clean = indices*yf\n",
    "    new_f_clean = irfft(yf_clean)\n",
    "    plt.title(\"Top \" + str(i))\n",
    "    plt.plot(time, data, color=\"b\", alpha=0.5, label='original signal')\n",
    "    plt.plot(time[1:], new_f_clean, 'k', label='FFT smoothing}', linewidth=2)\n",
    "    plt.legend()\n",
    "    plt.show()\n",
    "#Experiment :\n",
    "#Let us run a loop to produce plots and see \n",
    "# for i in range(50,500,50):    \n",
    "#     thresh = sort_abs_yf[i]\n",
    "#     indices = abs_yf>=thresh\n",
    "#     yf_clean = indices*yf\n",
    "#     new_f_clean = irfft(yf_clean)\n",
    "#     plt.title(\"Top \" + str(i))\n",
    "#     plt.plot(time, data, color=\"b\", alpha=0.5, label='original signal')\n",
    "#     plt.plot(time[1:], new_f_clean, 'k', label='FFT smoothing}', linewidth=2)\n",
    "#     plt.legend()\n",
    "#     plt.show()"
   ]
  },
  {
   "cell_type": "code",
   "execution_count": null,
   "id": "ad81ac8e",
   "metadata": {},
   "outputs": [],
   "source": [
    "from scipy.fft import rfft, rfftfreq\n",
    "import numpy as np\n",
    "import statistics"
   ]
  },
  {
   "cell_type": "code",
   "execution_count": null,
   "id": "f6cd3800",
   "metadata": {},
   "outputs": [],
   "source": [
    "curr_files = get_files(\"cubic\",\"35\",\"500\")\n",
    "data, time = get_window(curr_files[0], \"n\")"
   ]
  },
  {
   "cell_type": "code",
   "execution_count": null,
   "id": "0dc0fc14",
   "metadata": {},
   "outputs": [],
   "source": [
    "len(data)"
   ]
  },
  {
   "cell_type": "code",
   "execution_count": null,
   "id": "aa8deb4b",
   "metadata": {},
   "outputs": [],
   "source": [
    "len(time)"
   ]
  },
  {
   "cell_type": "code",
   "execution_count": null,
   "id": "47a3674b",
   "metadata": {},
   "outputs": [],
   "source": [
    "def get_fft(data):\n",
    "    n = len(data)\n",
    "    data_step = 0.00001\n",
    "    yf = rfft(data)\n",
    "    xf = rfftfreq(n,data_step)\n",
    "    plt.plot(xf, np.abs(yf))\n",
    "    return yf,xf"
   ]
  },
  {
   "cell_type": "code",
   "execution_count": null,
   "id": "fc094acd",
   "metadata": {},
   "outputs": [],
   "source": [
    "yf, xf = get_fft(data)"
   ]
  },
  {
   "cell_type": "code",
   "execution_count": null,
   "id": "750b1d72",
   "metadata": {},
   "outputs": [],
   "source": [
    "abs_yf = np.abs(yf)\n",
    "sort_abs_yf = sorted(abs_yf, reverse=True)\n",
    "xf = rfftfreq(n,data_step)"
   ]
  },
  {
   "cell_type": "code",
   "execution_count": null,
   "id": "81efebd2",
   "metadata": {},
   "outputs": [],
   "source": [
    "sort_abs_yf[0:10]"
   ]
  },
  {
   "cell_type": "code",
   "execution_count": null,
   "id": "05a164ef",
   "metadata": {},
   "outputs": [],
   "source": []
  },
  {
   "cell_type": "code",
   "execution_count": null,
   "id": "40b0629f",
   "metadata": {},
   "outputs": [],
   "source": [
    "mean = statistics.mean(sort_abs_yf)\n",
    "mean"
   ]
  },
  {
   "cell_type": "code",
   "execution_count": null,
   "id": "f7572779",
   "metadata": {},
   "outputs": [],
   "source": [
    "indices = abs_yf>mean\n",
    "yf_clean = indices*yf"
   ]
  },
  {
   "cell_type": "code",
   "execution_count": null,
   "id": "e8e9ded3",
   "metadata": {},
   "outputs": [],
   "source": [
    "plt.plot(xf[1:],np.abs(yf_clean)[1:])"
   ]
  },
  {
   "cell_type": "code",
   "execution_count": null,
   "id": "fd0f2282",
   "metadata": {},
   "outputs": [],
   "source": [
    "from scipy.fft import irfft"
   ]
  },
  {
   "cell_type": "code",
   "execution_count": null,
   "id": "8c405779",
   "metadata": {
    "scrolled": true
   },
   "outputs": [],
   "source": [
    "#Experiment :\n",
    "#Let us run a loop to produce plots and see \n",
    "for i in range(10,50,10):    \n",
    "    thresh = sort_abs_yf[i]\n",
    "    indices = abs_yf>=thresh\n",
    "    yf_clean = indices*yf\n",
    "    new_f_clean = irfft(yf_clean)\n",
    "    plt.title(\"Top \" + str(i))\n",
    "    plt.plot(time, data, color=\"b\", alpha=0.5, label='original signal')\n",
    "    plt.plot(time[1:], new_f_clean, 'k', label='FFT smoothing}', linewidth=2)\n",
    "    plt.legend()\n",
    "    plt.show()\n",
    "#Experiment :\n",
    "#Let us run a loop to produce plots and see \n",
    "for i in range(50,500,50):    \n",
    "    thresh = sort_abs_yf[i]\n",
    "    indices = abs_yf>=thresh\n",
    "    yf_clean = indices*yf\n",
    "    new_f_clean = irfft(yf_clean)\n",
    "    plt.title(\"Top \" + str(i))\n",
    "    plt.plot(time, data, color=\"b\", alpha=0.5, label='original signal')\n",
    "    plt.plot(time[1:], new_f_clean, 'k', label='FFT smoothing}', linewidth=2)\n",
    "    plt.legend()\n",
    "    plt.show()"
   ]
  },
  {
   "cell_type": "code",
   "execution_count": null,
   "id": "e40cdfa6",
   "metadata": {
    "scrolled": false
   },
   "outputs": [],
   "source": []
  },
  {
   "cell_type": "code",
   "execution_count": null,
   "id": "76041d08",
   "metadata": {},
   "outputs": [],
   "source": [
    "curr_files = get_files(\"reno\",\"35\",\"500\")\n",
    "data, time = get_window(curr_files[0], \"n\")\n",
    "print(len(data), len(time))\n",
    "yf, xf = get_fft(data)\n",
    "print(len(yf), len(xf))\n",
    "abs_yf = np.abs(yf)\n",
    "sort_abs_yf = sorted(abs_yf, reverse=True)\n",
    "mean = statistics.mean(sort_abs_yf)\n",
    "indices = abs_yf>mean\n",
    "yf_clean = indices*yf"
   ]
  },
  {
   "cell_type": "code",
   "execution_count": null,
   "id": "72149fc9",
   "metadata": {},
   "outputs": [],
   "source": [
    "plt.plot(xf[1:],np.abs(yf_clean)[1:])"
   ]
  },
  {
   "cell_type": "code",
   "execution_count": null,
   "id": "436f1fef",
   "metadata": {},
   "outputs": [],
   "source": [
    "thresh = mean\n",
    "indices = abs_yf>=thresh\n",
    "yf_clean = indices*yf\n",
    "new_f_clean = irfft(yf_clean)\n",
    "plt.title(\"Mean\")\n",
    "plt.plot(time[1:], new_f_clean)\n",
    "plt.show()"
   ]
  },
  {
   "cell_type": "code",
   "execution_count": null,
   "id": "efd2558d",
   "metadata": {
    "scrolled": false
   },
   "outputs": [],
   "source": [
    "#Experiment :\n",
    "#Let us run a loop to produce plots and see \n",
    "for i in range(10,50,10):    \n",
    "    thresh = sort_abs_yf[i]\n",
    "    indices = abs_yf>=thresh\n",
    "    yf_clean = indices*yf\n",
    "    new_f_clean = irfft(yf_clean)\n",
    "    plt.title(\"Top \" + str(i))\n",
    "    plt.plot(time, data, color=\"b\", alpha=0.5, label='original signal')\n",
    "    plt.plot(time[1:], new_f_clean, 'k', label='FFT smoothing}', linewidth=2)\n",
    "    plt.legend()\n",
    "    plt.show()\n",
    "#Experiment :\n",
    "#Let us run a loop to produce plots and see \n",
    "for i in range(50,500,50):    \n",
    "    thresh = sort_abs_yf[i]\n",
    "    indices = abs_yf>=thresh\n",
    "    yf_clean = indices*yf\n",
    "    new_f_clean = irfft(yf_clean)\n",
    "    plt.title(\"Top \" + str(i))\n",
    "    plt.plot(time, data, color=\"b\", alpha=0.5, label='original signal')\n",
    "    plt.plot(time[1:], new_f_clean, 'k', label='FFT smoothing}', linewidth=2)\n",
    "    plt.legend()\n",
    "    plt.show()"
   ]
  },
  {
   "cell_type": "code",
   "execution_count": null,
   "id": "71fde2fe",
   "metadata": {
    "scrolled": false
   },
   "outputs": [],
   "source": []
  },
  {
   "cell_type": "code",
   "execution_count": null,
   "id": "63ec1049",
   "metadata": {},
   "outputs": [],
   "source": [
    "curr_files = get_files(\"bbr\",\"35\",\"500\")\n",
    "data, time = get_window(curr_files[0], \"n\")\n",
    "print(len(data), len(time))\n",
    "yf, xf = get_fft(data)\n",
    "plt.show()\n",
    "print(len(yf), len(xf))\n",
    "abs_yf = np.abs(yf)\n",
    "sort_abs_yf = sorted(abs_yf, reverse=True)\n",
    "mean = statistics.mean(sort_abs_yf)\n",
    "indices = abs_yf>mean\n",
    "yf_clean = indices*yf\n",
    "plt.title(\"Greater than Mean\")\n",
    "plt.plot(xf[1:],np.abs(yf_clean)[1:])"
   ]
  },
  {
   "cell_type": "code",
   "execution_count": null,
   "id": "81cc5031",
   "metadata": {},
   "outputs": [],
   "source": [
    "thresh = mean\n",
    "indices = abs_yf>=thresh\n",
    "yf_clean = indices*yf\n",
    "new_f_clean = irfft(yf_clean)\n",
    "plt.title(\"Mean\")\n",
    "plt.plot(time, new_f_clean)\n",
    "plt.show()"
   ]
  },
  {
   "cell_type": "code",
   "execution_count": null,
   "id": "ddf451e0",
   "metadata": {},
   "outputs": [],
   "source": [
    "#Experiment :\n",
    "#Let us run a loop to produce plots and see \n",
    "for i in range(10,50,10):    \n",
    "    thresh = sort_abs_yf[i]\n",
    "    indices = abs_yf>=thresh\n",
    "    yf_clean = indices*yf\n",
    "    new_f_clean = irfft(yf_clean)\n",
    "    plt.title(\"Top \" + str(i))\n",
    "    plt.plot(time, data, color=\"b\", alpha=0.5, label='original signal')\n",
    "    plt.plot(time, new_f_clean, 'k', label='FFT smoothing}', linewidth=2)\n",
    "    plt.legend()\n",
    "    plt.show()\n",
    "#Experiment :\n",
    "#Let us run a loop to produce plots and see \n",
    "for i in range(50,500,50):    \n",
    "    thresh = sort_abs_yf[i]\n",
    "    indices = abs_yf>=thresh\n",
    "    yf_clean = indices*yf\n",
    "    new_f_clean = irfft(yf_clean)\n",
    "    plt.title(\"Top \" + str(i))\n",
    "    plt.plot(time, data, color=\"b\", alpha=0.5, label='original signal')\n",
    "    plt.plot(time, new_f_clean, 'k', label='FFT smoothing}', linewidth=2)\n",
    "    plt.legend()\n",
    "    plt.show()"
   ]
  },
  {
   "cell_type": "code",
   "execution_count": null,
   "id": "2fe03d77",
   "metadata": {},
   "outputs": [],
   "source": [
    "plt.plot(time, data)"
   ]
  },
  {
   "cell_type": "markdown",
   "id": "103bba0a",
   "metadata": {},
   "source": [
    "# Using wavelet transform: How is it different from Fourier. \n",
    "#### Fourier works well when the frequency spectrum is stationary. As in you take the signal from any time to any time, the frequency spectrum would always remain the same. However, if you can see here, the peaks occur regularly but not exactly at regular intervals. Plus the first peak is different from other peaks. In these cases wavelet transform is used. It basically introduces another feature of time to work with in the freqeuncy spectrum of a signal.(Motivation to do this is 2 fold : Get a better filter, or get a frequency pattern, through which maybe classification becomes easier). So we can use a DWT filter."
   ]
  },
  {
   "cell_type": "code",
   "execution_count": null,
   "id": "84fafcd1",
   "metadata": {},
   "outputs": [],
   "source": [
    "import pywt"
   ]
  },
  {
   "cell_type": "code",
   "execution_count": null,
   "id": "4545ae5e",
   "metadata": {},
   "outputs": [],
   "source": [
    "signal = data"
   ]
  },
  {
   "cell_type": "code",
   "execution_count": null,
   "id": "70e87b23",
   "metadata": {},
   "outputs": [],
   "source": [
    "import pywt\n",
    "signal = data\n",
    "def lowpassfilter(signal, thresh=0.63, wavelet=\"db4\"):\n",
    "    thresh = thresh*np.nanmax(signal)\n",
    "    coeff = pywt.wavedec(signal, wavelet, mode=\"per\")\n",
    "    coeff[1:] = (pywt.threshold(i, value=thresh, mode=\"hard\") for i in coeff[1:])\n",
    "    reconstructed_signal = pywt.waverec(coeff, wavelet, mode=\"per\")\n",
    "    return reconstructed_signal\n",
    "def plot_dwt(thresh,wv=\"db4\"):\n",
    "    fig, ax = plt.subplots(figsize=(12,8))\n",
    "    ax.plot(signal, color=\"b\", alpha=0.5, label='original signal')\n",
    "    rec = lowpassfilter(signal, 0.5, wv)\n",
    "    ax.plot(rec, 'k', label='DWT smoothing}', linewidth=2)\n",
    "    ax.legend()\n",
    "    ax.set_title('Removing High Frequency Noise with DWT', fontsize=18)\n",
    "    ax.set_ylabel('Signal Amplitude', fontsize=16)\n",
    "    ax.set_xlabel('Sample No', fontsize=16)\n",
    "    plt.show()\n",
    "plot_dwt(0.1,\"rbio1.5\")"
   ]
  },
  {
   "cell_type": "code",
   "execution_count": null,
   "id": "e9f7cdf0",
   "metadata": {},
   "outputs": [],
   "source": [
    "def plot_dwt(thresh,wv=\"db4\"):\n",
    "    fig, ax = plt.subplots(figsize=(12,8))\n",
    "    ax.plot(signal, color=\"b\", alpha=0.5, label='original signal')\n",
    "    rec = lowpassfilter(signal, 0.5, wv)\n",
    "    ax.plot(rec, 'k', label='DWT smoothing}', linewidth=2)\n",
    "    ax.legend()\n",
    "    ax.set_title('Removing High Frequency Noise with DWT', fontsize=18)\n",
    "    ax.set_ylabel('Signal Amplitude', fontsize=16)\n",
    "    ax.set_xlabel('Sample No', fontsize=16)\n",
    "    plt.show()"
   ]
  },
  {
   "cell_type": "code",
   "execution_count": null,
   "id": "8b1e4f4a",
   "metadata": {},
   "outputs": [],
   "source": [
    "plot_dwt(0.1,\"rbio1.5\")"
   ]
  },
  {
   "cell_type": "code",
   "execution_count": null,
   "id": "7a6517b4",
   "metadata": {},
   "outputs": [],
   "source": [
    "plot_dwt(0.5,\"db3\")"
   ]
  },
  {
   "cell_type": "code",
   "execution_count": null,
   "id": "a3a64f0c",
   "metadata": {
    "scrolled": false
   },
   "outputs": [],
   "source": [
    "plot_dwt(0.5,\"sym7\")"
   ]
  },
  {
   "cell_type": "markdown",
   "id": "42b4de41",
   "metadata": {},
   "source": [
    "## This sym7 is better than the other results.\n"
   ]
  },
  {
   "cell_type": "markdown",
   "id": "91e278c2",
   "metadata": {},
   "source": [
    "# Getting the sites "
   ]
  },
  {
   "cell_type": "code",
   "execution_count": null,
   "id": "55ed06fc",
   "metadata": {},
   "outputs": [],
   "source": [
    "file = \"websites.txt\""
   ]
  },
  {
   "cell_type": "code",
   "execution_count": null,
   "id": "02937b50",
   "metadata": {},
   "outputs": [],
   "source": [
    "with open(file) as f :\n",
    "    lines = f.readlines()\n",
    "for line in range(len(lines)):\n",
    "    if(line not in  [2,3,5,7,17,18,19,25]):\n",
    "        name = lines[line][:-5]\n",
    "        print(name.lower(), end=\" \")"
   ]
  },
  {
   "cell_type": "code",
   "execution_count": null,
   "id": "6e599736",
   "metadata": {},
   "outputs": [],
   "source": []
  }
 ],
 "metadata": {
  "kernelspec": {
   "display_name": "Python 3 (ipykernel)",
   "language": "python",
   "name": "python3"
  },
  "language_info": {
   "codemirror_mode": {
    "name": "ipython",
    "version": 3
   },
   "file_extension": ".py",
   "mimetype": "text/x-python",
   "name": "python",
   "nbconvert_exporter": "python",
   "pygments_lexer": "ipython3",
   "version": "3.10.6"
  }
 },
 "nbformat": 4,
 "nbformat_minor": 5
}
